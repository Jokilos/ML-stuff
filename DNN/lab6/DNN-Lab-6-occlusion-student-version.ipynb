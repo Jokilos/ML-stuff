{
 "cells": [
  {
   "cell_type": "markdown",
   "metadata": {
    "id": "N7kJ7igKEtjW"
   },
   "source": [
    "# Saliency map\n",
    "\n",
    "In this task you have a trained classifier and you want to see what parts of the image are the most important ones for the classifier to predict selected class. One of the simplest method to do this is to occlude some parts of the image and see how big is the drop in the class probability compared to the probability for the original image.\n",
    "\n",
    "We want you to create a heatmap of those occlusions (2D np.array called `heatmap`). Take the original image and replace squares of size 20x20 centered at point (i,j) with a value of your choice. Then pass the image trough the network and calculate the drop in probability class. Do this on a grid with stride 10 ((0,0), (0,10), ..., (10,0), (10,10), ..., (220,220)), so your heatmap is a matrix with 23 rows and 23 columns.\n",
    "\n",
    "You have to write a code to calculate this heatmap, that runs under 2 minutes."
   ]
  },
  {
   "cell_type": "markdown",
   "metadata": {
    "id": "fyzEytJjncyJ"
   },
   "source": [
    "###### Definitions"
   ]
  },
  {
   "cell_type": "code",
   "execution_count": 1,
   "metadata": {
    "id": "aLAXUumfTCkB"
   },
   "outputs": [],
   "source": [
    "from torchvision.models import mobilenet_v2, MobileNet_V2_Weights\n",
    "from PIL import Image\n",
    "import requests\n",
    "import numpy as np\n",
    "import torch\n",
    "from torchvision import transforms\n",
    "import matplotlib.pyplot as plt\n",
    "\n",
    "\n",
    "def get_image():\n",
    "    url = \"http://www.mimuw.edu.pl/~cygan/welonka.jpg\"\n",
    "    im = Image.open(requests.get(url, stream=True).raw)\n",
    "    normalize = transforms.Normalize(mean=[0.485, 0.456, 0.406],\n",
    "                                    std=[0.229, 0.224, 0.225])\n",
    "    size = 224\n",
    "    transformations = transforms.Compose([\n",
    "            transforms.Resize((size, size)),\n",
    "            transforms.ToTensor(),\n",
    "            normalize,\n",
    "        ])\n",
    "    img_tensor = transformations(im.convert(\"RGB\")).unsqueeze(0)\n",
    "    return img_tensor\n",
    "\n",
    "def get_model():\n",
    "    model = mobilenet_v2(weights=MobileNet_V2_Weights.IMAGENET1K_V1)\n",
    "    model.eval()\n",
    "    return model\n",
    "\n",
    "def plot_image(img_tensor, show = True):\n",
    "    img_tensor_c = img_tensor.clone()\n",
    "    img_tensor_c -= img_tensor_c.min()\n",
    "    img_tensor_c /= img_tensor_c.max()\n",
    "    plt.imshow(img_tensor_c[0].permute(1, 2, 0))\n",
    "    if show:\n",
    "        plt.show()\n",
    "\n",
    "def plot_heatmap(heatmap):\n",
    "    plt.matshow(heatmap)\n",
    "    plt.colorbar()\n",
    "    plt.show()"
   ]
  },
  {
   "cell_type": "markdown",
   "metadata": {
    "id": "nCEw_JFGnia5"
   },
   "source": [
    "# Heatmap code"
   ]
  },
  {
   "cell_type": "code",
   "execution_count": 2,
   "metadata": {
    "id": "EYzuFrZNIpHk"
   },
   "outputs": [],
   "source": [
    "device = torch.device(\"cuda:0\" if torch.cuda.is_available() else \"cpu\")\n",
    "\n",
    "def get_tensor_size_MB(tensor):\n",
    "    num_elements = tensor.numel() # Total number of elements\n",
    "    element_size = tensor.element_size() # Size of one element in bytes\n",
    "    total_memory = num_elements * element_size # Total memory in bytes\n",
    "    # print(f\"Total memory: {total_memory / (2 ** 20):.2f} MB\")\n",
    "\n",
    "    return total_memory / (2 ** 20)"
   ]
  },
  {
   "cell_type": "code",
   "execution_count": 3,
   "metadata": {},
   "outputs": [],
   "source": [
    "def calc_predictions(image_tensor, model, ram = 32, show = False):\n",
    "    mem = get_tensor_size_MB(image_tensor)\n",
    "    batches = int(mem / ram + 1)\n",
    "    probabilities = []\n",
    "\n",
    "    if show:\n",
    "        plot_image(image_tensor)\n",
    "\n",
    "    if batches > 1:\n",
    "        idxs = np.linspace(0, len(image_tensor), batches, dtype = int)\n",
    "        ranges = np.vstack([idxs[:-1], idxs[1:]]).T\n",
    "    else:\n",
    "        ranges = [[0, len(image_tensor)]]\n",
    "\n",
    "    for left, right in ranges:\n",
    "        batch = image_tensor[[np.arange(left, right)]]\n",
    "        result = model(batch)\n",
    "\n",
    "        batch_probs = torch.nn.functional.softmax(result, dim=-1)\n",
    "        batch_probs = batch_probs.detach().numpy()\n",
    "        probabilities += batch_probs[:, 1].tolist()\n",
    "\n",
    "    return probabilities \n"
   ]
  },
  {
   "cell_type": "code",
   "execution_count": null,
   "metadata": {},
   "outputs": [
    {
     "data": {
      "image/png": "[encoded data removed]",
      "text/plain": [
       "<Figure size 480x480 with 2 Axes>"
      ]
     },
     "metadata": {},
     "output_type": "display_data"
    },
    {
     "ename": "AssertionError",
     "evalue": "",
     "output_type": "error",
     "traceback": [
      "\u001b[0;31m---------------------------------------------------------------------------\u001b[0m",
      "\u001b[0;31mAssertionError\u001b[0m                            Traceback (most recent call last)",
      "Cell \u001b[0;32mIn[6], line 33\u001b[0m\n\u001b[1;32m     31\u001b[0m heatmap \u001b[38;5;241m=\u001b[39m generate_heatmap_vectorized(get_model(), get_image())\n\u001b[1;32m     32\u001b[0m plot_heatmap(heatmap)\n\u001b[0;32m---> 33\u001b[0m \u001b[38;5;28;01massert\u001b[39;00m \u001b[38;5;28;01mFalse\u001b[39;00m\n",
      "\u001b[0;31mAssertionError\u001b[0m: "
     ]
    }
   ],
   "source": [
    "SQUARE_SIZE = 10\n",
    "STRIDE = 7\n",
    "\n",
    "def generate_heatmap_vectorized(model, img_tensor):\n",
    "    size = img_tensor.shape[-1]\n",
    "    xx, yy = np.meshgrid(np.arange(0, size, STRIDE), np.arange(0, size, STRIDE))\n",
    "    centers = np.vstack([xx.reshape(-1), yy.reshape(-1)]).T\n",
    "\n",
    "    first_prob = calc_predictions(img_tensor, model)[0]\n",
    "    img_tensor = torch.tile(img_tensor, (len(centers),1,1,1)).detach()\n",
    "\n",
    "    rows, cols = np.arange(size), np.arange(size)\n",
    "    row_mask = (rows[None, :, None] >= centers[:, 0, None, None] - SQUARE_SIZE) \n",
    "    row_mask &= (rows[None, :, None] < centers[:, 0, None, None] + SQUARE_SIZE)\n",
    "\n",
    "    col_mask = (cols[None, None, :] >= centers[:, 1, None, None] - SQUARE_SIZE)\n",
    "    col_mask &= (cols[None, None, :] < centers[:, 1, None, None] + SQUARE_SIZE)\n",
    "\n",
    "    full_mask = row_mask & col_mask\n",
    "    full_mask = np.tile(full_mask[:, None, :, :], (1,3,1,1))\n",
    "\n",
    "    img_tensor[full_mask] = 0\n",
    "\n",
    "    with torch.no_grad():\n",
    "      probabilities = np.array(calc_predictions(img_tensor, model))\n",
    "    probabilities = probabilities.reshape((len(xx), len(yy)))\n",
    "    probabilities = probabilities.swapaxes(0, 1)\n",
    "    \n",
    "    return first_prob - probabilities\n",
    "\n",
    "heatmap = generate_heatmap_vectorized(get_model(), get_image())\n",
    "plot_heatmap(heatmap)"
   ]
  },
  {
   "cell_type": "code",
   "execution_count": 7,
   "metadata": {},
   "outputs": [
    {
     "data": {
      "image/png": "[encoded data removed]",
      "text/plain": [
       "<Figure size 480x480 with 2 Axes>"
      ]
     },
     "metadata": {},
     "output_type": "display_data"
    }
   ],
   "source": [
    "SQUARE_SIZE = 10\n",
    "STRIDE = 7\n",
    "\n",
    "def generate_heatmap(model, img_tensor):\n",
    "    size = img_tensor.shape[-1]\n",
    "    xx, yy = np.meshgrid(np.arange(0, size, STRIDE), np.arange(0, size, STRIDE))\n",
    "    centers = np.vstack([xx.reshape(-1), yy.reshape(-1)]).T\n",
    "\n",
    "    first_prob = calc_predictions(img_tensor, model)[0]\n",
    "    heatmap = np.zeros((len(xx) * len(yy)))\n",
    "\n",
    "    for i, (x, y) in enumerate(centers):\n",
    "        xs, xe = np.max([0, x - SQUARE_SIZE]), np.min([size, x + SQUARE_SIZE])\n",
    "        ys, ye = np.max([0, y - SQUARE_SIZE]), np.min([size, y + SQUARE_SIZE])\n",
    "\n",
    "        occluded = img_tensor.clone()\n",
    "\n",
    "        occluded[:, :, ys:ye, xs:xe] = 0\n",
    "\n",
    "        with torch.no_grad():\n",
    "          pred = calc_predictions(occluded, model, show = False)\n",
    "        heatmap[i] = pred[0]\n",
    "\n",
    "    heatmap = first_prob - heatmap.reshape((len(xx), len(yy)))\n",
    "\n",
    "    return heatmap \n",
    "\n",
    "heatmap = generate_heatmap(get_model(), get_image())\n",
    "plot_heatmap(heatmap)\n"
   ]
  },
  {
   "cell_type": "markdown",
   "metadata": {
    "id": "tvZeJY1XnnWQ"
   },
   "source": [
    "# Test"
   ]
  },
  {
   "cell_type": "code",
   "execution_count": null,
   "metadata": {
    "colab": {
     "base_uri": "https://localhost:8080/",
     "height": 402,
     "referenced_widgets": [
      "aeca00020e884e99b9ff78022862d211",
      "9a733a4237e74306be0638cdc143b316",
      "02fe0c09ff8345e68ca73185dd3ac27e",
      "b15974b9d9d9427bb7e54c21ba165a07",
      "d912f0afd341409d9b819b0ee71eea4b",
      "dfad89e529c94df298036f76e773e4b9",
      "f74c67fd23574aebbdae9493fedcd7cd",
      "b608dfa318e0456dbaea6d4d2939f83e"
     ]
    },
    "id": "7zY06qqijR0l",
    "outputId": "13091203-c848-4e08-8754-821f4dce1156"
   },
   "outputs": [],
   "source": [
    "img_tensor = get_image()\n",
    "model = get_model()\n",
    "\n",
    "heatmap = generate_heatmap(model, img_tensor)\n",
    "\n",
    "plot_image(img_tensor)\n",
    "plot_heatmap(heatmap)"
   ]
  }
 ],
 "metadata": {
  "colab": {
   "collapsed_sections": [
    "fyzEytJjncyJ"
   ],
   "provenance": []
  },
  "kernelspec": {
   "display_name": "venv",
   "language": "python",
   "name": "python3"
  },
  "language_info": {
   "codemirror_mode": {
    "name": "ipython",
    "version": 3
   },
   "file_extension": ".py",
   "mimetype": "text/x-python",
   "name": "python",
   "nbconvert_exporter": "python",
   "pygments_lexer": "ipython3",
   "version": "3.12.7"
  },
  "widgets": {
   "application/vnd.jupyter.widget-state+json": {
    "02fe0c09ff8345e68ca73185dd3ac27e": {
     "model_module": "@jupyter-widgets/controls",
     "model_module_version": "1.5.0",
     "model_name": "FloatProgressModel",
     "state": {
      "_dom_classes": [],
      "_model_module": "@jupyter-widgets/controls",
      "_model_module_version": "1.5.0",
      "_model_name": "FloatProgressModel",
      "_view_count": null,
      "_view_module": "@jupyter-widgets/controls",
      "_view_module_version": "1.5.0",
      "_view_name": "ProgressView",
      "bar_style": "success",
      "description": "100%",
      "description_tooltip": null,
      "layout": "IPY_MODEL_dfad89e529c94df298036f76e773e4b9",
      "max": 14212972,
      "min": 0,
      "orientation": "horizontal",
      "style": "IPY_MODEL_d912f0afd341409d9b819b0ee71eea4b",
      "value": 14212972
     }
    },
    "9a733a4237e74306be0638cdc143b316": {
     "model_module": "@jupyter-widgets/base",
     "model_module_version": "1.2.0",
     "model_name": "LayoutModel",
     "state": {
      "_model_module": "@jupyter-widgets/base",
      "_model_module_version": "1.2.0",
      "_model_name": "LayoutModel",
      "_view_count": null,
      "_view_module": "@jupyter-widgets/base",
      "_view_module_version": "1.2.0",
      "_view_name": "LayoutView",
      "align_content": null,
      "align_items": null,
      "align_self": null,
      "border": null,
      "bottom": null,
      "display": null,
      "flex": null,
      "flex_flow": null,
      "grid_area": null,
      "grid_auto_columns": null,
      "grid_auto_flow": null,
      "grid_auto_rows": null,
      "grid_column": null,
      "grid_gap": null,
      "grid_row": null,
      "grid_template_areas": null,
      "grid_template_columns": null,
      "grid_template_rows": null,
      "height": null,
      "justify_content": null,
      "justify_items": null,
      "left": null,
      "margin": null,
      "max_height": null,
      "max_width": null,
      "min_height": null,
      "min_width": null,
      "object_fit": null,
      "object_position": null,
      "order": null,
      "overflow": null,
      "overflow_x": null,
      "overflow_y": null,
      "padding": null,
      "right": null,
      "top": null,
      "visibility": null,
      "width": null
     }
    },
    "aeca00020e884e99b9ff78022862d211": {
     "model_module": "@jupyter-widgets/controls",
     "model_module_version": "1.5.0",
     "model_name": "HBoxModel",
     "state": {
      "_dom_classes": [],
      "_model_module": "@jupyter-widgets/controls",
      "_model_module_version": "1.5.0",
      "_model_name": "HBoxModel",
      "_view_count": null,
      "_view_module": "@jupyter-widgets/controls",
      "_view_module_version": "1.5.0",
      "_view_name": "HBoxView",
      "box_style": "",
      "children": [
       "IPY_MODEL_02fe0c09ff8345e68ca73185dd3ac27e",
       "IPY_MODEL_b15974b9d9d9427bb7e54c21ba165a07"
      ],
      "layout": "IPY_MODEL_9a733a4237e74306be0638cdc143b316"
     }
    },
    "b15974b9d9d9427bb7e54c21ba165a07": {
     "model_module": "@jupyter-widgets/controls",
     "model_module_version": "1.5.0",
     "model_name": "HTMLModel",
     "state": {
      "_dom_classes": [],
      "_model_module": "@jupyter-widgets/controls",
      "_model_module_version": "1.5.0",
      "_model_name": "HTMLModel",
      "_view_count": null,
      "_view_module": "@jupyter-widgets/controls",
      "_view_module_version": "1.5.0",
      "_view_name": "HTMLView",
      "description": "",
      "description_tooltip": null,
      "layout": "IPY_MODEL_b608dfa318e0456dbaea6d4d2939f83e",
      "placeholder": "​",
      "style": "IPY_MODEL_f74c67fd23574aebbdae9493fedcd7cd",
      "value": " 13.6M/13.6M [00:00&lt;00:00, 46.2MB/s]"
     }
    },
    "b608dfa318e0456dbaea6d4d2939f83e": {
     "model_module": "@jupyter-widgets/base",
     "model_module_version": "1.2.0",
     "model_name": "LayoutModel",
     "state": {
      "_model_module": "@jupyter-widgets/base",
      "_model_module_version": "1.2.0",
      "_model_name": "LayoutModel",
      "_view_count": null,
      "_view_module": "@jupyter-widgets/base",
      "_view_module_version": "1.2.0",
      "_view_name": "LayoutView",
      "align_content": null,
      "align_items": null,
      "align_self": null,
      "border": null,
      "bottom": null,
      "display": null,
      "flex": null,
      "flex_flow": null,
      "grid_area": null,
      "grid_auto_columns": null,
      "grid_auto_flow": null,
      "grid_auto_rows": null,
      "grid_column": null,
      "grid_gap": null,
      "grid_row": null,
      "grid_template_areas": null,
      "grid_template_columns": null,
      "grid_template_rows": null,
      "height": null,
      "justify_content": null,
      "justify_items": null,
      "left": null,
      "margin": null,
      "max_height": null,
      "max_width": null,
      "min_height": null,
      "min_width": null,
      "object_fit": null,
      "object_position": null,
      "order": null,
      "overflow": null,
      "overflow_x": null,
      "overflow_y": null,
      "padding": null,
      "right": null,
      "top": null,
      "visibility": null,
      "width": null
     }
    },
    "d912f0afd341409d9b819b0ee71eea4b": {
     "model_module": "@jupyter-widgets/controls",
     "model_module_version": "1.5.0",
     "model_name": "ProgressStyleModel",
     "state": {
      "_model_module": "@jupyter-widgets/controls",
      "_model_module_version": "1.5.0",
      "_model_name": "ProgressStyleModel",
      "_view_count": null,
      "_view_module": "@jupyter-widgets/base",
      "_view_module_version": "1.2.0",
      "_view_name": "StyleView",
      "bar_color": null,
      "description_width": "initial"
     }
    },
    "dfad89e529c94df298036f76e773e4b9": {
     "model_module": "@jupyter-widgets/base",
     "model_module_version": "1.2.0",
     "model_name": "LayoutModel",
     "state": {
      "_model_module": "@jupyter-widgets/base",
      "_model_module_version": "1.2.0",
      "_model_name": "LayoutModel",
      "_view_count": null,
      "_view_module": "@jupyter-widgets/base",
      "_view_module_version": "1.2.0",
      "_view_name": "LayoutView",
      "align_content": null,
      "align_items": null,
      "align_self": null,
      "border": null,
      "bottom": null,
      "display": null,
      "flex": null,
      "flex_flow": null,
      "grid_area": null,
      "grid_auto_columns": null,
      "grid_auto_flow": null,
      "grid_auto_rows": null,
      "grid_column": null,
      "grid_gap": null,
      "grid_row": null,
      "grid_template_areas": null,
      "grid_template_columns": null,
      "grid_template_rows": null,
      "height": null,
      "justify_content": null,
      "justify_items": null,
      "left": null,
      "margin": null,
      "max_height": null,
      "max_width": null,
      "min_height": null,
      "min_width": null,
      "object_fit": null,
      "object_position": null,
      "order": null,
      "overflow": null,
      "overflow_x": null,
      "overflow_y": null,
      "padding": null,
      "right": null,
      "top": null,
      "visibility": null,
      "width": null
     }
    },
    "f74c67fd23574aebbdae9493fedcd7cd": {
     "model_module": "@jupyter-widgets/controls",
     "model_module_version": "1.5.0",
     "model_name": "DescriptionStyleModel",
     "state": {
      "_model_module": "@jupyter-widgets/controls",
      "_model_module_version": "1.5.0",
      "_model_name": "DescriptionStyleModel",
      "_view_count": null,
      "_view_module": "@jupyter-widgets/base",
      "_view_module_version": "1.2.0",
      "_view_name": "StyleView",
      "description_width": ""
     }
    }
   }
  }
 },
 "nbformat": 4,
 "nbformat_minor": 0
}
