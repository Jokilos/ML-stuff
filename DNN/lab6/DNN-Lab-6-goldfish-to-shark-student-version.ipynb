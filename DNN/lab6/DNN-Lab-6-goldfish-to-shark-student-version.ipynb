{
 "cells": [
  {
   "cell_type": "markdown",
   "metadata": {
    "id": "cpw425wWf4YQ"
   },
   "source": [
    "# Task\n",
    "\n",
    "You are given a set of images that are classified by a model trained on Imagenet as goldfish (class 1). Your task is to compute a strip of pixels of size\n",
    "10 x 100 (i.e., the first 10 rows of an image of size 100 x 100), which when pasted into *each* of the original images makes the model think it is a shark (class 2) with returned probability of at least 0.5.\n",
    "\n",
    "Note: you can score half of the points in this task if you compute a strip that works for at least one image from the list.\n",
    "\n",
    "Important: your code needs to compute the desired strip in at most 2 minutes - it is possible to do it in less than 10 seconds on colab with GPU.\n"
   ]
  },
  {
   "cell_type": "markdown",
   "metadata": {
    "id": "HKnxAim-ghEG"
   },
   "source": [
    "## Data\n",
    "\n",
    "Below you can find a piece of code that download a zipfile and displays the images. Note that here the images are in their original resolution that will be later scaled down to 100 x 100."
   ]
  },
  {
   "cell_type": "code",
   "execution_count": null,
   "metadata": {
    "colab": {
     "base_uri": "https://localhost:8080/",
     "height": 1000
    },
    "id": "PvTYCEkvSvhJ",
    "outputId": "bef02704-1f28-4627-ae21-28f925b9fecd"
   },
   "outputs": [],
   "source": [
    "import requests, zipfile\n",
    "from io import BytesIO\n",
    "from PIL import Image\n",
    "import matplotlib.pyplot as plt\n",
    "\n",
    "url = \"https://www.mimuw.edu.pl/~cygan/goldfish.zip\"\n",
    "request = requests.get(url)\n",
    "zipfile = zipfile.ZipFile(BytesIO(request.content))\n",
    "images = []\n",
    "for filename in zipfile.namelist():\n",
    "  if filename.endswith('jpg'):\n",
    "    ifile = zipfile.open(filename)\n",
    "    img = Image.open(ifile)\n",
    "    images.append(img)\n",
    "    plt.imshow(img)\n",
    "    plt.show()\n",
    "    "
   ]
  },
  {
   "cell_type": "markdown",
   "metadata": {
    "id": "da4oqLdZiFVc"
   },
   "source": [
    "## Model\n",
    "\n",
    "We will be using the `mobilenet_v2` model, solving the classification problem on the Imagenet dataset. As far as this task is concerned you do not have to know the details of the model's architecture, we are treating it as a black box, in particular the model's weights will be frozen and cannot be changed.\n",
    "\n"
   ]
  },
  {
   "cell_type": "code",
   "execution_count": null,
   "metadata": {
    "colab": {
     "base_uri": "https://localhost:8080/"
    },
    "id": "1Jvn2Ok1jcC-",
    "outputId": "f0a628be-f1aa-40f6-fee9-e12e26dec285"
   },
   "outputs": [],
   "source": [
    "import sys\n",
    "import math\n",
    "import torch\n",
    "import torch.nn as nn\n",
    "import torch.optim as optim\n",
    "from torchvision.models import mobilenet_v2, MobileNet_V2_Weights\n",
    "import torchvision\n",
    "import torchvision.transforms as transforms\n",
    "import plotly.graph_objects as go\n",
    "import numpy as np\n",
    "import torch\n",
    "import torchvision\n",
    "from torchvision import transforms\n",
    "import matplotlib.pyplot as plt\n",
    "\n",
    "device = torch.device(\"cuda:0\" if torch.cuda.is_available() else \"cpu\")\n",
    "print(device)\n",
    "\n",
    "model = mobilenet_v2(weights=MobileNet_V2_Weights.IMAGENET1K_V1)\n",
    "model.to(device)\n",
    "model.eval()"
   ]
  },
  {
   "cell_type": "markdown",
   "metadata": {
    "id": "r0s3-5t7jlAi"
   },
   "source": [
    "## Data preprocessing\n",
    "\n",
    "In order to evaluate the model on the given images, we first scale them down to size 100x100 (which is an arbitrary choice selected for this task), but also normalize them using the following normalization transform.\n"
   ]
  },
  {
   "cell_type": "code",
   "execution_count": null,
   "metadata": {
    "id": "S0LRHOYsjy1B"
   },
   "outputs": [],
   "source": [
    "normalize_colors = transforms.Normalize(mean=[0.485, 0.456, 0.406],\n",
    "                                        std=[0.229, 0.224, 0.225])\n",
    "\n",
    "SIZE = 100\n",
    "resize = transforms.Compose([transforms.Resize((SIZE, SIZE)), \n",
    "                             transforms.ToTensor()])"
   ]
  },
  {
   "cell_type": "markdown",
   "metadata": {
    "id": "Nn9FSd3Ij1Op"
   },
   "source": [
    "## Evaluation\n",
    "\n",
    "Below is a piece of code that takes an input a given image and a tensor of size 3x10x100 with values between 0 and 1, and:\n",
    "* rescales the image to size 100x100,\n",
    "* replaces the first chunk of size 10x100 by the given tensor (for all 3 colors),\n",
    "* normalizes the colors of the obtained image,\n",
    "* evaluates the model and returns the probabilities of the image being classified as goldfish and shark respectively."
   ]
  },
  {
   "cell_type": "code",
   "execution_count": null,
   "metadata": {
    "id": "TnfZmWaVkYIa"
   },
   "outputs": [],
   "source": [
    "STRIP_HEIGHT = 10\n",
    "\n",
    "def show_torch(img_tensor):\n",
    "  img = img_tensor.detach().numpy().T\n",
    "  img = np.swapaxes(img, 0, 1)\n",
    "  plt.imshow(img)\n",
    "  plt.show()\n",
    "\n",
    "def calc_predictions(image, strip, show = False):\n",
    "  assert strip.shape == (3, STRIP_HEIGHT, SIZE) \n",
    "  assert torch.ge(strip, 0.).all()\n",
    "  assert torch.le(strip, 1.0).all()\n",
    "  img_tensor = resize(image.convert(\"RGB\")).to(device)\n",
    "  # At this point img_tensor is of shape (3, SIZE, SIZE)\n",
    "  ############# Important line - replacing part of the image ################\n",
    "  img_tensor[:, :STRIP_HEIGHT, :] = strip.to(device)\n",
    "\n",
    "  if(show):\n",
    "    show_torch(img_tensor)\n",
    "\n",
    "  img_tensor = normalize_colors(img_tensor)\n",
    "  # We have to add one more dimention representing the bath.\n",
    "  img_tensor = img_tensor.unsqueeze(0)\n",
    "  probabilities = torch.nn.functional.softmax(model(img_tensor)[0], dim=-1)\n",
    "  # Class 1 in Imagenet is a goldfish, 2 is a shark\n",
    "  return probabilities[1], probabilities[2]"
   ]
  },
  {
   "cell_type": "code",
   "execution_count": null,
   "metadata": {
    "colab": {
     "base_uri": "https://localhost:8080/"
    },
    "id": "UjwQ1hrklAC7",
    "outputId": "07dfd922-f026-4ed6-9f41-291f177cc741"
   },
   "outputs": [],
   "source": [
    "for im in images:\n",
    "  p_goldfish, p_shark = calc_predictions(im, torch.zeros((3, STRIP_HEIGHT, SIZE)))\n",
    "  print(f'Probability of being a goldfish is {p_goldfish}, shark is {p_shark}.')"
   ]
  },
  {
   "cell_type": "markdown",
   "metadata": {
    "id": "ROa9JoZZpJCZ"
   },
   "source": [
    "## TO IMPLEMENT\n",
    "\n",
    "Here you have to implement the function that finds the strip. Please don't modify the name of the function, as later it will be automatically tested.\n"
   ]
  },
  {
   "cell_type": "code",
   "execution_count": null,
   "metadata": {},
   "outputs": [],
   "source": [
    "from torch.autograd import Variable\n",
    "\n",
    "def calculate_strip():\n",
    "  strip = torch.abs(torch.rand((3, STRIP_HEIGHT, SIZE)))\n",
    "  strip = strip / torch.max(strip)\n",
    "  return strip\n",
    "\n",
    "def normalize_strip(strip):\n",
    "  strip = torch.sigmoid(strip)\n",
    "  return strip \n",
    "\n",
    "strip = Variable(calculate_strip(), requires_grad=True)\n",
    "\n",
    "optimizer = optim.Adam([strip], lr=0.1)\n",
    "\n",
    "for n in range(400):\n",
    "  optimizer.zero_grad()\n",
    "  new_strip = normalize_strip(strip)\n",
    "  loss = 0\n",
    "  \n",
    "  for im in images:\n",
    "    p_goldfish, p_shark = calc_predictions(im, new_strip)\n",
    "    loss += -torch.log(p_shark)# + p_goldfish * 0.2\n",
    "\n",
    "  if (n % 30 == 0):\n",
    "    print(f'Epoch: {n}, loss: {loss}')\n",
    "\n",
    "  loss.backward()\n",
    "  optimizer.step()\n",
    "\n",
    "for im in images:\n",
    "  p_goldfish, p_shark = calc_predictions(im, new_strip, show = True)\n",
    "  loss += -torch.log(p_shark)\n",
    "  print(f'Shark p: {p_shark}, Goldfish_p: {p_goldfish}')"
   ]
  }
 ],
 "metadata": {
  "accelerator": "GPU",
  "colab": {
   "provenance": []
  },
  "kernelspec": {
   "display_name": "venv",
   "language": "python",
   "name": "python3"
  },
  "language_info": {
   "codemirror_mode": {
    "name": "ipython",
    "version": 3
   },
   "file_extension": ".py",
   "mimetype": "text/x-python",
   "name": "python",
   "nbconvert_exporter": "python",
   "pygments_lexer": "ipython3",
   "version": "3.12.7"
  }
 },
 "nbformat": 4,
 "nbformat_minor": 0
}
