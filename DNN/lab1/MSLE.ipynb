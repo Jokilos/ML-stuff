{
 "cells": [
  {
   "cell_type": "markdown",
   "metadata": {
    "id": "VqdiMxZx-EoD"
   },
   "source": [
    "# Linear regression\n",
    "\n",
    "In this exercise you will use linear regression to predict flat prices. Training will be handled via gradient descent and we will:\n",
    "* have multiple features (i.e. variables used to make the prediction),\n",
    "* employ some basic feature engineering,\n",
    "* work with a non-standard loss function.\n",
    "\n",
    "Let's start with getting the data."
   ]
  },
  {
   "cell_type": "code",
   "execution_count": 39,
   "metadata": {
    "colab": {
     "base_uri": "https://localhost:8080/"
    },
    "executionInfo": {
     "elapsed": 5466,
     "status": "ok",
     "timestamp": 1729363993563,
     "user": {
      "displayName": "Jakub Nowacki",
      "userId": "04628940980631792389"
     },
     "user_tz": -120
    },
    "id": "heeKjQ2r-EoH",
    "outputId": "f513ddab-5cf0-4ff7-f929-4a2d9a32d0ce"
   },
   "outputs": [],
   "source": [
    "%matplotlib inline\n",
    "\n",
    "#!wget -O mieszkania.csv https://www.dropbox.com/s/zey0gx91pna8irj/mieszkania.csv?dl=1\n",
    "#!wget -O mieszkania_test.csv https://www.dropbox.com/s/dbrj6sbxb4ayqjz/mieszkania_test.csv?dl=1"
   ]
  },
  {
   "cell_type": "code",
   "execution_count": 40,
   "metadata": {
    "colab": {
     "base_uri": "https://localhost:8080/"
    },
    "executionInfo": {
     "elapsed": 18,
     "status": "ok",
     "timestamp": 1728996768070,
     "user": {
      "displayName": "Jakub Nowacki",
      "userId": "04628940980631792389"
     },
     "user_tz": -120
    },
    "id": "yI9wFXv5-EoP",
    "outputId": "3cd4d87f-acab-4317-df8b-069a6d79e012"
   },
   "outputs": [
    {
     "name": "stdout",
     "output_type": "stream",
     "text": [
      "==> mieszkania.csv <==\n",
      "m2,dzielnica,ilość_sypialni,ilość_łazienek,rok_budowy,parking_podziemny,cena\n",
      "104,mokotowo,2,2,1940,1,780094\n",
      "43,ochotowo,1,1,1970,1,346912\n",
      "128,grodziskowo,3,2,1916,1,523466\n",
      "112,mokotowo,3,2,1920,1,830965\n",
      "149,mokotowo,3,3,1977,0,1090479\n",
      "80,ochotowo,2,2,1937,0,599060\n",
      "58,ochotowo,2,1,1922,0,463639\n",
      "23,ochotowo,1,1,1929,0,166785\n",
      "40,mokotowo,1,1,1973,0,318849\n",
      "\n",
      "==> mieszkania_test.csv <==\n",
      "m2,dzielnica,ilość_sypialni,ilość_łazienek,rok_budowy,parking_podziemny,cena\n",
      "71,wolowo,2,2,1912,1,322227\n",
      "45,mokotowo,1,1,1938,0,295878\n",
      "38,mokotowo,1,1,1999,1,306530\n",
      "70,ochotowo,2,2,1980,1,553641\n",
      "136,mokotowo,3,2,1939,1,985348\n",
      "128,wolowo,3,2,1983,1,695726\n",
      "23,grodziskowo,1,1,1975,0,99751\n",
      "117,mokotowo,3,2,1942,0,891261\n",
      "65,ochotowo,2,1,2002,1,536499\n"
     ]
    }
   ],
   "source": [
    "!head mieszkania.csv mieszkania_test.csv"
   ]
  },
  {
   "cell_type": "markdown",
   "metadata": {
    "id": "iH8Ut02G-EoU"
   },
   "source": [
    "Each row in the data represents a separate property. Our goal is to use the data from `mieszkania.csv` to create a model that can predict a property's price (i.e. `cena`) given its features (i.e. `m2,dzielnica,ilosc_sypialni,ilosc_lazienek,rok_budowy,parking_podziemny`).\n",
    "\n",
    "From now on, we should interfere only with `mieszkania.csv` (dubbed the training dataset) to make our decisions and create the model. The (only) purpose of `mieszkania_test.csv` is to test our model on **unseen** data.\n",
    "\n",
    "Our predictions should minimize the so-called mean squared logarithmic error:\n",
    "$$\n",
    "MSLE = \\frac{1}{n} \\sum_{i=1}^n (\\log(1+y_i) - \\log(1+p_i))^2,\n",
    "$$\n",
    "where $y_i$ is the ground truth, and $p_i$ is our prediction."
   ]
  },
  {
   "cell_type": "markdown",
   "metadata": {
    "id": "y8QX6Ncr-EoW"
   },
   "source": [
    "Let's start with implementing the loss function."
   ]
  },
  {
   "cell_type": "code",
   "execution_count": 41,
   "metadata": {
    "id": "JAiB8S9A-EoX"
   },
   "outputs": [],
   "source": [
    "from typing import Tuple\n",
    "\n",
    "import numpy as np\n",
    "import pandas as pd\n",
    "from sklearn import preprocessing\n",
    "\n",
    "def msle(ys, ps):\n",
    "    assert len(ys) == len(ps)\n",
    "\n",
    "    n = len(ys)\n",
    "    result = (1/n) * np.sum((np.log(1 + ys) - np.log(1 + ps))**2)\n",
    "\n",
    "    return result"
   ]
  },
  {
   "cell_type": "markdown",
   "metadata": {
    "id": "zAmd2qLR-Eob"
   },
   "source": [
    "The simplest model is predicting the same constant for each instance. Test your implementation of msle against outputing the mean price."
   ]
  },
  {
   "cell_type": "code",
   "execution_count": 42,
   "metadata": {
    "id": "vY9VwngbwBDv"
   },
   "outputs": [],
   "source": [
    "# load and prepare the data\n",
    "\n",
    "def load(name):\n",
    "    data = pd.read_csv(name)\n",
    "    xs = data[data.columns[:-1]].to_numpy()\n",
    "    ys = data[data.columns[-1]].to_numpy()\n",
    "    return (xs, ys)\n",
    "\n",
    "x_train, y_train = load('mieszkania.csv')\n",
    "x_test, y_test = load('mieszkania_test.csv')\n",
    "districts = len(np.unique(x_train.T[1]))\n",
    "\n",
    "def one_hot(arr):\n",
    "    columns = arr.shape[1]\n",
    "\n",
    "    for i in range(columns):\n",
    "        if type(arr[0][i]) != int :\n",
    "\n",
    "            column = arr[:, i]\n",
    "            rest = arr[:, [j != i for j in range(columns)]]\n",
    "\n",
    "            unique = np.unique(column).reshape(1,-1)\n",
    "            one_hot = np.vstack([column]*len(unique))\n",
    "            one_hot = (one_hot.T == unique).astype(int)\n",
    "\n",
    "            return np.hstack([rest, one_hot])\n",
    "\n",
    "def add_column(value, arr):\n",
    "    ones_column = np.ones(x_train.shape[0]).reshape(-1,1)\n",
    "    return np.hstack([ones_column * value, arr])\n"
   ]
  },
  {
   "cell_type": "code",
   "execution_count": 43,
   "metadata": {},
   "outputs": [],
   "source": [
    "\n",
    "x_train, y_train\n",
    "\n",
    "x_train = one_hot(x_train)\n",
    "\n",
    "x_train = add_column(1, x_train).astype(np.float64)\n",
    "\n",
    "#normalize\n",
    "x_norm = []\n",
    "y_norm = np.max(y_train)\n",
    "\n",
    "for i in range(x_train.shape[1]):\n",
    "    max = np.max(x_train.T[i])\n",
    "    x_norm.append(max)\n",
    "    x_train.T[i] /= max\n",
    "\n",
    "y_train = (y_train / np.max(y_train)).reshape(-1,1)"
   ]
  },
  {
   "cell_type": "code",
   "execution_count": 44,
   "metadata": {
    "colab": {
     "base_uri": "https://localhost:8080/"
    },
    "executionInfo": {
     "elapsed": 8,
     "status": "ok",
     "timestamp": 1729000210191,
     "user": {
      "displayName": "Jakub Nowacki",
      "userId": "04628940980631792389"
     },
     "user_tz": -120
    },
    "id": "b0RT7VW7-Eoc",
    "outputId": "90fbdb4c-4dd7-4a00-b96d-aa7bdf816dd1"
   },
   "outputs": [
    {
     "data": {
      "text/plain": [
       "np.float64(5.468949827661844)"
      ]
     },
     "execution_count": 44,
     "metadata": {},
     "output_type": "execute_result"
    }
   ],
   "source": [
    "###################################################\n",
    "# TODO: Compute msle for outputing the mean price #\n",
    "###################################################\n",
    "\n",
    "def mse(xs, ps):\n",
    "    assert len(xs) == len(ps)\n",
    "\n",
    "    n = len(xs)\n",
    "    sum = np.sum((xs - ps) ** 2)\n",
    "\n",
    "    return (1/n) * sum\n",
    "\n",
    "def msle(xs, ps):\n",
    "    assert len(xs) == len(ps)\n",
    "\n",
    "    n = len(xs)\n",
    "    sum = np.sum((np.log(1 + xs) - np.log(1 + ps)) ** 2)\n",
    "\n",
    "    return (1/n) * sum\n",
    "\n",
    "mean_price = np.mean(y_train)\n",
    "\n",
    "msle(y_train, np.ones(x_train.shape[0]) * mean_price)"
   ]
  },
  {
   "cell_type": "markdown",
   "metadata": {
    "id": "a0zMmTiv-Eof"
   },
   "source": [
    "Recall that outputing the mean minimzes $MSE$. However, we're now dealing with $MSLE$.\n",
    "\n",
    "Think of a constant that should result in the lowest $MSLE$."
   ]
  },
  {
   "cell_type": "code",
   "execution_count": 45,
   "metadata": {
    "colab": {
     "base_uri": "https://localhost:8080/"
    },
    "executionInfo": {
     "elapsed": 6,
     "status": "ok",
     "timestamp": 1729000211185,
     "user": {
      "displayName": "Jakub Nowacki",
      "userId": "04628940980631792389"
     },
     "user_tz": -120
    },
    "id": "Q0Z4drNd-Eog",
    "outputId": "6acb7662-3641-40b4-b02b-186fdc50c214"
   },
   "outputs": [
    {
     "data": {
      "text/plain": [
       "np.float64(5.431039782425594)"
      ]
     },
     "execution_count": 45,
     "metadata": {},
     "output_type": "execute_result"
    }
   ],
   "source": [
    "#############################################\n",
    "# TODO: Find this constant and compute msle #\n",
    "#############################################\n",
    "\n",
    "# (log(1 + p) - log(1 + x)) ** 2\n",
    "\n",
    "msle_mean = (np.e ** ((1 / len(y_train)) * np.sum(np.log(1 + y_train)))) - 1\n",
    "\n",
    "msle(y_train, np.ones(x_train.shape[0]) * msle_mean)"
   ]
  },
  {
   "cell_type": "markdown",
   "metadata": {
    "id": "2RdHlBw8-Eoi"
   },
   "source": [
    "Now, let's implement a standard linear regression model."
   ]
  },
  {
   "cell_type": "code",
   "execution_count": 46,
   "metadata": {},
   "outputs": [],
   "source": [
    "n, features = x_train.shape\n",
    "w = np.zeros(features).reshape(-1, 1)\n",
    "lr = 0.2 # step size\n",
    "t = 0.99\n",
    "n_epochs = 250\n"
   ]
  },
  {
   "cell_type": "code",
   "execution_count": 47,
   "metadata": {},
   "outputs": [
    {
     "name": "stdout",
     "output_type": "stream",
     "text": [
      "Iter:   0 Loss: 0.03616379 w: ['0.18', '0.12', '0.14', '0.12', '0.18', '0.09', '0.03', '0.06', '0.06', '0.04']\n",
      "Iter: 199 Loss: 0.00208007 w: ['-0.03', '0.46', '0.26', '0.18', '-0.03', '0.02', '-0.13', '0.08', '0.08', '-0.07']\n"
     ]
    },
    {
     "data": {
      "application/vnd.plotly.v1+json": {
       "config": {
        "plotlyServerURL": "https://plot.ly"
       },
       "data": [
        {
         "hovertemplate": "x=%{x}<br>loss=%{y}<extra></extra>",
         "legendgroup": "",
         "line": {
          "color": "#636efa",
          "dash": "solid"
         },
         "marker": {
          "symbol": "circle"
         },
         "mode": "lines",
         "name": "",
         "orientation": "v",
         "showlegend": false,
         "type": "scatter",
         "x": [
          0,
          1,
          2,
          3,
          4,
          5,
          6,
          7,
          8,
          9,
          10,
          11,
          12,
          13,
          14,
          15,
          16,
          17,
          18,
          19,
          20,
          21,
          22,
          23,
          24,
          25,
          26,
          27,
          28,
          29,
          30,
          31,
          32,
          33,
          34,
          35,
          36,
          37,
          38,
          39,
          40,
          41,
          42,
          43,
          44,
          45,
          46,
          47,
          48,
          49,
          50,
          51,
          52,
          53,
          54,
          55,
          56,
          57,
          58,
          59,
          60,
          61,
          62,
          63,
          64,
          65,
          66,
          67,
          68,
          69,
          70,
          71,
          72,
          73,
          74,
          75,
          76,
          77,
          78,
          79,
          80,
          81,
          82,
          83,
          84,
          85,
          86,
          87,
          88,
          89,
          90,
          91,
          92,
          93,
          94,
          95,
          96,
          97,
          98,
          99,
          100,
          101,
          102,
          103,
          104,
          105,
          106,
          107,
          108,
          109,
          110,
          111,
          112,
          113,
          114,
          115,
          116,
          117,
          118,
          119,
          120,
          121,
          122,
          123,
          124,
          125,
          126,
          127,
          128,
          129,
          130,
          131,
          132,
          133,
          134,
          135,
          136,
          137,
          138,
          139,
          140,
          141,
          142,
          143,
          144,
          145,
          146,
          147,
          148,
          149,
          150,
          151,
          152,
          153,
          154,
          155,
          156,
          157,
          158,
          159,
          160,
          161,
          162,
          163,
          164,
          165,
          166,
          167,
          168,
          169,
          170,
          171,
          172,
          173,
          174,
          175,
          176,
          177,
          178,
          179,
          180,
          181,
          182,
          183,
          184,
          185,
          186,
          187,
          188,
          189,
          190,
          191,
          192,
          193,
          194,
          195,
          196,
          197,
          198,
          199,
          200,
          201,
          202,
          203,
          204,
          205,
          206,
          207,
          208,
          209,
          210,
          211,
          212,
          213,
          214,
          215,
          216,
          217,
          218,
          219,
          220,
          221,
          222,
          223,
          224,
          225,
          226,
          227,
          228,
          229,
          230,
          231,
          232,
          233,
          234,
          235,
          236,
          237,
          238,
          239,
          240,
          241,
          242,
          243,
          244,
          245,
          246,
          247,
          248,
          249,
          250
         ],
         "xaxis": "x",
         "y": [
          0.16052718361833157,
          0.036163793720424726,
          0.015622918724861963,
          0.014230611079592892,
          0.011434095022931594,
          0.010744236586764494,
          0.009605657221951789,
          0.008867013641558459,
          0.0081269021207278,
          0.007519826366224027,
          0.006971465028740012,
          0.006495362297899948,
          0.006072495593796879,
          0.005699050631632972,
          0.0053669267667293165,
          0.005071222299745077,
          0.004807001889262275,
          0.004570379138080252,
          0.004357916093672423,
          0.004166721122764104,
          0.003994293172232711,
          0.0038384865610676102,
          0.0036974443252998663,
          0.0035695576081313574,
          0.0034534259512973625,
          0.003347826524833167,
          0.0032516875096652628,
          0.0031640662072524753,
          0.0030841305556622233,
          0.00301114367202312,
          0.002944450825667161,
          0.0028834684614555965,
          0.002827674914777977,
          0.002776602539537615,
          0.0027298310119015286,
          0.0026869816164613635,
          0.0026477123538046726,
          0.002611713736685169,
          0.0025787051646210014,
          0.0025484317856521404,
          0.002520661769478462,
          0.0024951839290116196,
          0.0024718056379275017,
          0.0024503510005219093,
          0.002430659237367014,
          0.002412583256212863,
          0.002395988382496202,
          0.0023807512278909895,
          0.002366758678710198,
          0.0023539069887703787,
          0.0023421009636595278,
          0.0023312532252885948,
          0.002321283547225375,
          0.002312118252662893,
          0.0023036896680085728,
          0.0022959356260336553,
          0.0022887990133252547,
          0.00228222735746218,
          0.0022761724499109413,
          0.0022705900011276924,
          0.002265439324769617,
          0.0022606830482771153,
          0.0022562868473958637,
          0.0022522192024735477,
          0.002248451174596273,
          0.0022449561998301062,
          0.00224170990000816,
          0.0022386899086572925,
          0.0022358757107935803,
          0.0022332484954353093,
          0.002230791019788208,
          0.0022284874841520317,
          0.002226323416681931,
          0.002224285567213593,
          0.002222361809429054,
          0.0022205410507013033,
          0.0022188131490111273,
          0.0022171688363797587,
          0.002215599648306401,
          0.0022140978587410986,
          0.002212656420161157,
          0.002211268908353777,
          0.002209929471539031,
          0.0022086327834962174,
          0.002207374000382974,
          0.002206148720960882,
          0.002204952949963511,
          0.002203783064363402,
          0.0022026357823132455,
          0.00220150813455399,
          0.002200397438098481,
          0.0021993012720140314,
          0.0021982174551408865,
          0.0021971440255960884,
          0.002196079221923779,
          0.0021950214657636613,
          0.002193969345919207,
          0.0021929216037162584,
          0.00219187711955108,
          0.002190834900534687,
          0.0021897940691474106,
          0.002188753852824304,
          0.0021877135743980916,
          0.002186672643331989,
          0.0021856305476800043,
          0.0021845868467170533,
          0.00218354116418576,
          0.0021824931821108795,
          0.0021814426351360835,
          0.0021803893053413724,
          0.0021793330175026225,
          0.002178273634757717,
          0.002177211054646589,
          0.0021761452054949067,
          0.002175076043113634,
          0.0021740035477887743,
          0.0021729277215376736,
          0.0021718485856100857,
          0.0021707661782139303,
          0.00216968055244725,
          0.002168591774419344,
          0.0021674999215453693,
          0.0021664050810000007,
          0.0021653073483168263,
          0.002164206826121262,
          0.0021631036229857186,
          0.002161997852396648,
          0.0021608896318239734,
          0.0021597790818840916,
          0.002158666325588449,
          0.0021575514876702316,
          0.002156434693982377,
          0.0021553160709606965,
          0.0021541957451462895,
          0.002153073842762035,
          0.0021519504893383005,
          0.0021508258093834065,
          0.002149699926094807,
          0.0021485729611071974,
          0.002147445034274182,
          0.0021463162634802967,
          0.0021451867644805686,
          0.0021440566507649177,
          0.0021429260334450426,
          0.00214179502116155,
          0.0021406637200093053,
          0.002139532233479196,
          0.0021384006624145676,
          0.002137269104980845,
          0.0021361376566468976,
          0.0021350064101768877,
          0.0021338754556314197,
          0.0021327448803769382,
          0.002131614769102405,
          0.0021304852038423693,
          0.0021293562640056305,
          0.0021282280264087825,
          0.0021271005653139613,
          0.0021259739524702144,
          0.002124848257157943,
          0.0021237235462359407,
          0.002122599884190569,
          0.0021214773331867036,
          0.002120355953120058,
          0.0021192358016705977,
          0.0021181169343567345,
          0.0021169994045900547,
          0.0021158832637303516,
          0.0021147685611407584,
          0.0021136553442427856,
          0.0021125436585711327,
          0.0021114335478281026,
          0.002110325053937517,
          0.002109218217098008,
          0.0021081130758356004,
          0.002107009667055511,
          0.0021059080260930744,
          0.0021048081867637534,
          0.0021037101814121877,
          0.002102614040960223,
          0.0021015197949539005,
          0.0021004274716093807,
          0.0020993370978577724,
          0.0020982486993888663,
          0.002097162300693754,
          0.0020960779251063245,
          0.002094995594843659,
          0.00209391533104529,
          0.0020928371538113766,
          0.0020917610822397564,
          0.00209068713446193,
          0.0020896153276779533,
          0.0020885456781902833,
          0.0020874782014365673,
          0.002086412912021418,
          0.002085349823747176,
          0.002084288949643683,
          0.0020832303019970946,
          0.002082173892377745,
          0.0020811197316670895,
          0.002080067830083744,
          0.0020790181972086506,
          0.0020779708420093834,
          0.0020769257728636185,
          0.002075882997581805,
          0.00207484252342903,
          0.002073804357146137,
          0.0020727685049700835,
          0.0020717349726535883,
          0.0020707037654840743,
          0.0020696748883019377,
          0.0020686483455181455,
          0.002067624141131218,
          0.002066602278743577,
          0.002065582761577297,
          0.0020645655924892994,
          0.0020635507739859564,
          0.0020625383082371876,
          0.002061528197090009,
          0.0020605204420815894,
          0.002059515044451825,
          0.00205851200515543,
          0.002057511324873582,
          0.0020565130040251295,
          0.002055517042777372,
          0.002054523441056435,
          0.0020535321985572503,
          0.0020525433147531576,
          0.00205155678890514,
          0.002050572620070708,
          0.0020495908071124364,
          0.002048611348706184,
          0.0020476342433489946,
          0.002046659489366681,
          0.0020456870849211405,
          0.002044717028017364,
          0.00204374931651019,
          0.0020427839481107868,
          0.0020418209203928862,
          0.0020408602307987796,
          0.002039901876645068,
          0.0020389458551282086,
          0.0020379921633298164,
          0.0020370407982217838,
          0.0020360917566711856,
          0.0020351450354449963,
          0.0020342006312146195,
          0.002033258540560243,
          0.0020323187599750156,
          0.0020313812858690715,
          0.0020304461145733794
         ],
         "yaxis": "y"
        }
       ],
       "layout": {
        "legend": {
         "tracegroupgap": 0
        },
        "margin": {
         "t": 60
        },
        "template": {
         "data": {
          "bar": [
           {
            "error_x": {
             "color": "#2a3f5f"
            },
            "error_y": {
             "color": "#2a3f5f"
            },
            "marker": {
             "line": {
              "color": "#E5ECF6",
              "width": 0.5
             },
             "pattern": {
              "fillmode": "overlay",
              "size": 10,
              "solidity": 0.2
             }
            },
            "type": "bar"
           }
          ],
          "barpolar": [
           {
            "marker": {
             "line": {
              "color": "#E5ECF6",
              "width": 0.5
             },
             "pattern": {
              "fillmode": "overlay",
              "size": 10,
              "solidity": 0.2
             }
            },
            "type": "barpolar"
           }
          ],
          "carpet": [
           {
            "aaxis": {
             "endlinecolor": "#2a3f5f",
             "gridcolor": "white",
             "linecolor": "white",
             "minorgridcolor": "white",
             "startlinecolor": "#2a3f5f"
            },
            "baxis": {
             "endlinecolor": "#2a3f5f",
             "gridcolor": "white",
             "linecolor": "white",
             "minorgridcolor": "white",
             "startlinecolor": "#2a3f5f"
            },
            "type": "carpet"
           }
          ],
          "choropleth": [
           {
            "colorbar": {
             "outlinewidth": 0,
             "ticks": ""
            },
            "type": "choropleth"
           }
          ],
          "contour": [
           {
            "colorbar": {
             "outlinewidth": 0,
             "ticks": ""
            },
            "colorscale": [
             [
              0,
              "#0d0887"
             ],
             [
              0.1111111111111111,
              "#46039f"
             ],
             [
              0.2222222222222222,
              "#7201a8"
             ],
             [
              0.3333333333333333,
              "#9c179e"
             ],
             [
              0.4444444444444444,
              "#bd3786"
             ],
             [
              0.5555555555555556,
              "#d8576b"
             ],
             [
              0.6666666666666666,
              "#ed7953"
             ],
             [
              0.7777777777777778,
              "#fb9f3a"
             ],
             [
              0.8888888888888888,
              "#fdca26"
             ],
             [
              1,
              "#f0f921"
             ]
            ],
            "type": "contour"
           }
          ],
          "contourcarpet": [
           {
            "colorbar": {
             "outlinewidth": 0,
             "ticks": ""
            },
            "type": "contourcarpet"
           }
          ],
          "heatmap": [
           {
            "colorbar": {
             "outlinewidth": 0,
             "ticks": ""
            },
            "colorscale": [
             [
              0,
              "#0d0887"
             ],
             [
              0.1111111111111111,
              "#46039f"
             ],
             [
              0.2222222222222222,
              "#7201a8"
             ],
             [
              0.3333333333333333,
              "#9c179e"
             ],
             [
              0.4444444444444444,
              "#bd3786"
             ],
             [
              0.5555555555555556,
              "#d8576b"
             ],
             [
              0.6666666666666666,
              "#ed7953"
             ],
             [
              0.7777777777777778,
              "#fb9f3a"
             ],
             [
              0.8888888888888888,
              "#fdca26"
             ],
             [
              1,
              "#f0f921"
             ]
            ],
            "type": "heatmap"
           }
          ],
          "heatmapgl": [
           {
            "colorbar": {
             "outlinewidth": 0,
             "ticks": ""
            },
            "colorscale": [
             [
              0,
              "#0d0887"
             ],
             [
              0.1111111111111111,
              "#46039f"
             ],
             [
              0.2222222222222222,
              "#7201a8"
             ],
             [
              0.3333333333333333,
              "#9c179e"
             ],
             [
              0.4444444444444444,
              "#bd3786"
             ],
             [
              0.5555555555555556,
              "#d8576b"
             ],
             [
              0.6666666666666666,
              "#ed7953"
             ],
             [
              0.7777777777777778,
              "#fb9f3a"
             ],
             [
              0.8888888888888888,
              "#fdca26"
             ],
             [
              1,
              "#f0f921"
             ]
            ],
            "type": "heatmapgl"
           }
          ],
          "histogram": [
           {
            "marker": {
             "pattern": {
              "fillmode": "overlay",
              "size": 10,
              "solidity": 0.2
             }
            },
            "type": "histogram"
           }
          ],
          "histogram2d": [
           {
            "colorbar": {
             "outlinewidth": 0,
             "ticks": ""
            },
            "colorscale": [
             [
              0,
              "#0d0887"
             ],
             [
              0.1111111111111111,
              "#46039f"
             ],
             [
              0.2222222222222222,
              "#7201a8"
             ],
             [
              0.3333333333333333,
              "#9c179e"
             ],
             [
              0.4444444444444444,
              "#bd3786"
             ],
             [
              0.5555555555555556,
              "#d8576b"
             ],
             [
              0.6666666666666666,
              "#ed7953"
             ],
             [
              0.7777777777777778,
              "#fb9f3a"
             ],
             [
              0.8888888888888888,
              "#fdca26"
             ],
             [
              1,
              "#f0f921"
             ]
            ],
            "type": "histogram2d"
           }
          ],
          "histogram2dcontour": [
           {
            "colorbar": {
             "outlinewidth": 0,
             "ticks": ""
            },
            "colorscale": [
             [
              0,
              "#0d0887"
             ],
             [
              0.1111111111111111,
              "#46039f"
             ],
             [
              0.2222222222222222,
              "#7201a8"
             ],
             [
              0.3333333333333333,
              "#9c179e"
             ],
             [
              0.4444444444444444,
              "#bd3786"
             ],
             [
              0.5555555555555556,
              "#d8576b"
             ],
             [
              0.6666666666666666,
              "#ed7953"
             ],
             [
              0.7777777777777778,
              "#fb9f3a"
             ],
             [
              0.8888888888888888,
              "#fdca26"
             ],
             [
              1,
              "#f0f921"
             ]
            ],
            "type": "histogram2dcontour"
           }
          ],
          "mesh3d": [
           {
            "colorbar": {
             "outlinewidth": 0,
             "ticks": ""
            },
            "type": "mesh3d"
           }
          ],
          "parcoords": [
           {
            "line": {
             "colorbar": {
              "outlinewidth": 0,
              "ticks": ""
             }
            },
            "type": "parcoords"
           }
          ],
          "pie": [
           {
            "automargin": true,
            "type": "pie"
           }
          ],
          "scatter": [
           {
            "fillpattern": {
             "fillmode": "overlay",
             "size": 10,
             "solidity": 0.2
            },
            "type": "scatter"
           }
          ],
          "scatter3d": [
           {
            "line": {
             "colorbar": {
              "outlinewidth": 0,
              "ticks": ""
             }
            },
            "marker": {
             "colorbar": {
              "outlinewidth": 0,
              "ticks": ""
             }
            },
            "type": "scatter3d"
           }
          ],
          "scattercarpet": [
           {
            "marker": {
             "colorbar": {
              "outlinewidth": 0,
              "ticks": ""
             }
            },
            "type": "scattercarpet"
           }
          ],
          "scattergeo": [
           {
            "marker": {
             "colorbar": {
              "outlinewidth": 0,
              "ticks": ""
             }
            },
            "type": "scattergeo"
           }
          ],
          "scattergl": [
           {
            "marker": {
             "colorbar": {
              "outlinewidth": 0,
              "ticks": ""
             }
            },
            "type": "scattergl"
           }
          ],
          "scattermapbox": [
           {
            "marker": {
             "colorbar": {
              "outlinewidth": 0,
              "ticks": ""
             }
            },
            "type": "scattermapbox"
           }
          ],
          "scatterpolar": [
           {
            "marker": {
             "colorbar": {
              "outlinewidth": 0,
              "ticks": ""
             }
            },
            "type": "scatterpolar"
           }
          ],
          "scatterpolargl": [
           {
            "marker": {
             "colorbar": {
              "outlinewidth": 0,
              "ticks": ""
             }
            },
            "type": "scatterpolargl"
           }
          ],
          "scatterternary": [
           {
            "marker": {
             "colorbar": {
              "outlinewidth": 0,
              "ticks": ""
             }
            },
            "type": "scatterternary"
           }
          ],
          "surface": [
           {
            "colorbar": {
             "outlinewidth": 0,
             "ticks": ""
            },
            "colorscale": [
             [
              0,
              "#0d0887"
             ],
             [
              0.1111111111111111,
              "#46039f"
             ],
             [
              0.2222222222222222,
              "#7201a8"
             ],
             [
              0.3333333333333333,
              "#9c179e"
             ],
             [
              0.4444444444444444,
              "#bd3786"
             ],
             [
              0.5555555555555556,
              "#d8576b"
             ],
             [
              0.6666666666666666,
              "#ed7953"
             ],
             [
              0.7777777777777778,
              "#fb9f3a"
             ],
             [
              0.8888888888888888,
              "#fdca26"
             ],
             [
              1,
              "#f0f921"
             ]
            ],
            "type": "surface"
           }
          ],
          "table": [
           {
            "cells": {
             "fill": {
              "color": "#EBF0F8"
             },
             "line": {
              "color": "white"
             }
            },
            "header": {
             "fill": {
              "color": "#C8D4E3"
             },
             "line": {
              "color": "white"
             }
            },
            "type": "table"
           }
          ]
         },
         "layout": {
          "annotationdefaults": {
           "arrowcolor": "#2a3f5f",
           "arrowhead": 0,
           "arrowwidth": 1
          },
          "autotypenumbers": "strict",
          "coloraxis": {
           "colorbar": {
            "outlinewidth": 0,
            "ticks": ""
           }
          },
          "colorscale": {
           "diverging": [
            [
             0,
             "#8e0152"
            ],
            [
             0.1,
             "#c51b7d"
            ],
            [
             0.2,
             "#de77ae"
            ],
            [
             0.3,
             "#f1b6da"
            ],
            [
             0.4,
             "#fde0ef"
            ],
            [
             0.5,
             "#f7f7f7"
            ],
            [
             0.6,
             "#e6f5d0"
            ],
            [
             0.7,
             "#b8e186"
            ],
            [
             0.8,
             "#7fbc41"
            ],
            [
             0.9,
             "#4d9221"
            ],
            [
             1,
             "#276419"
            ]
           ],
           "sequential": [
            [
             0,
             "#0d0887"
            ],
            [
             0.1111111111111111,
             "#46039f"
            ],
            [
             0.2222222222222222,
             "#7201a8"
            ],
            [
             0.3333333333333333,
             "#9c179e"
            ],
            [
             0.4444444444444444,
             "#bd3786"
            ],
            [
             0.5555555555555556,
             "#d8576b"
            ],
            [
             0.6666666666666666,
             "#ed7953"
            ],
            [
             0.7777777777777778,
             "#fb9f3a"
            ],
            [
             0.8888888888888888,
             "#fdca26"
            ],
            [
             1,
             "#f0f921"
            ]
           ],
           "sequentialminus": [
            [
             0,
             "#0d0887"
            ],
            [
             0.1111111111111111,
             "#46039f"
            ],
            [
             0.2222222222222222,
             "#7201a8"
            ],
            [
             0.3333333333333333,
             "#9c179e"
            ],
            [
             0.4444444444444444,
             "#bd3786"
            ],
            [
             0.5555555555555556,
             "#d8576b"
            ],
            [
             0.6666666666666666,
             "#ed7953"
            ],
            [
             0.7777777777777778,
             "#fb9f3a"
            ],
            [
             0.8888888888888888,
             "#fdca26"
            ],
            [
             1,
             "#f0f921"
            ]
           ]
          },
          "colorway": [
           "#636efa",
           "#EF553B",
           "#00cc96",
           "#ab63fa",
           "#FFA15A",
           "#19d3f3",
           "#FF6692",
           "#B6E880",
           "#FF97FF",
           "#FECB52"
          ],
          "font": {
           "color": "#2a3f5f"
          },
          "geo": {
           "bgcolor": "white",
           "lakecolor": "white",
           "landcolor": "#E5ECF6",
           "showlakes": true,
           "showland": true,
           "subunitcolor": "white"
          },
          "hoverlabel": {
           "align": "left"
          },
          "hovermode": "closest",
          "mapbox": {
           "style": "light"
          },
          "paper_bgcolor": "white",
          "plot_bgcolor": "#E5ECF6",
          "polar": {
           "angularaxis": {
            "gridcolor": "white",
            "linecolor": "white",
            "ticks": ""
           },
           "bgcolor": "#E5ECF6",
           "radialaxis": {
            "gridcolor": "white",
            "linecolor": "white",
            "ticks": ""
           }
          },
          "scene": {
           "xaxis": {
            "backgroundcolor": "#E5ECF6",
            "gridcolor": "white",
            "gridwidth": 2,
            "linecolor": "white",
            "showbackground": true,
            "ticks": "",
            "zerolinecolor": "white"
           },
           "yaxis": {
            "backgroundcolor": "#E5ECF6",
            "gridcolor": "white",
            "gridwidth": 2,
            "linecolor": "white",
            "showbackground": true,
            "ticks": "",
            "zerolinecolor": "white"
           },
           "zaxis": {
            "backgroundcolor": "#E5ECF6",
            "gridcolor": "white",
            "gridwidth": 2,
            "linecolor": "white",
            "showbackground": true,
            "ticks": "",
            "zerolinecolor": "white"
           }
          },
          "shapedefaults": {
           "line": {
            "color": "#2a3f5f"
           }
          },
          "ternary": {
           "aaxis": {
            "gridcolor": "white",
            "linecolor": "white",
            "ticks": ""
           },
           "baxis": {
            "gridcolor": "white",
            "linecolor": "white",
            "ticks": ""
           },
           "bgcolor": "#E5ECF6",
           "caxis": {
            "gridcolor": "white",
            "linecolor": "white",
            "ticks": ""
           }
          },
          "title": {
           "x": 0.05
          },
          "xaxis": {
           "automargin": true,
           "gridcolor": "white",
           "linecolor": "white",
           "ticks": "",
           "title": {
            "standoff": 15
           },
           "zerolinecolor": "white",
           "zerolinewidth": 2
          },
          "yaxis": {
           "automargin": true,
           "gridcolor": "white",
           "linecolor": "white",
           "ticks": "",
           "title": {
            "standoff": 15
           },
           "zerolinecolor": "white",
           "zerolinewidth": 2
          }
         }
        },
        "xaxis": {
         "anchor": "y",
         "domain": [
          0,
          1
         ],
         "title": {
          "text": "x"
         }
        },
        "yaxis": {
         "anchor": "x",
         "domain": [
          0,
          1
         ],
         "title": {
          "text": "loss"
         }
        }
       }
      }
     },
     "metadata": {},
     "output_type": "display_data"
    }
   ],
   "source": [
    "\n",
    "#print(y_train.shape)\n",
    "\n",
    "def predict(w, xs):\n",
    "    return xs @ w\n",
    "\n",
    "def evaluate(w, xs, ys):\n",
    "    return msle(ys, predict(w, xs))\n",
    "\n",
    "def linear_regression(n_epochs, lr, w, x, y):\n",
    "    losses = [evaluate(w, x, y)]\n",
    "\n",
    "    for i in range(n_epochs):\n",
    "        y_hat = predict(w, x)\n",
    "        dJdwi = np.sum((y_hat - y) * x, axis = 0)\n",
    "\n",
    "        w = w - (2/n) * (lr * dJdwi).reshape(-1,1)\n",
    "\n",
    "        loss = evaluate(w, x, y)\n",
    "        losses.append(loss)\n",
    "\n",
    "        if i == 0 or (i+1) % 200 == 0:\n",
    "            print(f'Iter: {i:>3} Loss: {loss:8.8f} w: {[f\"{x[0]:.2f}\" for x in w]}')\n",
    "\n",
    "    return (w, losses)\n",
    "\n",
    "(w_mse, losses1) = linear_regression(n_epochs, lr, w, x_train, y_train)\n",
    "\n",
    "\"\"\n",
    "import plotly.express as px\n",
    "def plot_loss(l):\n",
    "    fig = px.line(y=l, labels={'y':'loss'})\n",
    "    fig.show()\n",
    "\n",
    "plot_loss(losses1)"
   ]
  },
  {
   "cell_type": "markdown",
   "metadata": {
    "id": "nzrrOte5-Eol"
   },
   "source": [
    "Note that the loss function that the algorithms optimizes (i.e $MSE$) differs from $MSLE$. We've already seen that this may result in a suboptimal solution.\n",
    "\n",
    "How can you change the setting so that we optimze $MSLE$ instead?"
   ]
  },
  {
   "cell_type": "markdown",
   "metadata": {
    "id": "qVD8kWEJ-Eom"
   },
   "source": [
    "Hint:\n",
    "<sub><sup><sub><sup><sub><sup>\n",
    "Be lazy. We don't want to change the algorithm.\n",
    "</sup></sub></sup></sub></sup></sub>"
   ]
  },
  {
   "cell_type": "code",
   "execution_count": 48,
   "metadata": {
    "id": "MniIPMg8-Eom"
   },
   "outputs": [
    {
     "name": "stdout",
     "output_type": "stream",
     "text": [
      "Iter:   0 Loss: 0.01348858 w: ['0.10', '0.07', '0.08', '0.07', '0.10', '0.05', '0.02', '0.03', '0.03', '0.02']\n",
      "Iter: 199 Loss: 0.00089964 w: ['-0.04', '0.43', '0.29', '0.22', '-0.04', '0.01', '-0.13', '0.07', '0.07', '-0.06']\n"
     ]
    },
    {
     "data": {
      "application/vnd.plotly.v1+json": {
       "config": {
        "plotlyServerURL": "https://plot.ly"
       },
       "data": [
        {
         "hovertemplate": "x=%{x}<br>loss=%{y}<extra></extra>",
         "legendgroup": "",
         "line": {
          "color": "#636efa",
          "dash": "solid"
         },
         "marker": {
          "symbol": "circle"
         },
         "mode": "lines",
         "name": "",
         "orientation": "v",
         "showlegend": false,
         "type": "scatter",
         "x": [
          0,
          1,
          2,
          3,
          4,
          5,
          6,
          7,
          8,
          9,
          10,
          11,
          12,
          13,
          14,
          15,
          16,
          17,
          18,
          19,
          20,
          21,
          22,
          23,
          24,
          25,
          26,
          27,
          28,
          29,
          30,
          31,
          32,
          33,
          34,
          35,
          36,
          37,
          38,
          39,
          40,
          41,
          42,
          43,
          44,
          45,
          46,
          47,
          48,
          49,
          50,
          51,
          52,
          53,
          54,
          55,
          56,
          57,
          58,
          59,
          60,
          61,
          62,
          63,
          64,
          65,
          66,
          67,
          68,
          69,
          70,
          71,
          72,
          73,
          74,
          75,
          76,
          77,
          78,
          79,
          80,
          81,
          82,
          83,
          84,
          85,
          86,
          87,
          88,
          89,
          90,
          91,
          92,
          93,
          94,
          95,
          96,
          97,
          98,
          99,
          100,
          101,
          102,
          103,
          104,
          105,
          106,
          107,
          108,
          109,
          110,
          111,
          112,
          113,
          114,
          115,
          116,
          117,
          118,
          119,
          120,
          121,
          122,
          123,
          124,
          125,
          126,
          127,
          128,
          129,
          130,
          131,
          132,
          133,
          134,
          135,
          136,
          137,
          138,
          139,
          140,
          141,
          142,
          143,
          144,
          145,
          146,
          147,
          148,
          149,
          150,
          151,
          152,
          153,
          154,
          155,
          156,
          157,
          158,
          159,
          160,
          161,
          162,
          163,
          164,
          165,
          166,
          167,
          168,
          169,
          170,
          171,
          172,
          173,
          174,
          175,
          176,
          177,
          178,
          179,
          180,
          181,
          182,
          183,
          184,
          185,
          186,
          187,
          188,
          189,
          190,
          191,
          192,
          193,
          194,
          195,
          196,
          197,
          198,
          199,
          200,
          201,
          202,
          203,
          204,
          205,
          206,
          207,
          208,
          209,
          210,
          211,
          212,
          213,
          214,
          215,
          216,
          217,
          218,
          219,
          220,
          221,
          222,
          223,
          224,
          225,
          226,
          227,
          228,
          229,
          230,
          231,
          232,
          233,
          234,
          235,
          236,
          237,
          238,
          239,
          240,
          241,
          242,
          243,
          244,
          245,
          246,
          247,
          248,
          249,
          250
         ],
         "xaxis": "x",
         "y": [
          0.10688209904336864,
          0.013488579439854433,
          0.008317562053213394,
          0.007787574298171168,
          0.007470162977013626,
          0.007151819915613779,
          0.006843201602016849,
          0.006551362457724324,
          0.006277529741655279,
          0.006021031846327421,
          0.005780729229961542,
          0.0055554308947046984,
          0.0053440049842196505,
          0.005145403202208973,
          0.004958661763449513,
          0.004782896350061128,
          0.00461729587437605,
          0.004461116335007036,
          0.004313675083991311,
          0.004174345558803918,
          0.00404255246327676,
          0.003917767365001637,
          0.0037995046747557105,
          0.003687317975181804,
          0.0035807966684676786,
          0.003479562915318486,
          0.003383268839908794,
          0.003291593977698304,
          0.0032042429450029088,
          0.0031209433110441897,
          0.0030414436548714388,
          0.002965511791075197,
          0.0028929331496035954,
          0.002823509296264205,
          0.002757056581655596,
          0.0026934049073339857,
          0.0026323965989901725,
          0.0025738853772981486,
          0.0025177354179068824,
          0.0024638204927870696,
          0.002412023185821419,
          0.002362234176145426,
          0.0023143515833109296,
          0.002268280368861258,
          0.002223931789378779,
          0.0021812228964970364,
          0.0021400760797636153,
          0.0021004186485998567,
          0.0020621824499323267,
          0.002025303518371189,
          0.0019897217560848187,
          0.001955380639770345,
          0.001922226952348357,
          0.0018902105372186108,
          0.0018592840731039722,
          0.0018294028676836232,
          0.0018005246683750337,
          0.0017726094887689202,
          0.001745619449353298,
          0.001719518631283138,
          0.0016942729420618891,
          0.0016698499921012305,
          0.0016462189812166943,
          0.0016233505942000416,
          0.0016012169046851212,
          0.001579791286593139,
          0.0015590483325062833,
          0.0015389637783761456,
          0.0015195144340257245,
          0.001500678118951554,
          0.0014824336029759888,
          0.001464760551339306,
          0.0014476394738574152,
          0.0014310516778038643,
          0.001414979224204841,
          0.00139940488726315,
          0.0013843121166520727,
          0.0013696850024426876,
          0.0013555082424488725,
          0.0013417671117930752,
          0.0013284474345130392,
          0.001315535557045359,
          0.0013030183234359206,
          0.0012908830521403082,
          0.001279117514289021,
          0.0012677099133032075,
          0.0012566488657563186,
          0.001245923383386148,
          0.0012355228561698114,
          0.001225437036381652,
          0.0012156560235608768,
          0.0012061702503218478,
          0.0011969704689456444,
          0.0011880477386965874,
          0.0011793934138121477,
          0.0011709991321189027,
          0.0011628568042311245,
          0.0011549586032921022,
          0.0011472969552216064,
          0.0011398645294357875,
          0.0011326542300085765,
          0.001125659187246065,
          0.001118872749647655,
          0.0011122884762297615,
          0.0011059001291897947,
          0.001099701666889838,
          0.0010936872371410057,
          0.0010878511707709268,
          0.0010821879754581002,
          0.0010766923298180765,
          0.0010713590777275204,
          0.0010661832228732351,
          0.0010611599235141355,
          0.0010562844874450156,
          0.001051552367151735,
          0.0010469591551481728,
          0.0010425005794859271,
          0.0010381724994283747,
          0.0010339709012812388,
          0.0010298918943723243,
          0.0010259317071735622,
          0.0010220866835589184,
          0.0010183532791921423,
          0.0010147280580386742,
          0.001011207688996396,
          0.0010077889426401954,
          0.0010044686880756356,
          0.0010012438898972492,
          0.0009981116052472725,
          0.0009950689809708254,
          0.0009921132508637761,
          0.0009892417330097229,
          0.0009864518272027153,
          0.0009837410124524971,
          0.0009811068445692258,
          0.0009785469538247658,
          0.0009760590426877897,
          0.0009736408836300598,
          0.0009712903170013761,
          0.0009690052489707984,
          0.0009667836495318413,
          0.0009646235505694692,
          0.0009625230439867792,
          0.00096048027988938,
          0.0009584934648255278,
          0.0009565608600801903,
          0.0009546807800212536,
          0.0009528515904961848,
          0.0009510717072775063,
          0.0009493395945555144,
          0.0009476537634767322,
          0.0009460127707266417,
          0.0009444152171552866,
          0.000942859746444408,
          0.0009413450438148015,
          0.0009398698347726412,
          0.0009384328838935624,
          0.0009370329936433375,
          0.0009356690032340045,
          0.0009343397875143675,
          0.0009330442558938146,
          0.0009317813512984307,
          0.0009305500491584185,
          0.0009293493564258896,
          0.0009281783106220879,
          0.0009270359789131589,
          0.0009259214572136074,
          0.0009248338693166081,
          0.0009237723660503521,
          0.0009227361244596562,
          0.000921724347012067,
          0.0009207362608277401,
          0.0009197711169323642,
          0.0009188281895324543,
          0.0009179067753123422,
          0.0009170061927522108,
          0.000916125781466549,
          0.0009152649015624222,
          0.0009144229330169607,
          0.0009135992750734953,
          0.0009127933456557883,
          0.0009120045807998175,
          0.0009112324341025998,
          0.0009104763761875273,
          0.0009097358941857531,
          0.0009090104912331272,
          0.0009082996859822305,
          0.0009076030121290574,
          0.0009069200179539069,
          0.0009062502658760706,
          0.0009055933320218922,
          0.000904948805805817,
          0.0009043162895240379,
          0.0009036953979603549,
          0.0009030857580039081,
          0.0009024870082784051,
          0.0009018987987825225,
          0.0009013207905411305,
          0.000900752655267036,
          0.0009001940750329234,
          0.0008996447419531834,
          0.0008991043578753451,
          0.0008985726340808256,
          0.0008980492909947127,
          0.0008975340579043102,
          0.0008970266726862038,
          0.0008965268815415646,
          0.0008960344387394644,
          0.000895549106367966,
          0.0008950706540927361,
          0.0008945988589229814,
          0.000894133504984469,
          0.0008936743832994348,
          0.0008932212915731596,
          0.0008927740339870273,
          0.000892332420997862,
          0.0008918962691433588,
          0.0008914654008534307,
          0.0008910396442672833,
          0.0008906188330560588,
          0.0008902028062508718,
          0.0008897914080760842,
          0.0008893844877876525,
          0.0008889818995164039,
          0.0008885835021160902,
          0.0008881891590160726,
          0.0008877987380785048,
          0.0008874121114598705,
          0.000887029155476759,
          0.0008866497504757328,
          0.0008862737807071755,
          0.0008859011342030069,
          0.0008855317026581222,
          0.0008851653813154825,
          0.0008848020688547079,
          0.0008844416672840917,
          0.0008840840818359265,
          0.0008837292208650392,
          0.0008833769957504429,
          0.0008830273208000009,
          0.0008826801131580337,
          0.000882335292715751,
          0.0008819927820244497,
          0.0008816525062113751,
          0.0008813143928981817,
          0.0008809783721218923,
          0.0008806443762583052,
          0.0008803123399477616,
          0.0008799822000231934,
          0.0008796538954404054,
          0.0008793273672105009
         ],
         "yaxis": "y"
        }
       ],
       "layout": {
        "legend": {
         "tracegroupgap": 0
        },
        "margin": {
         "t": 60
        },
        "template": {
         "data": {
          "bar": [
           {
            "error_x": {
             "color": "#2a3f5f"
            },
            "error_y": {
             "color": "#2a3f5f"
            },
            "marker": {
             "line": {
              "color": "#E5ECF6",
              "width": 0.5
             },
             "pattern": {
              "fillmode": "overlay",
              "size": 10,
              "solidity": 0.2
             }
            },
            "type": "bar"
           }
          ],
          "barpolar": [
           {
            "marker": {
             "line": {
              "color": "#E5ECF6",
              "width": 0.5
             },
             "pattern": {
              "fillmode": "overlay",
              "size": 10,
              "solidity": 0.2
             }
            },
            "type": "barpolar"
           }
          ],
          "carpet": [
           {
            "aaxis": {
             "endlinecolor": "#2a3f5f",
             "gridcolor": "white",
             "linecolor": "white",
             "minorgridcolor": "white",
             "startlinecolor": "#2a3f5f"
            },
            "baxis": {
             "endlinecolor": "#2a3f5f",
             "gridcolor": "white",
             "linecolor": "white",
             "minorgridcolor": "white",
             "startlinecolor": "#2a3f5f"
            },
            "type": "carpet"
           }
          ],
          "choropleth": [
           {
            "colorbar": {
             "outlinewidth": 0,
             "ticks": ""
            },
            "type": "choropleth"
           }
          ],
          "contour": [
           {
            "colorbar": {
             "outlinewidth": 0,
             "ticks": ""
            },
            "colorscale": [
             [
              0,
              "#0d0887"
             ],
             [
              0.1111111111111111,
              "#46039f"
             ],
             [
              0.2222222222222222,
              "#7201a8"
             ],
             [
              0.3333333333333333,
              "#9c179e"
             ],
             [
              0.4444444444444444,
              "#bd3786"
             ],
             [
              0.5555555555555556,
              "#d8576b"
             ],
             [
              0.6666666666666666,
              "#ed7953"
             ],
             [
              0.7777777777777778,
              "#fb9f3a"
             ],
             [
              0.8888888888888888,
              "#fdca26"
             ],
             [
              1,
              "#f0f921"
             ]
            ],
            "type": "contour"
           }
          ],
          "contourcarpet": [
           {
            "colorbar": {
             "outlinewidth": 0,
             "ticks": ""
            },
            "type": "contourcarpet"
           }
          ],
          "heatmap": [
           {
            "colorbar": {
             "outlinewidth": 0,
             "ticks": ""
            },
            "colorscale": [
             [
              0,
              "#0d0887"
             ],
             [
              0.1111111111111111,
              "#46039f"
             ],
             [
              0.2222222222222222,
              "#7201a8"
             ],
             [
              0.3333333333333333,
              "#9c179e"
             ],
             [
              0.4444444444444444,
              "#bd3786"
             ],
             [
              0.5555555555555556,
              "#d8576b"
             ],
             [
              0.6666666666666666,
              "#ed7953"
             ],
             [
              0.7777777777777778,
              "#fb9f3a"
             ],
             [
              0.8888888888888888,
              "#fdca26"
             ],
             [
              1,
              "#f0f921"
             ]
            ],
            "type": "heatmap"
           }
          ],
          "heatmapgl": [
           {
            "colorbar": {
             "outlinewidth": 0,
             "ticks": ""
            },
            "colorscale": [
             [
              0,
              "#0d0887"
             ],
             [
              0.1111111111111111,
              "#46039f"
             ],
             [
              0.2222222222222222,
              "#7201a8"
             ],
             [
              0.3333333333333333,
              "#9c179e"
             ],
             [
              0.4444444444444444,
              "#bd3786"
             ],
             [
              0.5555555555555556,
              "#d8576b"
             ],
             [
              0.6666666666666666,
              "#ed7953"
             ],
             [
              0.7777777777777778,
              "#fb9f3a"
             ],
             [
              0.8888888888888888,
              "#fdca26"
             ],
             [
              1,
              "#f0f921"
             ]
            ],
            "type": "heatmapgl"
           }
          ],
          "histogram": [
           {
            "marker": {
             "pattern": {
              "fillmode": "overlay",
              "size": 10,
              "solidity": 0.2
             }
            },
            "type": "histogram"
           }
          ],
          "histogram2d": [
           {
            "colorbar": {
             "outlinewidth": 0,
             "ticks": ""
            },
            "colorscale": [
             [
              0,
              "#0d0887"
             ],
             [
              0.1111111111111111,
              "#46039f"
             ],
             [
              0.2222222222222222,
              "#7201a8"
             ],
             [
              0.3333333333333333,
              "#9c179e"
             ],
             [
              0.4444444444444444,
              "#bd3786"
             ],
             [
              0.5555555555555556,
              "#d8576b"
             ],
             [
              0.6666666666666666,
              "#ed7953"
             ],
             [
              0.7777777777777778,
              "#fb9f3a"
             ],
             [
              0.8888888888888888,
              "#fdca26"
             ],
             [
              1,
              "#f0f921"
             ]
            ],
            "type": "histogram2d"
           }
          ],
          "histogram2dcontour": [
           {
            "colorbar": {
             "outlinewidth": 0,
             "ticks": ""
            },
            "colorscale": [
             [
              0,
              "#0d0887"
             ],
             [
              0.1111111111111111,
              "#46039f"
             ],
             [
              0.2222222222222222,
              "#7201a8"
             ],
             [
              0.3333333333333333,
              "#9c179e"
             ],
             [
              0.4444444444444444,
              "#bd3786"
             ],
             [
              0.5555555555555556,
              "#d8576b"
             ],
             [
              0.6666666666666666,
              "#ed7953"
             ],
             [
              0.7777777777777778,
              "#fb9f3a"
             ],
             [
              0.8888888888888888,
              "#fdca26"
             ],
             [
              1,
              "#f0f921"
             ]
            ],
            "type": "histogram2dcontour"
           }
          ],
          "mesh3d": [
           {
            "colorbar": {
             "outlinewidth": 0,
             "ticks": ""
            },
            "type": "mesh3d"
           }
          ],
          "parcoords": [
           {
            "line": {
             "colorbar": {
              "outlinewidth": 0,
              "ticks": ""
             }
            },
            "type": "parcoords"
           }
          ],
          "pie": [
           {
            "automargin": true,
            "type": "pie"
           }
          ],
          "scatter": [
           {
            "fillpattern": {
             "fillmode": "overlay",
             "size": 10,
             "solidity": 0.2
            },
            "type": "scatter"
           }
          ],
          "scatter3d": [
           {
            "line": {
             "colorbar": {
              "outlinewidth": 0,
              "ticks": ""
             }
            },
            "marker": {
             "colorbar": {
              "outlinewidth": 0,
              "ticks": ""
             }
            },
            "type": "scatter3d"
           }
          ],
          "scattercarpet": [
           {
            "marker": {
             "colorbar": {
              "outlinewidth": 0,
              "ticks": ""
             }
            },
            "type": "scattercarpet"
           }
          ],
          "scattergeo": [
           {
            "marker": {
             "colorbar": {
              "outlinewidth": 0,
              "ticks": ""
             }
            },
            "type": "scattergeo"
           }
          ],
          "scattergl": [
           {
            "marker": {
             "colorbar": {
              "outlinewidth": 0,
              "ticks": ""
             }
            },
            "type": "scattergl"
           }
          ],
          "scattermapbox": [
           {
            "marker": {
             "colorbar": {
              "outlinewidth": 0,
              "ticks": ""
             }
            },
            "type": "scattermapbox"
           }
          ],
          "scatterpolar": [
           {
            "marker": {
             "colorbar": {
              "outlinewidth": 0,
              "ticks": ""
             }
            },
            "type": "scatterpolar"
           }
          ],
          "scatterpolargl": [
           {
            "marker": {
             "colorbar": {
              "outlinewidth": 0,
              "ticks": ""
             }
            },
            "type": "scatterpolargl"
           }
          ],
          "scatterternary": [
           {
            "marker": {
             "colorbar": {
              "outlinewidth": 0,
              "ticks": ""
             }
            },
            "type": "scatterternary"
           }
          ],
          "surface": [
           {
            "colorbar": {
             "outlinewidth": 0,
             "ticks": ""
            },
            "colorscale": [
             [
              0,
              "#0d0887"
             ],
             [
              0.1111111111111111,
              "#46039f"
             ],
             [
              0.2222222222222222,
              "#7201a8"
             ],
             [
              0.3333333333333333,
              "#9c179e"
             ],
             [
              0.4444444444444444,
              "#bd3786"
             ],
             [
              0.5555555555555556,
              "#d8576b"
             ],
             [
              0.6666666666666666,
              "#ed7953"
             ],
             [
              0.7777777777777778,
              "#fb9f3a"
             ],
             [
              0.8888888888888888,
              "#fdca26"
             ],
             [
              1,
              "#f0f921"
             ]
            ],
            "type": "surface"
           }
          ],
          "table": [
           {
            "cells": {
             "fill": {
              "color": "#EBF0F8"
             },
             "line": {
              "color": "white"
             }
            },
            "header": {
             "fill": {
              "color": "#C8D4E3"
             },
             "line": {
              "color": "white"
             }
            },
            "type": "table"
           }
          ]
         },
         "layout": {
          "annotationdefaults": {
           "arrowcolor": "#2a3f5f",
           "arrowhead": 0,
           "arrowwidth": 1
          },
          "autotypenumbers": "strict",
          "coloraxis": {
           "colorbar": {
            "outlinewidth": 0,
            "ticks": ""
           }
          },
          "colorscale": {
           "diverging": [
            [
             0,
             "#8e0152"
            ],
            [
             0.1,
             "#c51b7d"
            ],
            [
             0.2,
             "#de77ae"
            ],
            [
             0.3,
             "#f1b6da"
            ],
            [
             0.4,
             "#fde0ef"
            ],
            [
             0.5,
             "#f7f7f7"
            ],
            [
             0.6,
             "#e6f5d0"
            ],
            [
             0.7,
             "#b8e186"
            ],
            [
             0.8,
             "#7fbc41"
            ],
            [
             0.9,
             "#4d9221"
            ],
            [
             1,
             "#276419"
            ]
           ],
           "sequential": [
            [
             0,
             "#0d0887"
            ],
            [
             0.1111111111111111,
             "#46039f"
            ],
            [
             0.2222222222222222,
             "#7201a8"
            ],
            [
             0.3333333333333333,
             "#9c179e"
            ],
            [
             0.4444444444444444,
             "#bd3786"
            ],
            [
             0.5555555555555556,
             "#d8576b"
            ],
            [
             0.6666666666666666,
             "#ed7953"
            ],
            [
             0.7777777777777778,
             "#fb9f3a"
            ],
            [
             0.8888888888888888,
             "#fdca26"
            ],
            [
             1,
             "#f0f921"
            ]
           ],
           "sequentialminus": [
            [
             0,
             "#0d0887"
            ],
            [
             0.1111111111111111,
             "#46039f"
            ],
            [
             0.2222222222222222,
             "#7201a8"
            ],
            [
             0.3333333333333333,
             "#9c179e"
            ],
            [
             0.4444444444444444,
             "#bd3786"
            ],
            [
             0.5555555555555556,
             "#d8576b"
            ],
            [
             0.6666666666666666,
             "#ed7953"
            ],
            [
             0.7777777777777778,
             "#fb9f3a"
            ],
            [
             0.8888888888888888,
             "#fdca26"
            ],
            [
             1,
             "#f0f921"
            ]
           ]
          },
          "colorway": [
           "#636efa",
           "#EF553B",
           "#00cc96",
           "#ab63fa",
           "#FFA15A",
           "#19d3f3",
           "#FF6692",
           "#B6E880",
           "#FF97FF",
           "#FECB52"
          ],
          "font": {
           "color": "#2a3f5f"
          },
          "geo": {
           "bgcolor": "white",
           "lakecolor": "white",
           "landcolor": "#E5ECF6",
           "showlakes": true,
           "showland": true,
           "subunitcolor": "white"
          },
          "hoverlabel": {
           "align": "left"
          },
          "hovermode": "closest",
          "mapbox": {
           "style": "light"
          },
          "paper_bgcolor": "white",
          "plot_bgcolor": "#E5ECF6",
          "polar": {
           "angularaxis": {
            "gridcolor": "white",
            "linecolor": "white",
            "ticks": ""
           },
           "bgcolor": "#E5ECF6",
           "radialaxis": {
            "gridcolor": "white",
            "linecolor": "white",
            "ticks": ""
           }
          },
          "scene": {
           "xaxis": {
            "backgroundcolor": "#E5ECF6",
            "gridcolor": "white",
            "gridwidth": 2,
            "linecolor": "white",
            "showbackground": true,
            "ticks": "",
            "zerolinecolor": "white"
           },
           "yaxis": {
            "backgroundcolor": "#E5ECF6",
            "gridcolor": "white",
            "gridwidth": 2,
            "linecolor": "white",
            "showbackground": true,
            "ticks": "",
            "zerolinecolor": "white"
           },
           "zaxis": {
            "backgroundcolor": "#E5ECF6",
            "gridcolor": "white",
            "gridwidth": 2,
            "linecolor": "white",
            "showbackground": true,
            "ticks": "",
            "zerolinecolor": "white"
           }
          },
          "shapedefaults": {
           "line": {
            "color": "#2a3f5f"
           }
          },
          "ternary": {
           "aaxis": {
            "gridcolor": "white",
            "linecolor": "white",
            "ticks": ""
           },
           "baxis": {
            "gridcolor": "white",
            "linecolor": "white",
            "ticks": ""
           },
           "bgcolor": "#E5ECF6",
           "caxis": {
            "gridcolor": "white",
            "linecolor": "white",
            "ticks": ""
           }
          },
          "title": {
           "x": 0.05
          },
          "xaxis": {
           "automargin": true,
           "gridcolor": "white",
           "linecolor": "white",
           "ticks": "",
           "title": {
            "standoff": 15
           },
           "zerolinecolor": "white",
           "zerolinewidth": 2
          },
          "yaxis": {
           "automargin": true,
           "gridcolor": "white",
           "linecolor": "white",
           "ticks": "",
           "title": {
            "standoff": 15
           },
           "zerolinecolor": "white",
           "zerolinewidth": 2
          }
         }
        },
        "xaxis": {
         "anchor": "y",
         "domain": [
          0,
          1
         ],
         "title": {
          "text": "x"
         }
        },
        "yaxis": {
         "anchor": "x",
         "domain": [
          0,
          1
         ],
         "title": {
          "text": "loss"
         }
        }
       }
      }
     },
     "metadata": {},
     "output_type": "display_data"
    }
   ],
   "source": [
    "#############################################\n",
    "# TODO: Optimize msle and compare the error #\n",
    "#############################################\n",
    "\n",
    "(w_msle, l2) = linear_regression(n_epochs, lr, w, np.log(x_train + 1), np.log(y_train + 1))\n",
    "\n",
    "plot_loss(l2)"
   ]
  },
  {
   "cell_type": "markdown",
   "metadata": {
    "id": "OvWrBkLu-Eoo"
   },
   "source": [
    "Without any feature engineering our model approximates the price as a linear combination of original features:\n",
    "$$\n",
    "\\text{price} \\approx w_1 \\cdot \\text{area} + w_2 \\cdot \\text{district} + \\dots.\n",
    "$$\n",
    "Let's now introduce some interactions between the variables. For instance, let's consider a following formula:\n",
    "$$\n",
    "\\text{price} \\approx w_1 \\cdot \\text{area} \\cdot \\text{avg. price in the district per sq. meter} + w_2 \\cdot \\dots + \\dots.\n",
    "$$\n",
    "Here, we model the price with far greater granularity, and we may expect to see more acurate results."
   ]
  },
  {
   "cell_type": "markdown",
   "metadata": {
    "id": "zBM60E7t-Eop"
   },
   "source": [
    "Add some feature engineering to your model. Be sure to play with the data and not with the algorithm's code.\n",
    "\n",
    "Think how to make sure that your model is capable of capturing the $w_1 \\cdot \\text{area} \\cdot \\text{avg. price...}$ part, without actually computing the averages."
   ]
  },
  {
   "cell_type": "markdown",
   "metadata": {
    "id": "XT5DziNC-Eoq"
   },
   "source": [
    "Hint:\n",
    "<sub><sup><sub><sup><sub><sup>\n",
    "Is having a binary encoding for each district and multiplying it by area enough?\n",
    "</sup></sub></sup></sub></sup></sub>"
   ]
  },
  {
   "cell_type": "markdown",
   "metadata": {
    "id": "PKOVCHNz-Eor"
   },
   "source": [
    "Hint 2:\n",
    "<sub><sup><sub><sup><sub><sup>\n",
    "Why not multiply everything together? I.e. (A,B,C) -> (AB,AC,BC).\n",
    "</sup></sub></sup></sub></sup></sub>"
   ]
  },
  {
   "cell_type": "code",
   "execution_count": 49,
   "metadata": {
    "id": "DPviz09O-Eor"
   },
   "outputs": [
    {
     "name": "stdout",
     "output_type": "stream",
     "text": [
      "Iter:   0 Loss: 0.03794292 w: ['0.18', '0.12', '0.14', '0.12', '0.18', '0.09', '0.03', '0.06', '0.06', '0.04', '0.02', '0.04', '0.04', '0.03']\n",
      "Iter: 199 Loss: 0.00067180 w: ['-0.02', '0.40', '0.23', '0.15', '-0.02', '0.01', '-0.03', '0.02', '-0.00', '-0.01', '-0.10', '0.22', '0.28', '-0.00']\n",
      "optimizing mse^\n",
      "\n",
      "Iter:   0 Loss: 0.01225981 w: ['0.10', '0.07', '0.08', '0.07', '0.10', '0.05', '0.02', '0.03', '0.03', '0.02', '0.01', '0.02', '0.02', '0.02']\n",
      "Iter: 199 Loss: 0.00046504 w: ['-0.03', '0.38', '0.26', '0.19', '-0.03', '0.01', '-0.06', '0.04', '0.02', '-0.02', '-0.03', '0.16', '0.20', '0.04']\n",
      "optimizing msle^\n"
     ]
    }
   ],
   "source": [
    "###############################################\n",
    "# TODO: Implement the feature engineering part #\n",
    "###############################################\n",
    "\n",
    "def add_avg_price(x_train, districts = districts):\n",
    "    districts_cols = x_train.T[-districts:]\n",
    "    avg_price = x_train.T[1] * districts_cols\n",
    "    ex_train = np.vstack([x_train.T, avg_price]).T #appended new features\n",
    "\n",
    "    return ex_train\n",
    "\n",
    "ex_train = add_avg_price(x_train)\n",
    "\n",
    "#print(ex_train.T[9:])\n",
    "efeatures = ex_train.shape[1]\n",
    "ew = np.zeros(efeatures).reshape(-1, 1)\n",
    "\n",
    "(ew_mse, _) = linear_regression(n_epochs, lr, ew, ex_train, y_train)\n",
    "print('optimizing mse^\\n')\n",
    "(ew_msle, _) = linear_regression(n_epochs, lr, ew, np.log(1 + ex_train), np.log(1 + y_train))\n",
    "print('optimizing msle^')\n"
   ]
  },
  {
   "cell_type": "code",
   "execution_count": 50,
   "metadata": {},
   "outputs": [
    {
     "name": "stdout",
     "output_type": "stream",
     "text": [
      "Test accuracies:\n",
      "MSE: 0.003997138382053667 \n",
      "MSLE: 0.0018071128203093123\n",
      "\n",
      "omse^     omsle\\/\n",
      "MSE: 0.004420362293649104 \n",
      "MSLE: 0.0020094707581270743\n",
      "\n",
      "MSE: 0.0012601271497606206 \n",
      "MSLE: 0.0006040250205272509\n",
      "\n",
      "eomse^    ewomsle\\/\n",
      "MSE: 0.002353637445160785 \n",
      "MSLE: 0.0010727266737188587\n",
      "\n"
     ]
    }
   ],
   "source": [
    "### Check models on test data\n",
    "\n",
    "x_norm, y_norm\n",
    "\n",
    "def prepare_x(x, features):\n",
    "    x = one_hot(x)\n",
    "    x = add_column(1, x)\n",
    "\n",
    "    for i in range(x.shape[1]):\n",
    "        max = x_norm[i]\n",
    "        x.T[i] /= max\n",
    "    \n",
    "    if features == x.shape[1]:\n",
    "        return x\n",
    "    else:\n",
    "        return add_avg_price(x)\n",
    "\n",
    "def check_loss(w, x_ = x_test, y_ = y_test):\n",
    "    features = w.shape[0]\n",
    "    x_ = prepare_x(x_, features).astype(np.float64)  \n",
    "    y_= (y_/ y_norm).reshape(-1,1)\n",
    "\n",
    "    print(f\"MSE: {mse(predict(w, x_), y_)} \\nMSLE: {msle(predict(w, x_), y_)}\\n\")\n",
    "\n",
    "print(\"Test accuracies:\")\n",
    "check_loss(w_mse)\n",
    "print(\"omse^     omsle\\\\/\")\n",
    "check_loss(w_msle)\n",
    "check_loss(ew_mse)\n",
    "print(\"eomse^    ewomsle\\\\/\")\n",
    "check_loss(ew_msle)"
   ]
  }
 ],
 "metadata": {
  "colab": {
   "provenance": [
    {
     "file_id": "https://github.com/mim-ml-teaching/public-dnn-2024-25/blob/master/docs/DNN-Lab-1-MSLE-student-version.ipynb",
     "timestamp": 1728988319829
    }
   ]
  },
  "kernelspec": {
   "display_name": "venv",
   "language": "python",
   "name": "python3"
  },
  "language_info": {
   "codemirror_mode": {
    "name": "ipython",
    "version": 3
   },
   "file_extension": ".py",
   "mimetype": "text/x-python",
   "name": "python",
   "nbconvert_exporter": "python",
   "pygments_lexer": "ipython3",
   "version": "3.12.7"
  }
 },
 "nbformat": 4,
 "nbformat_minor": 0
}
