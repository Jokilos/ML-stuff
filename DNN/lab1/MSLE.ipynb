{
 "cells": [
  {
   "cell_type": "markdown",
   "metadata": {
    "id": "VqdiMxZx-EoD"
   },
   "source": [
    "# Linear regression\n",
    "\n",
    "In this exercise you will use linear regression to predict flat prices. Training will be handled via gradient descent and we will:\n",
    "* have multiple features (i.e. variables used to make the prediction),\n",
    "* employ some basic feature engineering,\n",
    "* work with a non-standard loss function.\n",
    "\n",
    "Let's start with getting the data."
   ]
  },
  {
   "cell_type": "code",
   "execution_count": 1,
   "metadata": {
    "colab": {
     "base_uri": "https://localhost:8080/"
    },
    "executionInfo": {
     "elapsed": 5466,
     "status": "ok",
     "timestamp": 1729363993563,
     "user": {
      "displayName": "Jakub Nowacki",
      "userId": "04628940980631792389"
     },
     "user_tz": -120
    },
    "id": "heeKjQ2r-EoH",
    "outputId": "f513ddab-5cf0-4ff7-f929-4a2d9a32d0ce"
   },
   "outputs": [
    {
     "name": "stdout",
     "output_type": "stream",
     "text": [
      "--2024-10-20 00:57:34--  https://www.dropbox.com/s/zey0gx91pna8irj/mieszkania.csv?dl=1\n",
      "Loaded CA certificate '/etc/ssl/certs/ca-certificates.crt'\n",
      "Resolving www.dropbox.com (www.dropbox.com)... 162.125.72.18, 2620:100:6027:18::a27d:4812\n",
      "Connecting to www.dropbox.com (www.dropbox.com)|162.125.72.18|:443... connected.\n",
      "HTTP request sent, awaiting response... 302 Found\n",
      "Location: https://www.dropbox.com/scl/fi/3x5umw93vtxvmp037wczv/mieszkania.csv?rlkey=dmvzaueu361g7s2w6ui6m9ryb&dl=1 [following]\n",
      "--2024-10-20 00:57:35--  https://www.dropbox.com/scl/fi/3x5umw93vtxvmp037wczv/mieszkania.csv?rlkey=dmvzaueu361g7s2w6ui6m9ryb&dl=1\n",
      "Reusing existing connection to www.dropbox.com:443.\n",
      "HTTP request sent, awaiting response... 302 Found\n",
      "Location: https://ucc9cd5406ddf9b7769dbb8587a8.dl.dropboxusercontent.com/cd/0/inline/CcxE5NroufEmc-p8wU6Mv5i8Nc1KJjDaZ7LyQHslNyqpqiC1j6QB2M7V1KGMJjbhFcuSfZYHMPIooHcJ63EIx1jkcvIngE89lKSiFDYfeSdbBevCsFNdh8oZ5_K666pkF7c/file?dl=1# [following]\n",
      "--2024-10-20 00:57:35--  https://ucc9cd5406ddf9b7769dbb8587a8.dl.dropboxusercontent.com/cd/0/inline/CcxE5NroufEmc-p8wU6Mv5i8Nc1KJjDaZ7LyQHslNyqpqiC1j6QB2M7V1KGMJjbhFcuSfZYHMPIooHcJ63EIx1jkcvIngE89lKSiFDYfeSdbBevCsFNdh8oZ5_K666pkF7c/file?dl=1\n",
      "Resolving ucc9cd5406ddf9b7769dbb8587a8.dl.dropboxusercontent.com (ucc9cd5406ddf9b7769dbb8587a8.dl.dropboxusercontent.com)... 162.125.72.15, 2620:100:6027:15::a27d:480f\n",
      "Connecting to ucc9cd5406ddf9b7769dbb8587a8.dl.dropboxusercontent.com (ucc9cd5406ddf9b7769dbb8587a8.dl.dropboxusercontent.com)|162.125.72.15|:443... connected.\n",
      "HTTP request sent, awaiting response... 200 OK\n",
      "Length: 6211 (6.1K) [application/binary]\n",
      "Saving to: ‘mieszkania.csv’\n",
      "\n",
      "mieszkania.csv      100%[===================>]   6.07K  --.-KB/s    in 0s      \n",
      "\n",
      "2024-10-20 00:57:36 (62.0 MB/s) - ‘mieszkania.csv’ saved [6211/6211]\n",
      "\n",
      "--2024-10-20 00:57:36--  https://www.dropbox.com/s/dbrj6sbxb4ayqjz/mieszkania_test.csv?dl=1\n",
      "Loaded CA certificate '/etc/ssl/certs/ca-certificates.crt'\n",
      "Resolving www.dropbox.com (www.dropbox.com)... 162.125.72.18, 2620:100:6027:18::a27d:4812\n",
      "Connecting to www.dropbox.com (www.dropbox.com)|162.125.72.18|:443... connected.\n",
      "HTTP request sent, awaiting response... 302 Found\n",
      "Location: https://www.dropbox.com/scl/fi/s7lkqoxzh65w72xl7gh7g/mieszkania_test.csv?rlkey=xn2h80n4zabryg5zfn4si52gf&dl=1 [following]\n",
      "--2024-10-20 00:57:37--  https://www.dropbox.com/scl/fi/s7lkqoxzh65w72xl7gh7g/mieszkania_test.csv?rlkey=xn2h80n4zabryg5zfn4si52gf&dl=1\n",
      "Reusing existing connection to www.dropbox.com:443.\n",
      "HTTP request sent, awaiting response... 302 Found\n",
      "Location: https://uc80af9cca95631559af51cc1fb5.dl.dropboxusercontent.com/cd/0/inline/CcyON5qfqh1euazH5ghWY87oc69DHoRxEQcqL1Ybh6OS9elxSogL-nyOs_muwTzLAUFYhJJrMBoljL_8PRdG6m1IkbH8dZQQKMCYpe6vY1r7VIWf1wtGPndyfZNUdbEDc-g/file?dl=1# [following]\n",
      "--2024-10-20 00:57:38--  https://uc80af9cca95631559af51cc1fb5.dl.dropboxusercontent.com/cd/0/inline/CcyON5qfqh1euazH5ghWY87oc69DHoRxEQcqL1Ybh6OS9elxSogL-nyOs_muwTzLAUFYhJJrMBoljL_8PRdG6m1IkbH8dZQQKMCYpe6vY1r7VIWf1wtGPndyfZNUdbEDc-g/file?dl=1\n",
      "Resolving uc80af9cca95631559af51cc1fb5.dl.dropboxusercontent.com (uc80af9cca95631559af51cc1fb5.dl.dropboxusercontent.com)... 162.125.72.15, 2620:100:6027:15::a27d:480f\n",
      "Connecting to uc80af9cca95631559af51cc1fb5.dl.dropboxusercontent.com (uc80af9cca95631559af51cc1fb5.dl.dropboxusercontent.com)|162.125.72.15|:443... connected.\n",
      "HTTP request sent, awaiting response... 200 OK\n",
      "Length: 6247 (6.1K) [application/binary]\n",
      "Saving to: ‘mieszkania_test.csv’\n",
      "\n",
      "mieszkania_test.csv 100%[===================>]   6.10K  --.-KB/s    in 0s      \n",
      "\n",
      "2024-10-20 00:57:39 (59.8 MB/s) - ‘mieszkania_test.csv’ saved [6247/6247]\n",
      "\n"
     ]
    }
   ],
   "source": [
    "%matplotlib inline\n",
    "\n",
    "!wget -O mieszkania.csv https://www.dropbox.com/s/zey0gx91pna8irj/mieszkania.csv?dl=1\n",
    "!wget -O mieszkania_test.csv https://www.dropbox.com/s/dbrj6sbxb4ayqjz/mieszkania_test.csv?dl=1"
   ]
  },
  {
   "cell_type": "code",
   "execution_count": 2,
   "metadata": {
    "colab": {
     "base_uri": "https://localhost:8080/"
    },
    "executionInfo": {
     "elapsed": 18,
     "status": "ok",
     "timestamp": 1728996768070,
     "user": {
      "displayName": "Jakub Nowacki",
      "userId": "04628940980631792389"
     },
     "user_tz": -120
    },
    "id": "yI9wFXv5-EoP",
    "outputId": "3cd4d87f-acab-4317-df8b-069a6d79e012"
   },
   "outputs": [
    {
     "name": "stdout",
     "output_type": "stream",
     "text": [
      "==> mieszkania.csv <==\n",
      "m2,dzielnica,ilość_sypialni,ilość_łazienek,rok_budowy,parking_podziemny,cena\n",
      "104,mokotowo,2,2,1940,1,780094\n",
      "43,ochotowo,1,1,1970,1,346912\n",
      "128,grodziskowo,3,2,1916,1,523466\n",
      "112,mokotowo,3,2,1920,1,830965\n",
      "149,mokotowo,3,3,1977,0,1090479\n",
      "80,ochotowo,2,2,1937,0,599060\n",
      "58,ochotowo,2,1,1922,0,463639\n",
      "23,ochotowo,1,1,1929,0,166785\n",
      "40,mokotowo,1,1,1973,0,318849\n",
      "\n",
      "==> mieszkania_test.csv <==\n",
      "m2,dzielnica,ilość_sypialni,ilość_łazienek,rok_budowy,parking_podziemny,cena\n",
      "71,wolowo,2,2,1912,1,322227\n",
      "45,mokotowo,1,1,1938,0,295878\n",
      "38,mokotowo,1,1,1999,1,306530\n",
      "70,ochotowo,2,2,1980,1,553641\n",
      "136,mokotowo,3,2,1939,1,985348\n",
      "128,wolowo,3,2,1983,1,695726\n",
      "23,grodziskowo,1,1,1975,0,99751\n",
      "117,mokotowo,3,2,1942,0,891261\n",
      "65,ochotowo,2,1,2002,1,536499\n"
     ]
    }
   ],
   "source": [
    "!head mieszkania.csv mieszkania_test.csv"
   ]
  },
  {
   "cell_type": "markdown",
   "metadata": {
    "id": "iH8Ut02G-EoU"
   },
   "source": [
    "Each row in the data represents a separate property. Our goal is to use the data from `mieszkania.csv` to create a model that can predict a property's price (i.e. `cena`) given its features (i.e. `m2,dzielnica,ilosc_sypialni,ilosc_lazienek,rok_budowy,parking_podziemny`).\n",
    "\n",
    "From now on, we should interfere only with `mieszkania.csv` (dubbed the training dataset) to make our decisions and create the model. The (only) purpose of `mieszkania_test.csv` is to test our model on **unseen** data.\n",
    "\n",
    "Our predictions should minimize the so-called mean squared logarithmic error:\n",
    "$$\n",
    "MSLE = \\frac{1}{n} \\sum_{i=1}^n (\\log(1+y_i) - \\log(1+p_i))^2,\n",
    "$$\n",
    "where $y_i$ is the ground truth, and $p_i$ is our prediction."
   ]
  },
  {
   "cell_type": "markdown",
   "metadata": {
    "id": "y8QX6Ncr-EoW"
   },
   "source": [
    "Let's start with implementing the loss function."
   ]
  },
  {
   "cell_type": "code",
   "execution_count": 1,
   "metadata": {
    "id": "JAiB8S9A-EoX"
   },
   "outputs": [],
   "source": [
    "from typing import Tuple\n",
    "\n",
    "import numpy as np\n",
    "import pandas as pd\n",
    "from sklearn import preprocessing\n",
    "\n",
    "def msle(ys, ps):\n",
    "    assert len(ys) == len(ps)\n",
    "\n",
    "    n = len(ys)\n",
    "    result = (1/n) * np.sum((np.log(1 + ys) - np.log(1 + ps))**2)\n",
    "\n",
    "    return result"
   ]
  },
  {
   "cell_type": "markdown",
   "metadata": {
    "id": "zAmd2qLR-Eob"
   },
   "source": [
    "The simplest model is predicting the same constant for each instance. Test your implementation of msle against outputing the mean price."
   ]
  },
  {
   "cell_type": "code",
   "execution_count": 2,
   "metadata": {
    "id": "vY9VwngbwBDv"
   },
   "outputs": [],
   "source": [
    "# load and prepare the data\n",
    "\n",
    "def load(name):\n",
    "    data = pd.read_csv(name)\n",
    "    xs = data[data.columns[:-1]].to_numpy()\n",
    "    ys = data[data.columns[-1]].to_numpy()\n",
    "    return (xs, ys)\n",
    "\n",
    "x_train, y_train = load('mieszkania.csv')\n",
    "x_test, y_test = load('mieszkania_test.csv')\n",
    "\n",
    "def one_hot(arr):\n",
    "    columns = arr.shape[1]\n",
    "\n",
    "    for i in range(columns):\n",
    "        if type(arr[0][i]) != int :\n",
    "\n",
    "            column = arr[:, i]\n",
    "            rest = arr[:, [j != i for j in range(columns)]]\n",
    "\n",
    "            unique = np.unique(column).reshape(1,-1)\n",
    "            one_hot = np.vstack([column]*len(unique))\n",
    "            one_hot = (one_hot.T == unique).astype(int)\n",
    "\n",
    "            return np.hstack([rest, one_hot])\n",
    "\n",
    "def add_column(value, arr):\n",
    "\n",
    "    ones_column = np.ones(x_train.shape[0]).reshape(-1,1)\n",
    "    return np.hstack([ones_column * value, x_train])\n",
    "\n",
    "x_train, y_train\n",
    "\n",
    "x_train = one_hot(x_train)\n",
    "\n",
    "x_train = add_column(1, x_train).astype(float)\n",
    "\n",
    "y_train = (y_train / np.max(y_train)).reshape(-1,1).astype(float)"
   ]
  },
  {
   "cell_type": "code",
   "execution_count": 3,
   "metadata": {
    "colab": {
     "base_uri": "https://localhost:8080/"
    },
    "executionInfo": {
     "elapsed": 8,
     "status": "ok",
     "timestamp": 1729000210191,
     "user": {
      "displayName": "Jakub Nowacki",
      "userId": "04628940980631792389"
     },
     "user_tz": -120
    },
    "id": "b0RT7VW7-Eoc",
    "outputId": "90fbdb4c-4dd7-4a00-b96d-aa7bdf816dd1"
   },
   "outputs": [
    {
     "data": {
      "text/plain": [
       "np.float64(5.468949827661844)"
      ]
     },
     "execution_count": 3,
     "metadata": {},
     "output_type": "execute_result"
    }
   ],
   "source": [
    "###################################################\n",
    "# TODO: Compute msle for outputing the mean price #\n",
    "###################################################\n",
    "def msle(xs, ps):\n",
    "    assert len(xs) == len(ps)\n",
    "\n",
    "    n = len(xs)\n",
    "    sum = np.sum((np.log(1 + xs) - np.log(1 + ps)) ** 2)\n",
    "\n",
    "    return (1/n) * sum\n",
    "\n",
    "mean_price = np.mean(y_train)\n",
    "\n",
    "msle(y_train, np.ones(x_train.shape[0]) * mean_price)"
   ]
  },
  {
   "cell_type": "markdown",
   "metadata": {
    "id": "a0zMmTiv-Eof"
   },
   "source": [
    "Recall that outputing the mean minimzes $MSE$. However, we're now dealing with $MSLE$.\n",
    "\n",
    "Think of a constant that should result in the lowest $MSLE$."
   ]
  },
  {
   "cell_type": "code",
   "execution_count": 4,
   "metadata": {
    "colab": {
     "base_uri": "https://localhost:8080/"
    },
    "executionInfo": {
     "elapsed": 6,
     "status": "ok",
     "timestamp": 1729000211185,
     "user": {
      "displayName": "Jakub Nowacki",
      "userId": "04628940980631792389"
     },
     "user_tz": -120
    },
    "id": "Q0Z4drNd-Eog",
    "outputId": "6acb7662-3641-40b4-b02b-186fdc50c214"
   },
   "outputs": [
    {
     "data": {
      "text/plain": [
       "np.float64(5.431039782425594)"
      ]
     },
     "execution_count": 4,
     "metadata": {},
     "output_type": "execute_result"
    }
   ],
   "source": [
    "#############################################\n",
    "# TODO: Find this constant and compute msle #\n",
    "#############################################\n",
    "\n",
    "# (log(1 + p) - log(1 + x)) ** 2\n",
    "\n",
    "msle_mean = (np.e ** ((1 / len(y_train)) * np.sum(np.log(1 + y_train)))) - 1\n",
    "\n",
    "msle(y_train, np.ones(x_train.shape[0]) * msle_mean)"
   ]
  },
  {
   "cell_type": "markdown",
   "metadata": {
    "id": "2RdHlBw8-Eoi"
   },
   "source": [
    "Now, let's implement a standard linear regression model."
   ]
  },
  {
   "cell_type": "code",
   "execution_count": 40,
   "metadata": {
    "colab": {
     "base_uri": "https://localhost:8080/"
    },
    "executionInfo": {
     "elapsed": 4,
     "status": "ok",
     "timestamp": 1729000212528,
     "user": {
      "displayName": "Jakub Nowacki",
      "userId": "04628940980631792389"
     },
     "user_tz": -120
    },
    "id": "Vn97D3vd-Eoj",
    "outputId": "05191343-53aa-4f3e-ed99-ee55f245d2bf"
   },
   "outputs": [],
   "source": [
    "##########################################################\n",
    "# TODO: Implement linear regression and compute its msle #\n",
    "##########################################################\n",
    "\n",
    "def msle(xs, ps):\n",
    "    assert len(xs) == len(ps)\n",
    "\n",
    "    n = len(xs)\n",
    "    sum = np.sum((np.log(1 + xs) - np.log(1 + ps)) ** 2)\n",
    "\n",
    "    return (1/n) * sum\n",
    "\n",
    "def mse(xs, ps):\n",
    "    assert len(xs) == len(ps)\n",
    "\n",
    "    n = len(xs)\n",
    "    sum = np.sum((xs - ps) ** 2)\n",
    "\n",
    "    return (1/n) * sum\n"
   ]
  },
  {
   "cell_type": "code",
   "execution_count": null,
   "metadata": {},
   "outputs": [
    {
     "name": "stdout",
     "output_type": "stream",
     "text": [
      "(200, 1)\n"
     ]
    },
    {
     "ename": "TypeError",
     "evalue": "unsupported format string passed to numpy.ndarray.__format__",
     "output_type": "error",
     "traceback": [
      "\u001b[0;31m---------------------------------------------------------------------------\u001b[0m",
      "\u001b[0;31mTypeError\u001b[0m                                 Traceback (most recent call last)",
      "Cell \u001b[0;32mIn[44], line 20\u001b[0m\n\u001b[1;32m     15\u001b[0m losses \u001b[38;5;241m=\u001b[39m [evaluate(w, x_train, y_train)]\n\u001b[1;32m     17\u001b[0m \u001b[38;5;28;01mfor\u001b[39;00m i \u001b[38;5;129;01min\u001b[39;00m \u001b[38;5;28mrange\u001b[39m(n_epochs):\n\u001b[1;32m     18\u001b[0m     \u001b[38;5;66;03m#print((predict(w, x_train)).shape)\u001b[39;00m\n\u001b[1;32m     19\u001b[0m     \u001b[38;5;66;03m#print(y_train.shape, x_train.shape)\u001b[39;00m\n\u001b[0;32m---> 20\u001b[0m     \u001b[38;5;28mprint\u001b[39m(\u001b[38;5;124mf\u001b[39m\u001b[38;5;124m\"\u001b[39m\u001b[38;5;132;43;01m{\u001b[39;49;00m\u001b[43m(\u001b[49m\u001b[43mpredict\u001b[49m\u001b[43m(\u001b[49m\u001b[43mw\u001b[49m\u001b[43m,\u001b[49m\u001b[38;5;250;43m \u001b[39;49m\u001b[43mx_train\u001b[49m\u001b[43m)\u001b[49m\u001b[38;5;250;43m \u001b[39;49m\u001b[38;5;241;43m-\u001b[39;49m\u001b[38;5;250;43m \u001b[39;49m\u001b[43my_train\u001b[49m\u001b[43m)\u001b[49m\u001b[38;5;250;43m \u001b[39;49m\u001b[38;5;241;43m*\u001b[39;49m\u001b[38;5;250;43m \u001b[39;49m\u001b[43mx_train\u001b[49m\u001b[38;5;132;43;01m:\u001b[39;49;00m\u001b[38;5;124;43m.3f\u001b[39;49m\u001b[38;5;132;43;01m}\u001b[39;49;00m\u001b[38;5;124m\"\u001b[39m)\n\u001b[1;32m     21\u001b[0m     dJdwi \u001b[38;5;241m=\u001b[39m (\u001b[38;5;241m2\u001b[39m\u001b[38;5;241m/\u001b[39mn) \u001b[38;5;241m*\u001b[39m np\u001b[38;5;241m.\u001b[39msum((predict(w, x_train) \u001b[38;5;241m-\u001b[39m y_train) \u001b[38;5;241m*\u001b[39m x_train, axis \u001b[38;5;241m=\u001b[39m \u001b[38;5;241m0\u001b[39m)\n\u001b[1;32m     23\u001b[0m     w \u001b[38;5;241m=\u001b[39m w \u001b[38;5;241m-\u001b[39m lr \u001b[38;5;241m*\u001b[39m dJdwi\u001b[38;5;241m.\u001b[39mreshape(\u001b[38;5;241m-\u001b[39m\u001b[38;5;241m1\u001b[39m, \u001b[38;5;241m1\u001b[39m)\n",
      "\u001b[0;31mTypeError\u001b[0m: unsupported format string passed to numpy.ndarray.__format__"
     ]
    }
   ],
   "source": [
    "n, features = x_train.shape\n",
    "w = np.zeros(features).reshape(-1, 1)\n",
    "lr = 0.5 # step size\n",
    "n_epochs = 3\n",
    "\n",
    "print(y_train.shape)\n",
    "def predict(w, xs):\n",
    "    #print(xs.shape, w.shape, xs, \"\\n\", w, \"\\n\", xs @ w, \"\\n\",\"\\n\")\n",
    "    \n",
    "    return xs @ w\n",
    "\n",
    "def evaluate(w, xs, ys):\n",
    "    return mse(ys, predict(w, xs))\n",
    "\n",
    "losses = [evaluate(w, x_train, y_train)]\n",
    "\n",
    "for i in range(n_epochs):\n",
    "    dJdwi = (2/n) * np.sum((predict(w, x_train) - y_train) * x_train, axis = 0)\n",
    "\n",
    "    w = w - lr * dJdwi.reshape(-1, 1)\n",
    "\n",
    "    loss = evaluate(w, x_train, y_train)\n",
    "    losses.append(loss)\n",
    "\n",
    "    print(f'Iter: {i:>3} Loss: {loss:8.8f} w: {w.T}')"
   ]
  },
  {
   "cell_type": "markdown",
   "metadata": {
    "id": "nzrrOte5-Eol"
   },
   "source": [
    "Note that the loss function that the algorithms optimizes (i.e $MSE$) differs from $MSLE$. We've already seen that this may result in a suboptimal solution.\n",
    "\n",
    "How can you change the setting so that we optimze $MSLE$ instead?"
   ]
  },
  {
   "cell_type": "markdown",
   "metadata": {
    "id": "qVD8kWEJ-Eom"
   },
   "source": [
    "Hint:\n",
    "<sub><sup><sub><sup><sub><sup>\n",
    "Be lazy. We don't want to change the algorithm.\n",
    "</sup></sub></sup></sub></sup></sub>"
   ]
  },
  {
   "cell_type": "code",
   "execution_count": null,
   "metadata": {
    "id": "MniIPMg8-Eom"
   },
   "outputs": [],
   "source": [
    "#############################################\n",
    "# TODO: Optimize msle and compare the error #\n",
    "#############################################"
   ]
  },
  {
   "cell_type": "markdown",
   "metadata": {
    "id": "OvWrBkLu-Eoo"
   },
   "source": [
    "Without any feature engineering our model approximates the price as a linear combination of original features:\n",
    "$$\n",
    "\\text{price} \\approx w_1 \\cdot \\text{area} + w_2 \\cdot \\text{district} + \\dots.\n",
    "$$\n",
    "Let's now introduce some interactions between the variables. For instance, let's consider a following formula:\n",
    "$$\n",
    "\\text{price} \\approx w_1 \\cdot \\text{area} \\cdot \\text{avg. price in the district per sq. meter} + w_2 \\cdot \\dots + \\dots.\n",
    "$$\n",
    "Here, we model the price with far greater granularity, and we may expect to see more acurate results."
   ]
  },
  {
   "cell_type": "markdown",
   "metadata": {
    "id": "zBM60E7t-Eop"
   },
   "source": [
    "Add some feature engineering to your model. Be sure to play with the data and not with the algorithm's code.\n",
    "\n",
    "Think how to make sure that your model is capable of capturing the $w_1 \\cdot \\text{area} \\cdot \\text{avg. price...}$ part, without actually computing the averages."
   ]
  },
  {
   "cell_type": "markdown",
   "metadata": {
    "id": "XT5DziNC-Eoq"
   },
   "source": [
    "Hint:\n",
    "<sub><sup><sub><sup><sub><sup>\n",
    "Is having a binary encoding for each district and multiplying it by area enough?\n",
    "</sup></sub></sup></sub></sup></sub>"
   ]
  },
  {
   "cell_type": "markdown",
   "metadata": {
    "id": "PKOVCHNz-Eor"
   },
   "source": [
    "Hint 2:\n",
    "<sub><sup><sub><sup><sub><sup>\n",
    "Why not multiply everything together? I.e. (A,B,C) -> (AB,AC,BC).\n",
    "</sup></sub></sup></sub></sup></sub>"
   ]
  },
  {
   "cell_type": "code",
   "execution_count": null,
   "metadata": {
    "id": "DPviz09O-Eor"
   },
   "outputs": [],
   "source": [
    "###############################################\n",
    "# TODO: Implement the feature engineering part #\n",
    "###############################################"
   ]
  },
  {
   "cell_type": "code",
   "execution_count": null,
   "metadata": {
    "id": "v2Lj1TPr-Eot"
   },
   "outputs": [],
   "source": [
    "##############################################################\n",
    "# TODO: Test your solution on the training and test datasets #\n",
    "##############################################################"
   ]
  }
 ],
 "metadata": {
  "colab": {
   "provenance": [
    {
     "file_id": "https://github.com/mim-ml-teaching/public-dnn-2024-25/blob/master/docs/DNN-Lab-1-MSLE-student-version.ipynb",
     "timestamp": 1728988319829
    }
   ]
  },
  "kernelspec": {
   "display_name": "venv",
   "language": "python",
   "name": "python3"
  },
  "language_info": {
   "codemirror_mode": {
    "name": "ipython",
    "version": 3
   },
   "file_extension": ".py",
   "mimetype": "text/x-python",
   "name": "python",
   "nbconvert_exporter": "python",
   "pygments_lexer": "ipython3",
   "version": "3.12.7"
  }
 },
 "nbformat": 4,
 "nbformat_minor": 0
}
