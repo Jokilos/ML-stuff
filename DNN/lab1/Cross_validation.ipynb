{
 "cells": [
  {
   "cell_type": "markdown",
   "metadata": {
    "id": "qMeI3m9u-ZBN"
   },
   "source": [
    "# Validation and cross-validation\n",
    "\n",
    "In this exercise you will implement a validation pipeline.\n",
    "\n",
    "At the end of the MSLE exercise you tested your model against the training and test datasets. As you should observe, there's a gap between the results. By validating your model, not only should you be able to anticipate the test time performance, but also have a method to compare different models.\n",
    "\n",
    "Implement the basic validation method, i.e. a random split. Test it with your model from Exercise MSLE."
   ]
  },
  {
   "cell_type": "code",
   "execution_count": 1,
   "metadata": {
    "colab": {
     "base_uri": "https://localhost:8080/"
    },
    "executionInfo": {
     "elapsed": 4699,
     "status": "ok",
     "timestamp": 1728987813681,
     "user": {
      "displayName": "Jakub Nowacki",
      "userId": "04628940980631792389"
     },
     "user_tz": -120
    },
    "id": "tMxpoCCqXXWZ",
    "outputId": "cf5f8dd5-3654-4db2-e6c3-dc47bd10cc23"
   },
   "outputs": [
    {
     "name": "stdout",
     "output_type": "stream",
     "text": [
      "--2024-10-15 10:23:28--  https://www.dropbox.com/s/zey0gx91pna8irj/mieszkania.csv?dl=1\n",
      "Resolving www.dropbox.com (www.dropbox.com)... 162.125.13.18, 2620:100:6057:18::a27d:d12\n",
      "Connecting to www.dropbox.com (www.dropbox.com)|162.125.13.18|:443... connected.\n",
      "HTTP request sent, awaiting response... 302 Found\n",
      "Location: https://www.dropbox.com/scl/fi/3x5umw93vtxvmp037wczv/mieszkania.csv?rlkey=dmvzaueu361g7s2w6ui6m9ryb&dl=1 [following]\n",
      "--2024-10-15 10:23:29--  https://www.dropbox.com/scl/fi/3x5umw93vtxvmp037wczv/mieszkania.csv?rlkey=dmvzaueu361g7s2w6ui6m9ryb&dl=1\n",
      "Reusing existing connection to www.dropbox.com:443.\n",
      "HTTP request sent, awaiting response... 302 Found\n",
      "Location: https://ucd1a1d6d1ad8ae3ca8fb5ae3759.dl.dropboxusercontent.com/cd/0/inline/CcdShraZPBiRs2DMJhTyth4kIrVQhPG74-fqNrr-h-BxUHsMnqJPb-ydP04YG5oFUnS65Yrwh3HZ-A9xpIionjkNgSDrz_J6NYC21iGQ2rTkLJDeerK4SnNUdB_v9WnC2jI/file?dl=1# [following]\n",
      "--2024-10-15 10:23:30--  https://ucd1a1d6d1ad8ae3ca8fb5ae3759.dl.dropboxusercontent.com/cd/0/inline/CcdShraZPBiRs2DMJhTyth4kIrVQhPG74-fqNrr-h-BxUHsMnqJPb-ydP04YG5oFUnS65Yrwh3HZ-A9xpIionjkNgSDrz_J6NYC21iGQ2rTkLJDeerK4SnNUdB_v9WnC2jI/file?dl=1\n",
      "Resolving ucd1a1d6d1ad8ae3ca8fb5ae3759.dl.dropboxusercontent.com (ucd1a1d6d1ad8ae3ca8fb5ae3759.dl.dropboxusercontent.com)... 162.125.70.15, 2620:100:6035:15::a27d:550f\n",
      "Connecting to ucd1a1d6d1ad8ae3ca8fb5ae3759.dl.dropboxusercontent.com (ucd1a1d6d1ad8ae3ca8fb5ae3759.dl.dropboxusercontent.com)|162.125.70.15|:443... connected.\n",
      "HTTP request sent, awaiting response... 200 OK\n",
      "Length: 6211 (6.1K) [application/binary]\n",
      "Saving to: ‘mieszkania.csv’\n",
      "\n",
      "mieszkania.csv      100%[===================>]   6.07K  --.-KB/s    in 0s      \n",
      "\n",
      "2024-10-15 10:23:31 (2.13 GB/s) - ‘mieszkania.csv’ saved [6211/6211]\n",
      "\n",
      "--2024-10-15 10:23:31--  https://www.dropbox.com/s/dbrj6sbxb4ayqjz/mieszkania_test.csv?dl=1\n",
      "Resolving www.dropbox.com (www.dropbox.com)... 162.125.13.18, 2620:100:6057:18::a27d:d12\n",
      "Connecting to www.dropbox.com (www.dropbox.com)|162.125.13.18|:443... connected.\n",
      "HTTP request sent, awaiting response... 302 Found\n",
      "Location: https://www.dropbox.com/scl/fi/s7lkqoxzh65w72xl7gh7g/mieszkania_test.csv?rlkey=xn2h80n4zabryg5zfn4si52gf&dl=1 [following]\n",
      "--2024-10-15 10:23:31--  https://www.dropbox.com/scl/fi/s7lkqoxzh65w72xl7gh7g/mieszkania_test.csv?rlkey=xn2h80n4zabryg5zfn4si52gf&dl=1\n",
      "Reusing existing connection to www.dropbox.com:443.\n",
      "HTTP request sent, awaiting response... 302 Found\n",
      "Location: https://uc6f01aa77ca06cb1fa8185308f2.dl.dropboxusercontent.com/cd/0/inline/Ccd9hYuBBfLR3Bd_CITeQHZWWcZWvr-A8YTqu2MV_kB1wvexGojjFDPoizdx-sbcvWzGUnSep0_OJCFpO79vNfh8BAWGl5aPcGUwhC4yBqKPQHNvJE-zND2RT597GlJDta0/file?dl=1# [following]\n",
      "--2024-10-15 10:23:32--  https://uc6f01aa77ca06cb1fa8185308f2.dl.dropboxusercontent.com/cd/0/inline/Ccd9hYuBBfLR3Bd_CITeQHZWWcZWvr-A8YTqu2MV_kB1wvexGojjFDPoizdx-sbcvWzGUnSep0_OJCFpO79vNfh8BAWGl5aPcGUwhC4yBqKPQHNvJE-zND2RT597GlJDta0/file?dl=1\n",
      "Resolving uc6f01aa77ca06cb1fa8185308f2.dl.dropboxusercontent.com (uc6f01aa77ca06cb1fa8185308f2.dl.dropboxusercontent.com)... 162.125.13.15, 2620:100:6057:15::a27d:d0f\n",
      "Connecting to uc6f01aa77ca06cb1fa8185308f2.dl.dropboxusercontent.com (uc6f01aa77ca06cb1fa8185308f2.dl.dropboxusercontent.com)|162.125.13.15|:443... connected.\n",
      "HTTP request sent, awaiting response... 200 OK\n",
      "Length: 6247 (6.1K) [application/binary]\n",
      "Saving to: ‘mieszkania_test.csv’\n",
      "\n",
      "mieszkania_test.csv 100%[===================>]   6.10K  --.-KB/s    in 0s      \n",
      "\n",
      "2024-10-15 10:23:33 (2.13 GB/s) - ‘mieszkania_test.csv’ saved [6247/6247]\n",
      "\n"
     ]
    }
   ],
   "source": [
    "%matplotlib inline\n",
    "\n",
    "!wget -O mieszkania.csv https://www.dropbox.com/s/zey0gx91pna8irj/mieszkania.csv?dl=1\n",
    "!wget -O mieszkania_test.csv https://www.dropbox.com/s/dbrj6sbxb4ayqjz/mieszkania_test.csv?dl=1"
   ]
  },
  {
   "cell_type": "code",
   "execution_count": 2,
   "metadata": {
    "executionInfo": {
     "elapsed": 7304,
     "status": "ok",
     "timestamp": 1728987820980,
     "user": {
      "displayName": "Jakub Nowacki",
      "userId": "04628940980631792389"
     },
     "user_tz": -120
    },
    "id": "N-c841bp9InV"
   },
   "outputs": [],
   "source": [
    "from typing import Tuple\n",
    "\n",
    "import numpy as np\n",
    "import pandas as pd\n",
    "from sklearn import preprocessing\n",
    "\n",
    "np.random.seed(357)"
   ]
  },
  {
   "cell_type": "code",
   "execution_count": 4,
   "metadata": {
    "executionInfo": {
     "elapsed": 471,
     "status": "ok",
     "timestamp": 1728987831689,
     "user": {
      "displayName": "Jakub Nowacki",
      "userId": "04628940980631792389"
     },
     "user_tz": -120
    },
    "id": "MNjo9j9EXD84"
   },
   "outputs": [],
   "source": [
    "def load(name: str) -> Tuple[np.ndarray, np.array]:\n",
    "    data = pd.read_csv(name)\n",
    "    x = data.loc[:, data.columns != 'cena'].to_numpy()\n",
    "    y = data['cena'].to_numpy()\n",
    "\n",
    "    return x, y"
   ]
  },
  {
   "cell_type": "code",
   "execution_count": 8,
   "metadata": {
    "colab": {
     "base_uri": "https://localhost:8080/"
    },
    "executionInfo": {
     "elapsed": 262,
     "status": "ok",
     "timestamp": 1728987895383,
     "user": {
      "displayName": "Jakub Nowacki",
      "userId": "04628940980631792389"
     },
     "user_tz": -120
    },
    "id": "uoYy1AU5XD_e",
    "outputId": "4f0b6969-8643-41fb-bee1-9ec23eba0a64"
   },
   "outputs": [
    {
     "data": {
      "text/plain": [
       "(array([[71, 'wolowo', 2, 2, 1912, 1],\n",
       "        [45, 'mokotowo', 1, 1, 1938, 0],\n",
       "        [38, 'mokotowo', 1, 1, 1999, 1],\n",
       "        ...,\n",
       "        [89, 'wolowo', 2, 2, 1922, 1],\n",
       "        [40, 'wolowo', 1, 1, 1959, 0],\n",
       "        [68, 'grodziskowo', 2, 1, 1927, 0]], dtype=object),\n",
       " array([ 322227,  295878,  306530,  553641,  985348,  695726,   99751,\n",
       "         891261,  536499,  527093,  861472,  701472,  429776,  547725,\n",
       "         669560,  318362, 1140170,  341242,  113580,  456093,  470730,\n",
       "         421012,  617318,  796117,  138901,  857820,  939450,  398165,\n",
       "         944399, 1025413,  522440,  344346,  145702,  246712,  574154,\n",
       "         807608,  568048,  412494,  588840,  766040,  979540, 1044803,\n",
       "         742235,  758936,  388672,  178238,  530053, 1150687,  587013,\n",
       "         269316,  270969, 1008103,  299708,  393925,  511106,  947932,\n",
       "         127717,  752428, 1185932,  330988,  330699,  403778,  584561,\n",
       "         795392,  602356,  680512,  202121,  888872,  456054,  227841,\n",
       "         343730,  196726,  378904,  411749,  147094,  500022,  199290,\n",
       "        1005525,  279705,  575550,  472981,  621614,  643571,  851574,\n",
       "         187483,  339096,  354682,  187713,  166136,  703704,  539705,\n",
       "         734809,  304624,  293954,  679961,  635920,  330152,  391860,\n",
       "         789961,  399878,  351221,  375939, 1079542,  332133,  530085,\n",
       "         513587,  980894,  134902,  919498,  483188,  334802,  378666,\n",
       "          69821,  260449,  484787,  794268,   97154,  886722, 1056621,\n",
       "         697441,  497640,  505771,  871711,  697180,  496002,  473489,\n",
       "         242682,  879455,  287794,  461689,  153664,  180044, 1017479,\n",
       "         309834, 1158386,  705667,  465605,   88519,  833272,  610060,\n",
       "         527288,  656697,  858702,  639827,  921956,  923813,  953496,\n",
       "         405742,  692810, 1049653, 1068930,  824800,  201399,  438856,\n",
       "         724136,  482714,  643546,  519852,  742507,   85813,  329828,\n",
       "         807843,  562540,  797489,  186172,  303512,  682735,  758841,\n",
       "         463683, 1078682,  533095,  463227,  918459, 1059927, 1049521,\n",
       "         128616,  614596,  419141,  161540,  867444,  615665, 1108607,\n",
       "         638008, 1052663,  166897,   57441,  681938,  286712,  146808,\n",
       "         899113,  246723,  858217,  936124,  515311,  151429,  146077,\n",
       "         857546,  508225,  208683,  279891]))"
      ]
     },
     "execution_count": 8,
     "metadata": {},
     "output_type": "execute_result"
    }
   ],
   "source": [
    "x_train, y_train = load('mieszkania.csv')\n",
    "x_test, y_test = load('mieszkania_test.csv')\n",
    "\n",
    "x_test, y_test"
   ]
  },
  {
   "cell_type": "code",
   "execution_count": 11,
   "metadata": {
    "colab": {
     "base_uri": "https://localhost:8080/"
    },
    "executionInfo": {
     "elapsed": 235,
     "status": "ok",
     "timestamp": 1728987943280,
     "user": {
      "displayName": "Jakub Nowacki",
      "userId": "04628940980631792389"
     },
     "user_tz": -120
    },
    "id": "qX2qTiVdXEEb",
    "outputId": "41035d53-e277-4a77-9e6f-d74407cf0b61"
   },
   "outputs": [
    {
     "data": {
      "text/plain": [
       "array([[7.100e+01, 3.000e+00, 2.000e+00, 2.000e+00, 1.912e+03, 1.000e+00],\n",
       "       [4.500e+01, 1.000e+00, 1.000e+00, 1.000e+00, 1.938e+03, 0.000e+00],\n",
       "       [3.800e+01, 1.000e+00, 1.000e+00, 1.000e+00, 1.999e+03, 1.000e+00],\n",
       "       ...,\n",
       "       [8.900e+01, 3.000e+00, 2.000e+00, 2.000e+00, 1.922e+03, 1.000e+00],\n",
       "       [4.000e+01, 3.000e+00, 1.000e+00, 1.000e+00, 1.959e+03, 0.000e+00],\n",
       "       [6.800e+01, 0.000e+00, 2.000e+00, 1.000e+00, 1.927e+03, 0.000e+00]])"
      ]
     },
     "execution_count": 11,
     "metadata": {},
     "output_type": "execute_result"
    }
   ],
   "source": [
    "labelencoder = preprocessing.LabelEncoder()\n",
    "labelencoder.fit(x_train[:, 1])\n",
    "x_train[:, 1] = labelencoder.transform(x_train[:, 1])\n",
    "x_test[:, 1] = labelencoder.transform(x_test[:, 1])\n",
    "\n",
    "x_train = x_train.astype(np.float64)\n",
    "x_test = x_test.astype(np.float64)\n",
    "\n",
    "x_train\n",
    "x_test"
   ]
  },
  {
   "cell_type": "code",
   "execution_count": null,
   "metadata": {
    "colab": {
     "base_uri": "https://localhost:8080/"
    },
    "id": "Ca0nRHYL-ZBR",
    "outputId": "4703e4f5-333a-4a7c-8222-17f087c8c038"
   },
   "outputs": [
    {
     "name": "stderr",
     "output_type": "stream",
     "text": [
      "/usr/local/lib/python3.7/dist-packages/ipykernel_launcher.py:16: DeprecationWarning: elementwise comparison failed; this will raise an error in the future.\n",
      "  app.launch_new_instance()\n"
     ]
    }
   ],
   "source": [
    "#######################################################\n",
    "# TODO: Implement the basic validation method,        #\n",
    "# compare MSLE on training, validation, and test sets #\n",
    "#######################################################\n"
   ]
  },
  {
   "cell_type": "markdown",
   "metadata": {
    "id": "tnnf-KvC-ZBW"
   },
   "source": [
    "To make the random split validation reliable, a huge chunk of training data may be needed. To get over this problem, one may apply cross-validaiton.\n",
    "\n",
    "![alt-text](https://chrisjmccormick.files.wordpress.com/2013/07/10_fold_cv.png)"
   ]
  },
  {
   "cell_type": "markdown",
   "metadata": {
    "id": "sbu4F_h9-ZBX"
   },
   "source": [
    "Let's now implement the method. Make sure that:\n",
    "* number of partitions is a parameter,\n",
    "* the method is not limited to `mieszkania.csv`,\n",
    "* the method is not limited to one specific model."
   ]
  },
  {
   "cell_type": "code",
   "execution_count": null,
   "metadata": {
    "id": "dbfmYPOh-ZBY"
   },
   "outputs": [],
   "source": [
    "####################################\n",
    "# TODO: Implement cross-validation #\n",
    "####################################"
   ]
  },
  {
   "cell_type": "markdown",
   "metadata": {
    "id": "sF2-UXXR-ZBc"
   },
   "source": [
    "Recall that sometimes validation may be tricky, e.g. significant class imbalance, having a small number of subjects, geographically clustered instances...\n",
    "\n",
    "What could in theory go wrong here with random, unstratified partitions? Think about potential solutions and investigate the data in order to check whether these problems arise here."
   ]
  },
  {
   "cell_type": "code",
   "execution_count": null,
   "metadata": {
    "id": "bt-y3kUy-ZBe"
   },
   "outputs": [],
   "source": [
    "##############################\n",
    "# TODO: Investigate the data #\n",
    "##############################"
   ]
  },
  {
   "cell_type": "code",
   "execution_count": null,
   "metadata": {
    "id": "tgavgEK4YZkr"
   },
   "outputs": [],
   "source": []
  }
 ],
 "metadata": {
  "colab": {
   "provenance": [
    {
     "file_id": "https://github.com/mim-ml-teaching/public-dnn-2024-25/blob/master/docs/DNN-Lab-1-cross-validation-student-version.ipynb",
     "timestamp": 1728987788735
    }
   ]
  },
  "kernelspec": {
   "display_name": "Python 3",
   "name": "python3"
  }
 },
 "nbformat": 4,
 "nbformat_minor": 0
}
