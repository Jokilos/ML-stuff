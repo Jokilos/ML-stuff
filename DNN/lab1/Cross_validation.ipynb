{
 "cells": [
  {
   "cell_type": "markdown",
   "metadata": {
    "id": "qMeI3m9u-ZBN"
   },
   "source": [
    "# Validation and cross-validation\n",
    "\n",
    "In this exercise you will implement a validation pipeline.\n",
    "\n",
    "At the end of the MSLE exercise you tested your model against the training and test datasets. As you should observe, there's a gap between the results. By validating your model, not only should you be able to anticipate the test time performance, but also have a method to compare different models.\n",
    "\n",
    "Implement the basic validation method, i.e. a random split. Test it with your model from Exercise MSLE."
   ]
  },
  {
   "cell_type": "code",
   "execution_count": 51,
   "metadata": {
    "colab": {
     "base_uri": "https://localhost:8080/"
    },
    "executionInfo": {
     "elapsed": 4699,
     "status": "ok",
     "timestamp": 1728987813681,
     "user": {
      "displayName": "Jakub Nowacki",
      "userId": "04628940980631792389"
     },
     "user_tz": -120
    },
    "id": "tMxpoCCqXXWZ",
    "outputId": "cf5f8dd5-3654-4db2-e6c3-dc47bd10cc23"
   },
   "outputs": [],
   "source": [
    "%matplotlib inline\n",
    "\n",
    "#!wget -O mieszkania.csv https://www.dropbox.com/s/zey0gx91pna8irj/mieszkania.csv?dl=1\n",
    "#!wget -O mieszkania_test.csv https://www.dropbox.com/s/dbrj6sbxb4ayqjz/mieszkania_test.csv?dl=1"
   ]
  },
  {
   "cell_type": "code",
   "execution_count": 52,
   "metadata": {
    "executionInfo": {
     "elapsed": 7304,
     "status": "ok",
     "timestamp": 1728987820980,
     "user": {
      "displayName": "Jakub Nowacki",
      "userId": "04628940980631792389"
     },
     "user_tz": -120
    },
    "id": "N-c841bp9InV"
   },
   "outputs": [],
   "source": [
    "from typing import Tuple\n",
    "\n",
    "import numpy as np\n",
    "import pandas as pd\n",
    "from sklearn import preprocessing\n",
    "\n",
    "np.random.seed(357)"
   ]
  },
  {
   "cell_type": "code",
   "execution_count": 53,
   "metadata": {
    "executionInfo": {
     "elapsed": 471,
     "status": "ok",
     "timestamp": 1728987831689,
     "user": {
      "displayName": "Jakub Nowacki",
      "userId": "04628940980631792389"
     },
     "user_tz": -120
    },
    "id": "MNjo9j9EXD84"
   },
   "outputs": [],
   "source": [
    "def load(name: str) -> Tuple[np.ndarray, np.array]:\n",
    "    data = pd.read_csv(name)\n",
    "    x = data.loc[:, data.columns != 'cena'].to_numpy()\n",
    "    y = data['cena'].to_numpy()\n",
    "\n",
    "    return x, y"
   ]
  },
  {
   "cell_type": "code",
   "execution_count": 54,
   "metadata": {
    "colab": {
     "base_uri": "https://localhost:8080/"
    },
    "executionInfo": {
     "elapsed": 262,
     "status": "ok",
     "timestamp": 1728987895383,
     "user": {
      "displayName": "Jakub Nowacki",
      "userId": "04628940980631792389"
     },
     "user_tz": -120
    },
    "id": "uoYy1AU5XD_e",
    "outputId": "4f0b6969-8643-41fb-bee1-9ec23eba0a64"
   },
   "outputs": [
    {
     "data": {
      "text/plain": [
       "(array([[71, 'wolowo', 2, 2, 1912, 1],\n",
       "        [45, 'mokotowo', 1, 1, 1938, 0],\n",
       "        [38, 'mokotowo', 1, 1, 1999, 1],\n",
       "        ...,\n",
       "        [89, 'wolowo', 2, 2, 1922, 1],\n",
       "        [40, 'wolowo', 1, 1, 1959, 0],\n",
       "        [68, 'grodziskowo', 2, 1, 1927, 0]], dtype=object),\n",
       " array([ 322227,  295878,  306530,  553641,  985348,  695726,   99751,\n",
       "         891261,  536499,  527093,  861472,  701472,  429776,  547725,\n",
       "         669560,  318362, 1140170,  341242,  113580,  456093,  470730,\n",
       "         421012,  617318,  796117,  138901,  857820,  939450,  398165,\n",
       "         944399, 1025413,  522440,  344346,  145702,  246712,  574154,\n",
       "         807608,  568048,  412494,  588840,  766040,  979540, 1044803,\n",
       "         742235,  758936,  388672,  178238,  530053, 1150687,  587013,\n",
       "         269316,  270969, 1008103,  299708,  393925,  511106,  947932,\n",
       "         127717,  752428, 1185932,  330988,  330699,  403778,  584561,\n",
       "         795392,  602356,  680512,  202121,  888872,  456054,  227841,\n",
       "         343730,  196726,  378904,  411749,  147094,  500022,  199290,\n",
       "        1005525,  279705,  575550,  472981,  621614,  643571,  851574,\n",
       "         187483,  339096,  354682,  187713,  166136,  703704,  539705,\n",
       "         734809,  304624,  293954,  679961,  635920,  330152,  391860,\n",
       "         789961,  399878,  351221,  375939, 1079542,  332133,  530085,\n",
       "         513587,  980894,  134902,  919498,  483188,  334802,  378666,\n",
       "          69821,  260449,  484787,  794268,   97154,  886722, 1056621,\n",
       "         697441,  497640,  505771,  871711,  697180,  496002,  473489,\n",
       "         242682,  879455,  287794,  461689,  153664,  180044, 1017479,\n",
       "         309834, 1158386,  705667,  465605,   88519,  833272,  610060,\n",
       "         527288,  656697,  858702,  639827,  921956,  923813,  953496,\n",
       "         405742,  692810, 1049653, 1068930,  824800,  201399,  438856,\n",
       "         724136,  482714,  643546,  519852,  742507,   85813,  329828,\n",
       "         807843,  562540,  797489,  186172,  303512,  682735,  758841,\n",
       "         463683, 1078682,  533095,  463227,  918459, 1059927, 1049521,\n",
       "         128616,  614596,  419141,  161540,  867444,  615665, 1108607,\n",
       "         638008, 1052663,  166897,   57441,  681938,  286712,  146808,\n",
       "         899113,  246723,  858217,  936124,  515311,  151429,  146077,\n",
       "         857546,  508225,  208683,  279891]))"
      ]
     },
     "execution_count": 54,
     "metadata": {},
     "output_type": "execute_result"
    }
   ],
   "source": [
    "x_train, y_train = load('mieszkania.csv')\n",
    "x_test, y_test = load('mieszkania_test.csv')\n",
    "\n",
    "x_test, y_test"
   ]
  },
  {
   "cell_type": "code",
   "execution_count": 55,
   "metadata": {
    "colab": {
     "base_uri": "https://localhost:8080/"
    },
    "executionInfo": {
     "elapsed": 235,
     "status": "ok",
     "timestamp": 1728987943280,
     "user": {
      "displayName": "Jakub Nowacki",
      "userId": "04628940980631792389"
     },
     "user_tz": -120
    },
    "id": "qX2qTiVdXEEb",
    "outputId": "41035d53-e277-4a77-9e6f-d74407cf0b61"
   },
   "outputs": [
    {
     "data": {
      "text/plain": [
       "array([[1.040e+02, 1.000e+00, 2.000e+00, 2.000e+00, 1.940e+03, 1.000e+00],\n",
       "       [4.300e+01, 2.000e+00, 1.000e+00, 1.000e+00, 1.970e+03, 1.000e+00],\n",
       "       [1.280e+02, 0.000e+00, 3.000e+00, 2.000e+00, 1.916e+03, 1.000e+00],\n",
       "       ...,\n",
       "       [1.070e+02, 0.000e+00, 2.000e+00, 2.000e+00, 1.935e+03, 0.000e+00],\n",
       "       [1.170e+02, 0.000e+00, 3.000e+00, 2.000e+00, 1.978e+03, 1.000e+00],\n",
       "       [5.600e+01, 3.000e+00, 2.000e+00, 1.000e+00, 1.923e+03, 0.000e+00]])"
      ]
     },
     "execution_count": 55,
     "metadata": {},
     "output_type": "execute_result"
    }
   ],
   "source": [
    "labelencoder = preprocessing.LabelEncoder()\n",
    "labelencoder.fit(x_train[:, 1])\n",
    "x_train[:, 1] = labelencoder.transform(x_train[:, 1])\n",
    "x_test[:, 1] = labelencoder.transform(x_test[:, 1])\n",
    "\n",
    "x_train = x_train.astype(np.float64)\n",
    "x_test = x_test.astype(np.float64)\n",
    "\n",
    "y_train, y_test = y_train.reshape(-1, 1), y_test.reshape(-1, 1)\n",
    "x_train"
   ]
  },
  {
   "cell_type": "code",
   "execution_count": 56,
   "metadata": {},
   "outputs": [],
   "source": [
    "import plotly.express as px\n",
    "\n",
    "def plot_loss(l):\n",
    "    fig = px.line(y=l, labels={'y':'loss'})\n",
    "    fig.show()\n",
    "\n",
    "def mse(xs, ps):\n",
    "    assert len(xs) == len(ps)\n",
    "\n",
    "    n = len(xs)\n",
    "    sum = np.sum((xs - ps) ** 2)\n",
    "\n",
    "    return (1/n) * sum\n",
    "\n",
    "def msle(xs, ps):\n",
    "    assert len(xs) == len(ps)\n",
    "\n",
    "    n = len(xs)\n",
    "    sum = np.sum((np.log(1 + xs) - np.log(1 + ps)) ** 2)\n",
    "\n",
    "    return (1/n) * sum"
   ]
  },
  {
   "cell_type": "code",
   "execution_count": 57,
   "metadata": {},
   "outputs": [],
   "source": [
    "n, features = x_train.shape\n",
    "lr = 1e-2 # step size\n",
    "n_epochs = 80\n"
   ]
  },
  {
   "cell_type": "code",
   "execution_count": 58,
   "metadata": {},
   "outputs": [
    {
     "name": "stdout",
     "output_type": "stream",
     "text": [
      "Iter:   0 Loss: 54.70327051 w: ['1.11', '0.21', '0.28', '0.25', '1.97', '0.09']\n",
      "Iter:   4 Loss: 0.64753697 w: ['0.75', '0.15', '0.19', '0.17', '1.33', '0.06']\n",
      "Iter:   9 Loss: 0.04654517 w: ['0.71', '0.14', '0.18', '0.16', '1.25', '0.06']\n",
      "Iter:  14 Loss: 0.04404905 w: ['0.72', '0.14', '0.18', '0.16', '1.25', '0.06']\n",
      "Iter:  19 Loss: 0.04371263 w: ['0.72', '0.14', '0.18', '0.16', '1.25', '0.06']\n",
      "Iter:  24 Loss: 0.04340348 w: ['0.72', '0.15', '0.18', '0.16', '1.24', '0.06']\n",
      "Iter:  29 Loss: 0.04311280 w: ['0.72', '0.15', '0.18', '0.16', '1.24', '0.06']\n",
      "Iter:  34 Loss: 0.04283945 w: ['0.73', '0.15', '0.19', '0.16', '1.24', '0.06']\n",
      "Iter:  39 Loss: 0.04258237 w: ['0.73', '0.15', '0.19', '0.16', '1.24', '0.06']\n",
      "Iter:  44 Loss: 0.04234058 w: ['0.73', '0.15', '0.19', '0.16', '1.24', '0.06']\n",
      "Iter:  49 Loss: 0.04211316 w: ['0.73', '0.15', '0.19', '0.16', '1.24', '0.06']\n",
      "Iter:  54 Loss: 0.04189923 w: ['0.73', '0.16', '0.19', '0.16', '1.23', '0.06']\n",
      "Iter:  59 Loss: 0.04169798 w: ['0.74', '0.16', '0.19', '0.16', '1.23', '0.06']\n",
      "Iter:  64 Loss: 0.04150865 w: ['0.74', '0.16', '0.19', '0.17', '1.23', '0.06']\n",
      "Iter:  69 Loss: 0.04133051 w: ['0.74', '0.16', '0.19', '0.17', '1.23', '0.06']\n",
      "Iter:  74 Loss: 0.04116289 w: ['0.74', '0.16', '0.19', '0.17', '1.23', '0.06']\n",
      "Iter:  79 Loss: 0.04100516 w: ['0.74', '0.16', '0.19', '0.17', '1.23', '0.06']\n"
     ]
    },
    {
     "data": {
      "application/vnd.plotly.v1+json": {
       "config": {
        "plotlyServerURL": "https://plot.ly"
       },
       "data": [
        {
         "hovertemplate": "x=%{x}<br>loss=%{y}<extra></extra>",
         "legendgroup": "",
         "line": {
          "color": "#636efa",
          "dash": "solid"
         },
         "marker": {
          "symbol": "circle"
         },
         "mode": "lines",
         "name": "",
         "orientation": "v",
         "showlegend": false,
         "type": "scatter",
         "x": [
          0,
          1,
          2,
          3,
          4,
          5,
          6,
          7,
          8,
          9,
          10,
          11,
          12,
          13,
          14,
          15,
          16,
          17,
          18,
          19,
          20,
          21,
          22,
          23,
          24,
          25,
          26,
          27,
          28,
          29,
          30,
          31,
          32,
          33,
          34,
          35,
          36,
          37,
          38,
          39,
          40,
          41,
          42,
          43,
          44,
          45,
          46,
          47,
          48,
          49,
          50,
          51,
          52,
          53,
          54,
          55,
          56,
          57,
          58,
          59,
          60,
          61,
          62,
          63,
          64,
          65,
          66,
          67,
          68,
          69,
          70,
          71,
          72,
          73,
          74,
          75,
          76,
          77,
          78,
          79,
          80
         ],
         "xaxis": "x",
         "y": [
          168.71228639837256,
          54.703270512623526,
          17.757506634421738,
          5.784825968573436,
          1.9049119933438252,
          0.6475369719284385,
          0.24002137281702068,
          0.10791146176938768,
          0.06505001395514343,
          0.05111099566186324,
          0.0465451720916738,
          0.04501741953495423,
          0.04447477323244042,
          0.04425194300858888,
          0.04413332797716378,
          0.044049053450287395,
          0.04397646879567632,
          0.04390822687572822,
          0.04384193988389093,
          0.04377682721857755,
          0.043712629193618374,
          0.04364925501468728,
          0.043586668701641774,
          0.04352485211952109,
          0.04346379299735435,
          0.04340348104452065,
          0.04334390669121031,
          0.04328506067926464,
          0.04322693392860081,
          0.043169517492955646,
          0.043112802544586465,
          0.0430567803683673,
          0.04300144235894195,
          0.04294678001887951,
          0.042892784957166426,
          0.04283944888781896,
          0.04278676362854606,
          0.04273472109943988,
          0.042683313321686345,
          0.0426325324162928,
          0.042582370602832535,
          0.042532820198204896,
          0.042483873615411324,
          0.04243552336234682,
          0.04238776204060656,
          0.0423405823443078,
          0.042293977058926374,
          0.042247939060148336,
          0.042202461312735313,
          0.04215753686940505,
          0.04211315886972559,
          0.04206932053902361,
          0.042026015187306386,
          0.04198323620819714,
          0.04194097707788494,
          0.04189923135408618,
          0.0418579926750204,
          0.041817254758398724,
          0.04177701140042484,
          0.04173725647480879,
          0.04169798393179319,
          0.041659187797191674,
          0.04162086217143953,
          0.041583001228656304,
          0.04154559921572025,
          0.04150865045135412,
          0.04147214932522321,
          0.04143609029704416,
          0.04140046789570521,
          0.04136527671839752,
          0.04133051142975754,
          0.04129616676102007,
          0.041262237509182044,
          0.041228718536176955,
          0.04119560476805944,
          0.041162891194200676,
          0.04113057286649309,
          0.04109864489856587,
          0.04106710246501013,
          0.04103594080061338,
          0.041005155199604675
         ],
         "yaxis": "y"
        }
       ],
       "layout": {
        "legend": {
         "tracegroupgap": 0
        },
        "margin": {
         "t": 60
        },
        "template": {
         "data": {
          "bar": [
           {
            "error_x": {
             "color": "#2a3f5f"
            },
            "error_y": {
             "color": "#2a3f5f"
            },
            "marker": {
             "line": {
              "color": "#E5ECF6",
              "width": 0.5
             },
             "pattern": {
              "fillmode": "overlay",
              "size": 10,
              "solidity": 0.2
             }
            },
            "type": "bar"
           }
          ],
          "barpolar": [
           {
            "marker": {
             "line": {
              "color": "#E5ECF6",
              "width": 0.5
             },
             "pattern": {
              "fillmode": "overlay",
              "size": 10,
              "solidity": 0.2
             }
            },
            "type": "barpolar"
           }
          ],
          "carpet": [
           {
            "aaxis": {
             "endlinecolor": "#2a3f5f",
             "gridcolor": "white",
             "linecolor": "white",
             "minorgridcolor": "white",
             "startlinecolor": "#2a3f5f"
            },
            "baxis": {
             "endlinecolor": "#2a3f5f",
             "gridcolor": "white",
             "linecolor": "white",
             "minorgridcolor": "white",
             "startlinecolor": "#2a3f5f"
            },
            "type": "carpet"
           }
          ],
          "choropleth": [
           {
            "colorbar": {
             "outlinewidth": 0,
             "ticks": ""
            },
            "type": "choropleth"
           }
          ],
          "contour": [
           {
            "colorbar": {
             "outlinewidth": 0,
             "ticks": ""
            },
            "colorscale": [
             [
              0,
              "#0d0887"
             ],
             [
              0.1111111111111111,
              "#46039f"
             ],
             [
              0.2222222222222222,
              "#7201a8"
             ],
             [
              0.3333333333333333,
              "#9c179e"
             ],
             [
              0.4444444444444444,
              "#bd3786"
             ],
             [
              0.5555555555555556,
              "#d8576b"
             ],
             [
              0.6666666666666666,
              "#ed7953"
             ],
             [
              0.7777777777777778,
              "#fb9f3a"
             ],
             [
              0.8888888888888888,
              "#fdca26"
             ],
             [
              1,
              "#f0f921"
             ]
            ],
            "type": "contour"
           }
          ],
          "contourcarpet": [
           {
            "colorbar": {
             "outlinewidth": 0,
             "ticks": ""
            },
            "type": "contourcarpet"
           }
          ],
          "heatmap": [
           {
            "colorbar": {
             "outlinewidth": 0,
             "ticks": ""
            },
            "colorscale": [
             [
              0,
              "#0d0887"
             ],
             [
              0.1111111111111111,
              "#46039f"
             ],
             [
              0.2222222222222222,
              "#7201a8"
             ],
             [
              0.3333333333333333,
              "#9c179e"
             ],
             [
              0.4444444444444444,
              "#bd3786"
             ],
             [
              0.5555555555555556,
              "#d8576b"
             ],
             [
              0.6666666666666666,
              "#ed7953"
             ],
             [
              0.7777777777777778,
              "#fb9f3a"
             ],
             [
              0.8888888888888888,
              "#fdca26"
             ],
             [
              1,
              "#f0f921"
             ]
            ],
            "type": "heatmap"
           }
          ],
          "heatmapgl": [
           {
            "colorbar": {
             "outlinewidth": 0,
             "ticks": ""
            },
            "colorscale": [
             [
              0,
              "#0d0887"
             ],
             [
              0.1111111111111111,
              "#46039f"
             ],
             [
              0.2222222222222222,
              "#7201a8"
             ],
             [
              0.3333333333333333,
              "#9c179e"
             ],
             [
              0.4444444444444444,
              "#bd3786"
             ],
             [
              0.5555555555555556,
              "#d8576b"
             ],
             [
              0.6666666666666666,
              "#ed7953"
             ],
             [
              0.7777777777777778,
              "#fb9f3a"
             ],
             [
              0.8888888888888888,
              "#fdca26"
             ],
             [
              1,
              "#f0f921"
             ]
            ],
            "type": "heatmapgl"
           }
          ],
          "histogram": [
           {
            "marker": {
             "pattern": {
              "fillmode": "overlay",
              "size": 10,
              "solidity": 0.2
             }
            },
            "type": "histogram"
           }
          ],
          "histogram2d": [
           {
            "colorbar": {
             "outlinewidth": 0,
             "ticks": ""
            },
            "colorscale": [
             [
              0,
              "#0d0887"
             ],
             [
              0.1111111111111111,
              "#46039f"
             ],
             [
              0.2222222222222222,
              "#7201a8"
             ],
             [
              0.3333333333333333,
              "#9c179e"
             ],
             [
              0.4444444444444444,
              "#bd3786"
             ],
             [
              0.5555555555555556,
              "#d8576b"
             ],
             [
              0.6666666666666666,
              "#ed7953"
             ],
             [
              0.7777777777777778,
              "#fb9f3a"
             ],
             [
              0.8888888888888888,
              "#fdca26"
             ],
             [
              1,
              "#f0f921"
             ]
            ],
            "type": "histogram2d"
           }
          ],
          "histogram2dcontour": [
           {
            "colorbar": {
             "outlinewidth": 0,
             "ticks": ""
            },
            "colorscale": [
             [
              0,
              "#0d0887"
             ],
             [
              0.1111111111111111,
              "#46039f"
             ],
             [
              0.2222222222222222,
              "#7201a8"
             ],
             [
              0.3333333333333333,
              "#9c179e"
             ],
             [
              0.4444444444444444,
              "#bd3786"
             ],
             [
              0.5555555555555556,
              "#d8576b"
             ],
             [
              0.6666666666666666,
              "#ed7953"
             ],
             [
              0.7777777777777778,
              "#fb9f3a"
             ],
             [
              0.8888888888888888,
              "#fdca26"
             ],
             [
              1,
              "#f0f921"
             ]
            ],
            "type": "histogram2dcontour"
           }
          ],
          "mesh3d": [
           {
            "colorbar": {
             "outlinewidth": 0,
             "ticks": ""
            },
            "type": "mesh3d"
           }
          ],
          "parcoords": [
           {
            "line": {
             "colorbar": {
              "outlinewidth": 0,
              "ticks": ""
             }
            },
            "type": "parcoords"
           }
          ],
          "pie": [
           {
            "automargin": true,
            "type": "pie"
           }
          ],
          "scatter": [
           {
            "fillpattern": {
             "fillmode": "overlay",
             "size": 10,
             "solidity": 0.2
            },
            "type": "scatter"
           }
          ],
          "scatter3d": [
           {
            "line": {
             "colorbar": {
              "outlinewidth": 0,
              "ticks": ""
             }
            },
            "marker": {
             "colorbar": {
              "outlinewidth": 0,
              "ticks": ""
             }
            },
            "type": "scatter3d"
           }
          ],
          "scattercarpet": [
           {
            "marker": {
             "colorbar": {
              "outlinewidth": 0,
              "ticks": ""
             }
            },
            "type": "scattercarpet"
           }
          ],
          "scattergeo": [
           {
            "marker": {
             "colorbar": {
              "outlinewidth": 0,
              "ticks": ""
             }
            },
            "type": "scattergeo"
           }
          ],
          "scattergl": [
           {
            "marker": {
             "colorbar": {
              "outlinewidth": 0,
              "ticks": ""
             }
            },
            "type": "scattergl"
           }
          ],
          "scattermapbox": [
           {
            "marker": {
             "colorbar": {
              "outlinewidth": 0,
              "ticks": ""
             }
            },
            "type": "scattermapbox"
           }
          ],
          "scatterpolar": [
           {
            "marker": {
             "colorbar": {
              "outlinewidth": 0,
              "ticks": ""
             }
            },
            "type": "scatterpolar"
           }
          ],
          "scatterpolargl": [
           {
            "marker": {
             "colorbar": {
              "outlinewidth": 0,
              "ticks": ""
             }
            },
            "type": "scatterpolargl"
           }
          ],
          "scatterternary": [
           {
            "marker": {
             "colorbar": {
              "outlinewidth": 0,
              "ticks": ""
             }
            },
            "type": "scatterternary"
           }
          ],
          "surface": [
           {
            "colorbar": {
             "outlinewidth": 0,
             "ticks": ""
            },
            "colorscale": [
             [
              0,
              "#0d0887"
             ],
             [
              0.1111111111111111,
              "#46039f"
             ],
             [
              0.2222222222222222,
              "#7201a8"
             ],
             [
              0.3333333333333333,
              "#9c179e"
             ],
             [
              0.4444444444444444,
              "#bd3786"
             ],
             [
              0.5555555555555556,
              "#d8576b"
             ],
             [
              0.6666666666666666,
              "#ed7953"
             ],
             [
              0.7777777777777778,
              "#fb9f3a"
             ],
             [
              0.8888888888888888,
              "#fdca26"
             ],
             [
              1,
              "#f0f921"
             ]
            ],
            "type": "surface"
           }
          ],
          "table": [
           {
            "cells": {
             "fill": {
              "color": "#EBF0F8"
             },
             "line": {
              "color": "white"
             }
            },
            "header": {
             "fill": {
              "color": "#C8D4E3"
             },
             "line": {
              "color": "white"
             }
            },
            "type": "table"
           }
          ]
         },
         "layout": {
          "annotationdefaults": {
           "arrowcolor": "#2a3f5f",
           "arrowhead": 0,
           "arrowwidth": 1
          },
          "autotypenumbers": "strict",
          "coloraxis": {
           "colorbar": {
            "outlinewidth": 0,
            "ticks": ""
           }
          },
          "colorscale": {
           "diverging": [
            [
             0,
             "#8e0152"
            ],
            [
             0.1,
             "#c51b7d"
            ],
            [
             0.2,
             "#de77ae"
            ],
            [
             0.3,
             "#f1b6da"
            ],
            [
             0.4,
             "#fde0ef"
            ],
            [
             0.5,
             "#f7f7f7"
            ],
            [
             0.6,
             "#e6f5d0"
            ],
            [
             0.7,
             "#b8e186"
            ],
            [
             0.8,
             "#7fbc41"
            ],
            [
             0.9,
             "#4d9221"
            ],
            [
             1,
             "#276419"
            ]
           ],
           "sequential": [
            [
             0,
             "#0d0887"
            ],
            [
             0.1111111111111111,
             "#46039f"
            ],
            [
             0.2222222222222222,
             "#7201a8"
            ],
            [
             0.3333333333333333,
             "#9c179e"
            ],
            [
             0.4444444444444444,
             "#bd3786"
            ],
            [
             0.5555555555555556,
             "#d8576b"
            ],
            [
             0.6666666666666666,
             "#ed7953"
            ],
            [
             0.7777777777777778,
             "#fb9f3a"
            ],
            [
             0.8888888888888888,
             "#fdca26"
            ],
            [
             1,
             "#f0f921"
            ]
           ],
           "sequentialminus": [
            [
             0,
             "#0d0887"
            ],
            [
             0.1111111111111111,
             "#46039f"
            ],
            [
             0.2222222222222222,
             "#7201a8"
            ],
            [
             0.3333333333333333,
             "#9c179e"
            ],
            [
             0.4444444444444444,
             "#bd3786"
            ],
            [
             0.5555555555555556,
             "#d8576b"
            ],
            [
             0.6666666666666666,
             "#ed7953"
            ],
            [
             0.7777777777777778,
             "#fb9f3a"
            ],
            [
             0.8888888888888888,
             "#fdca26"
            ],
            [
             1,
             "#f0f921"
            ]
           ]
          },
          "colorway": [
           "#636efa",
           "#EF553B",
           "#00cc96",
           "#ab63fa",
           "#FFA15A",
           "#19d3f3",
           "#FF6692",
           "#B6E880",
           "#FF97FF",
           "#FECB52"
          ],
          "font": {
           "color": "#2a3f5f"
          },
          "geo": {
           "bgcolor": "white",
           "lakecolor": "white",
           "landcolor": "#E5ECF6",
           "showlakes": true,
           "showland": true,
           "subunitcolor": "white"
          },
          "hoverlabel": {
           "align": "left"
          },
          "hovermode": "closest",
          "mapbox": {
           "style": "light"
          },
          "paper_bgcolor": "white",
          "plot_bgcolor": "#E5ECF6",
          "polar": {
           "angularaxis": {
            "gridcolor": "white",
            "linecolor": "white",
            "ticks": ""
           },
           "bgcolor": "#E5ECF6",
           "radialaxis": {
            "gridcolor": "white",
            "linecolor": "white",
            "ticks": ""
           }
          },
          "scene": {
           "xaxis": {
            "backgroundcolor": "#E5ECF6",
            "gridcolor": "white",
            "gridwidth": 2,
            "linecolor": "white",
            "showbackground": true,
            "ticks": "",
            "zerolinecolor": "white"
           },
           "yaxis": {
            "backgroundcolor": "#E5ECF6",
            "gridcolor": "white",
            "gridwidth": 2,
            "linecolor": "white",
            "showbackground": true,
            "ticks": "",
            "zerolinecolor": "white"
           },
           "zaxis": {
            "backgroundcolor": "#E5ECF6",
            "gridcolor": "white",
            "gridwidth": 2,
            "linecolor": "white",
            "showbackground": true,
            "ticks": "",
            "zerolinecolor": "white"
           }
          },
          "shapedefaults": {
           "line": {
            "color": "#2a3f5f"
           }
          },
          "ternary": {
           "aaxis": {
            "gridcolor": "white",
            "linecolor": "white",
            "ticks": ""
           },
           "baxis": {
            "gridcolor": "white",
            "linecolor": "white",
            "ticks": ""
           },
           "bgcolor": "#E5ECF6",
           "caxis": {
            "gridcolor": "white",
            "linecolor": "white",
            "ticks": ""
           }
          },
          "title": {
           "x": 0.05
          },
          "xaxis": {
           "automargin": true,
           "gridcolor": "white",
           "linecolor": "white",
           "ticks": "",
           "title": {
            "standoff": 15
           },
           "zerolinecolor": "white",
           "zerolinewidth": 2
          },
          "yaxis": {
           "automargin": true,
           "gridcolor": "white",
           "linecolor": "white",
           "ticks": "",
           "title": {
            "standoff": 15
           },
           "zerolinecolor": "white",
           "zerolinewidth": 2
          }
         }
        },
        "xaxis": {
         "anchor": "y",
         "domain": [
          0,
          1
         ],
         "title": {
          "text": "x"
         }
        },
        "yaxis": {
         "anchor": "x",
         "domain": [
          0,
          1
         ],
         "title": {
          "text": "loss"
         }
        }
       }
      }
     },
     "metadata": {},
     "output_type": "display_data"
    }
   ],
   "source": [
    "def predict(w, xs):\n",
    "    return xs @ w\n",
    "\n",
    "def evaluate(w, xs, ys):\n",
    "    return mse(ys, predict(w, xs))\n",
    "\n",
    "def evaluate_msle(w, xs, ys):\n",
    "    return msle(ys, predict(w, xs))\n",
    "\n",
    "def linear_regression(n_epochs, lr, x, y, eval=evaluate):\n",
    "    n, features = x.shape\n",
    "    w = np.zeros(features).reshape(-1, 1)\n",
    "    losses = [eval(w, x, y)]\n",
    "\n",
    "    for i in range(n_epochs):\n",
    "        y_hat = predict(w, x)\n",
    "        dJdwi = np.sum((y_hat - y) * x, axis = 0)\n",
    "\n",
    "        w = w - (2/n) * (lr * dJdwi).reshape(-1,1)\n",
    "\n",
    "        loss = eval(w, x, y)\n",
    "        losses.append(loss)\n",
    "\n",
    "        if i == 0 or (i+1) % 5 == 0:\n",
    "            print(f'Iter: {i:>3} Loss: {loss:8.8f} w: {[f\"{x[0]:.2f}\" for x in w]}')\n",
    "            #print(f'Test loss :     {evaluate(w, np.log1p(x_test), np.log1p(y_test))}')\n",
    "\n",
    "    return (w, losses)\n",
    "\n",
    "def linear_regression_log(n_epochs, lr, x, y):\n",
    "    return linear_regression(n_epochs, lr, np.log(1 + x), np.log(1 + y), eval=evaluate)\n",
    "\n",
    "(w_msle, losses) = linear_regression_log(n_epochs, lr, x_train, y_train)\n",
    "\n",
    "# print(w_msle)\n",
    "plot_loss(losses)"
   ]
  },
  {
   "cell_type": "code",
   "execution_count": 59,
   "metadata": {
    "colab": {
     "base_uri": "https://localhost:8080/"
    },
    "id": "Ca0nRHYL-ZBR",
    "outputId": "4703e4f5-333a-4a7c-8222-17f087c8c038"
   },
   "outputs": [
    {
     "name": "stdout",
     "output_type": "stream",
     "text": [
      "(10, 1) (60, 1)\n"
     ]
    }
   ],
   "source": [
    "#######################################################\n",
    "# TODO: Implement the basic validation method,        #\n",
    "# compare MSLE on training, validation, and test sets #\n",
    "#######################################################\n",
    "v_epochs = np.linspace(80, 400, 10).astype(int).reshape(-1,1)\n",
    "v_lr = np.linspace(1.2e-2, 5e-3, 60).reshape(-1, 1)\n",
    "\n",
    "print(v_epochs.shape, v_lr.shape)\n",
    "\n",
    "xepochs, ylr = np.meshgrid(v_epochs, v_lr, indexing='ij')\n",
    "\n",
    "def linreg_w(n_epochs, lr, x, y):\n",
    "    return linear_regression_log(n_epochs, lr, x, y)[0]\n",
    "\n",
    "def shuffle_and_divide(length, ratio):\n",
    "    perm = np.random.permutation(length)\n",
    "    return (perm[: int(length * ratio)], perm[int(length * ratio) :])\n",
    "\n",
    "idx_train, idx_val = shuffle_and_divide(n, 0.8)\n",
    "\n",
    "x_train_, x_val = x_train[idx_train], x_train[idx_val]\n",
    "y_train_, y_val = y_train[idx_train], y_train[idx_val]\n",
    "\n",
    "run_linreg = np.frompyfunc(lambda ne, lr: linreg_w(ne, lr, x_train_, y_train_), 2, 1)\n",
    "\n",
    "import contextlib, io\n",
    "with contextlib.redirect_stdout(io.StringIO()):\n",
    "    w_matrix = run_linreg(xepochs, ylr)\n",
    "\n",
    "check_loss = np.frompyfunc(lambda w : evaluate(w, np.log1p(x_val), np.log1p(y_val)), 1, 1)\n",
    "\n",
    "loss_matrix = check_loss(w_matrix)"
   ]
  },
  {
   "cell_type": "code",
   "execution_count": 60,
   "metadata": {},
   "outputs": [
    {
     "name": "stdout",
     "output_type": "stream",
     "text": [
      "found min validation loss: 0.04478994825727809\n",
      "loss on test data: 0.05922318144581269\n",
      "400 0.012\n"
     ]
    }
   ],
   "source": [
    "idx = np.unravel_index(np.argmin(loss_matrix), xepochs.shape)\n",
    "found_w = w_matrix[idx]\n",
    "\n",
    "print(f\"found min validation loss: {np.min(loss_matrix)}\")\n",
    "print(f\"loss on test data: {evaluate(found_w, np.log1p(x_test), np.log1p(y_test))}\")\n",
    "print(xepochs[idx], ylr[idx])"
   ]
  },
  {
   "cell_type": "markdown",
   "metadata": {
    "id": "tnnf-KvC-ZBW"
   },
   "source": [
    "To make the random split validation reliable, a huge chunk of training data may be needed. To get over this problem, one may apply cross-validaiton.\n",
    "\n",
    "![alt-text](https://chrisjmccormick.files.wordpress.com/2013/07/10_fold_cv.png)"
   ]
  },
  {
   "cell_type": "markdown",
   "metadata": {
    "id": "sbu4F_h9-ZBX"
   },
   "source": [
    "Let's now implement the method. Make sure that:\n",
    "* number of partitions is a parameter,\n",
    "* the method is not limited to `mieszkania.csv`,\n",
    "* the method is not limited to one specific model."
   ]
  },
  {
   "cell_type": "code",
   "execution_count": 91,
   "metadata": {
    "id": "dbfmYPOh-ZBY"
   },
   "outputs": [
    {
     "data": {
      "text/plain": [
       "(4, 3, 50, 6)"
      ]
     },
     "execution_count": 91,
     "metadata": {},
     "output_type": "execute_result"
    }
   ],
   "source": [
    "####################################\n",
    "# TODO: Implement cross-validation #\n",
    "####################################\n",
    "# xepochs, ylr = np.meshgrid(v_epochs, v_lr, indexing='ij')\n",
    "# def linreg_w(n_epochs, lr, x, y):\n",
    "# def shuffle_and_divide(length, ratio):\n",
    "\n",
    "def ccv_eval(w, x, y):\n",
    "    return evaluate(w, np.log1p(x), np.log1p(y))\n",
    "\n",
    "def swap_diagonal_and_last_column(arr):\n",
    "    len = arr.shape[0]\n",
    "    diag = np.arange(len)\n",
    "    last = [len - 1] * len \n",
    "\n",
    "    arr[diag, last], arr[diag, diag] = (\n",
    "        arr[diag, diag], arr[diag, last]\n",
    "    )\n",
    "\n",
    "    return arr\n",
    "\n",
    "def prepare_ccv_tensor(x, partition_num):\n",
    "    n, _ = x.shape\n",
    "\n",
    "    #preparing partitions\n",
    "    assert(n % partition_num == 0)\n",
    "    partition_idxs = np.linspace(0, n, partition_num + 1).astype(int)\n",
    "    partition_intervals = np.array([partition_idxs[:-1], partition_idxs[1:]]).T\n",
    "    partitions = list(map(lambda ival : x[ival[0] : ival[1]], partition_intervals))\n",
    "    partitions = np.array(partitions)\n",
    "    #print(partitions.shape)\n",
    "\n",
    "    partitions = np.tile(partitions[np.newaxis, :], (partition_num,1,1,1))\n",
    "\n",
    "    return swap_diagonal_and_last_column(partitions)\n",
    "\n",
    "\n",
    "def cross_check_validation(partition_num, regression_fun, eval_fun, x, y):\n",
    "    n, _ = x.shape\n",
    "\n",
    "    # last column of partitions is validation\n",
    "    partitions = prepare_ccv_tensor(x, partition_num)\n",
    "    val_sets = partitions[:, partition_num - 1]\n",
    "    train_sets = partitions[:, np.arange(partition_num - 1)]\n",
    "\n",
    "    return train_sets\n",
    "\n",
    "cross_check_validation(4, linreg_w, ccv_eval, x_train, y_train).shape\n",
    "#cross_check_validation(2, linreg_w, ccv_eval, np.array([[1,2,3,4], [5,6,7,8]]), y_train).shape\n",
    "\n",
    "# idx_train, idx_val = shuffle_and_divide(n, 0.8)\n",
    "\n",
    "# x_train_, x_val = x_train[idx_train], x_train[idx_val]\n",
    "# y_train_, y_val = y_train[idx_train], y_train[idx_val]\n",
    "\n",
    "# run_linreg = np.frompyfunc(lambda ne, lr: linreg_w(ne, lr, x_train_, y_train_), 2, 1)\n",
    "\n",
    "# import contextlib, io\n",
    "# with contextlib.redirect_stdout(io.StringIO()):\n",
    "#     w_matrix = run_linreg(xepochs, ylr)\n",
    "\n",
    "# check_loss = np.frompyfunc(lambda w : evaluate(w, np.log1p(x_val), np.log1p(y_val)), 1, 1)\n",
    "\n",
    "# loss_matrix = check_loss(w_matrix)"
   ]
  },
  {
   "cell_type": "markdown",
   "metadata": {
    "id": "sF2-UXXR-ZBc"
   },
   "source": [
    "Recall that sometimes validation may be tricky, e.g. significant class imbalance, having a small number of subjects, geographically clustered instances...\n",
    "\n",
    "What could in theory go wrong here with random, unstratified partitions? Think about potential solutions and investigate the data in order to check whether these problems arise here."
   ]
  },
  {
   "cell_type": "code",
   "execution_count": 62,
   "metadata": {
    "id": "bt-y3kUy-ZBe"
   },
   "outputs": [],
   "source": [
    "##############################\n",
    "# TODO: Investigate the data #\n",
    "##############################\n"
   ]
  }
 ],
 "metadata": {
  "colab": {
   "provenance": [
    {
     "file_id": "https://github.com/mim-ml-teaching/public-dnn-2024-25/blob/master/docs/DNN-Lab-1-cross-validation-student-version.ipynb",
     "timestamp": 1728987788735
    }
   ]
  },
  "kernelspec": {
   "display_name": "venv",
   "language": "python",
   "name": "python3"
  },
  "language_info": {
   "codemirror_mode": {
    "name": "ipython",
    "version": 3
   },
   "file_extension": ".py",
   "mimetype": "text/x-python",
   "name": "python",
   "nbconvert_exporter": "python",
   "pygments_lexer": "ipython3",
   "version": "3.12.7"
  }
 },
 "nbformat": 4,
 "nbformat_minor": 0
}
