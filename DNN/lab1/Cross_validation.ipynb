{
 "cells": [
  {
   "cell_type": "markdown",
   "metadata": {
    "id": "qMeI3m9u-ZBN"
   },
   "source": [
    "# Validation and cross-validation\n",
    "\n",
    "In this exercise you will implement a validation pipeline.\n",
    "\n",
    "At the end of the MSLE exercise you tested your model against the training and test datasets. As you should observe, there's a gap between the results. By validating your model, not only should you be able to anticipate the test time performance, but also have a method to compare different models.\n",
    "\n",
    "Implement the basic validation method, i.e. a random split. Test it with your model from Exercise MSLE."
   ]
  },
  {
   "cell_type": "code",
   "execution_count": 124,
   "metadata": {
    "colab": {
     "base_uri": "https://localhost:8080/"
    },
    "executionInfo": {
     "elapsed": 4699,
     "status": "ok",
     "timestamp": 1728987813681,
     "user": {
      "displayName": "Jakub Nowacki",
      "userId": "04628940980631792389"
     },
     "user_tz": -120
    },
    "id": "tMxpoCCqXXWZ",
    "outputId": "cf5f8dd5-3654-4db2-e6c3-dc47bd10cc23"
   },
   "outputs": [],
   "source": [
    "%matplotlib inline\n",
    "\n",
    "#!wget -O mieszkania.csv https://www.dropbox.com/s/zey0gx91pna8irj/mieszkania.csv?dl=1\n",
    "#!wget -O mieszkania_test.csv https://www.dropbox.com/s/dbrj6sbxb4ayqjz/mieszkania_test.csv?dl=1"
   ]
  },
  {
   "cell_type": "code",
   "execution_count": 125,
   "metadata": {
    "executionInfo": {
     "elapsed": 7304,
     "status": "ok",
     "timestamp": 1728987820980,
     "user": {
      "displayName": "Jakub Nowacki",
      "userId": "04628940980631792389"
     },
     "user_tz": -120
    },
    "id": "N-c841bp9InV"
   },
   "outputs": [],
   "source": [
    "from typing import Tuple\n",
    "\n",
    "import numpy as np\n",
    "import pandas as pd\n",
    "from sklearn import preprocessing\n",
    "\n",
    "np.random.seed(357)"
   ]
  },
  {
   "cell_type": "code",
   "execution_count": 126,
   "metadata": {
    "executionInfo": {
     "elapsed": 471,
     "status": "ok",
     "timestamp": 1728987831689,
     "user": {
      "displayName": "Jakub Nowacki",
      "userId": "04628940980631792389"
     },
     "user_tz": -120
    },
    "id": "MNjo9j9EXD84"
   },
   "outputs": [],
   "source": [
    "def load(name: str) -> Tuple[np.ndarray, np.array]:\n",
    "    data = pd.read_csv(name)\n",
    "    x = data.loc[:, data.columns != 'cena'].to_numpy()\n",
    "    y = data['cena'].to_numpy()\n",
    "\n",
    "    return x, y"
   ]
  },
  {
   "cell_type": "code",
   "execution_count": 127,
   "metadata": {
    "colab": {
     "base_uri": "https://localhost:8080/"
    },
    "executionInfo": {
     "elapsed": 262,
     "status": "ok",
     "timestamp": 1728987895383,
     "user": {
      "displayName": "Jakub Nowacki",
      "userId": "04628940980631792389"
     },
     "user_tz": -120
    },
    "id": "uoYy1AU5XD_e",
    "outputId": "4f0b6969-8643-41fb-bee1-9ec23eba0a64"
   },
   "outputs": [
    {
     "data": {
      "text/plain": [
       "(array([[71, 'wolowo', 2, 2, 1912, 1],\n",
       "        [45, 'mokotowo', 1, 1, 1938, 0],\n",
       "        [38, 'mokotowo', 1, 1, 1999, 1],\n",
       "        ...,\n",
       "        [89, 'wolowo', 2, 2, 1922, 1],\n",
       "        [40, 'wolowo', 1, 1, 1959, 0],\n",
       "        [68, 'grodziskowo', 2, 1, 1927, 0]], dtype=object),\n",
       " array([ 322227,  295878,  306530,  553641,  985348,  695726,   99751,\n",
       "         891261,  536499,  527093,  861472,  701472,  429776,  547725,\n",
       "         669560,  318362, 1140170,  341242,  113580,  456093,  470730,\n",
       "         421012,  617318,  796117,  138901,  857820,  939450,  398165,\n",
       "         944399, 1025413,  522440,  344346,  145702,  246712,  574154,\n",
       "         807608,  568048,  412494,  588840,  766040,  979540, 1044803,\n",
       "         742235,  758936,  388672,  178238,  530053, 1150687,  587013,\n",
       "         269316,  270969, 1008103,  299708,  393925,  511106,  947932,\n",
       "         127717,  752428, 1185932,  330988,  330699,  403778,  584561,\n",
       "         795392,  602356,  680512,  202121,  888872,  456054,  227841,\n",
       "         343730,  196726,  378904,  411749,  147094,  500022,  199290,\n",
       "        1005525,  279705,  575550,  472981,  621614,  643571,  851574,\n",
       "         187483,  339096,  354682,  187713,  166136,  703704,  539705,\n",
       "         734809,  304624,  293954,  679961,  635920,  330152,  391860,\n",
       "         789961,  399878,  351221,  375939, 1079542,  332133,  530085,\n",
       "         513587,  980894,  134902,  919498,  483188,  334802,  378666,\n",
       "          69821,  260449,  484787,  794268,   97154,  886722, 1056621,\n",
       "         697441,  497640,  505771,  871711,  697180,  496002,  473489,\n",
       "         242682,  879455,  287794,  461689,  153664,  180044, 1017479,\n",
       "         309834, 1158386,  705667,  465605,   88519,  833272,  610060,\n",
       "         527288,  656697,  858702,  639827,  921956,  923813,  953496,\n",
       "         405742,  692810, 1049653, 1068930,  824800,  201399,  438856,\n",
       "         724136,  482714,  643546,  519852,  742507,   85813,  329828,\n",
       "         807843,  562540,  797489,  186172,  303512,  682735,  758841,\n",
       "         463683, 1078682,  533095,  463227,  918459, 1059927, 1049521,\n",
       "         128616,  614596,  419141,  161540,  867444,  615665, 1108607,\n",
       "         638008, 1052663,  166897,   57441,  681938,  286712,  146808,\n",
       "         899113,  246723,  858217,  936124,  515311,  151429,  146077,\n",
       "         857546,  508225,  208683,  279891]))"
      ]
     },
     "execution_count": 127,
     "metadata": {},
     "output_type": "execute_result"
    }
   ],
   "source": [
    "x_train, y_train = load('mieszkania.csv')\n",
    "x_test, y_test = load('mieszkania_test.csv')\n",
    "\n",
    "x_test, y_test"
   ]
  },
  {
   "cell_type": "code",
   "execution_count": 175,
   "metadata": {
    "colab": {
     "base_uri": "https://localhost:8080/"
    },
    "executionInfo": {
     "elapsed": 235,
     "status": "ok",
     "timestamp": 1728987943280,
     "user": {
      "displayName": "Jakub Nowacki",
      "userId": "04628940980631792389"
     },
     "user_tz": -120
    },
    "id": "qX2qTiVdXEEb",
    "outputId": "41035d53-e277-4a77-9e6f-d74407cf0b61"
   },
   "outputs": [
    {
     "data": {
      "text/plain": [
       "array([[1.040e+02, 1.000e+00, 2.000e+00, 2.000e+00, 1.940e+03, 1.000e+00],\n",
       "       [4.300e+01, 2.000e+00, 1.000e+00, 1.000e+00, 1.970e+03, 1.000e+00],\n",
       "       [1.280e+02, 0.000e+00, 3.000e+00, 2.000e+00, 1.916e+03, 1.000e+00],\n",
       "       ...,\n",
       "       [1.070e+02, 0.000e+00, 2.000e+00, 2.000e+00, 1.935e+03, 0.000e+00],\n",
       "       [1.170e+02, 0.000e+00, 3.000e+00, 2.000e+00, 1.978e+03, 1.000e+00],\n",
       "       [5.600e+01, 3.000e+00, 2.000e+00, 1.000e+00, 1.923e+03, 0.000e+00]])"
      ]
     },
     "execution_count": 175,
     "metadata": {},
     "output_type": "execute_result"
    }
   ],
   "source": [
    "labelencoder = preprocessing.LabelEncoder()\n",
    "labelencoder.fit(x_train[:, 1])\n",
    "x_train[:, 1] = labelencoder.transform(x_train[:, 1])\n",
    "x_test[:, 1] = labelencoder.transform(x_test[:, 1])\n",
    "\n",
    "x_train = x_train.astype(np.float64)\n",
    "x_test = x_test.astype(np.float64)\n",
    "\n",
    "y_train, y_test = y_train.reshape(-1, 1), y_test.reshape(-1, 1)\n",
    "x_train"
   ]
  },
  {
   "cell_type": "code",
   "execution_count": 176,
   "metadata": {},
   "outputs": [],
   "source": [
    "import plotly.express as px\n",
    "def plot_loss(l):\n",
    "    fig = px.line(y=l, labels={'y':'loss'})\n",
    "    fig.show()\n",
    "\n",
    "def mse(xs, ps):\n",
    "    assert len(xs) == len(ps)\n",
    "\n",
    "    n = len(xs)\n",
    "    sum = np.sum((xs - ps) ** 2)\n",
    "\n",
    "    return (1/n) * sum\n",
    "\n",
    "def msle(xs, ps):\n",
    "    assert len(xs) == len(ps)\n",
    "\n",
    "    n = len(xs)\n",
    "    sum = np.sum((np.log(1 + xs) - np.log(1 + ps)) ** 2)\n",
    "\n",
    "    return (1/n) * sum"
   ]
  },
  {
   "cell_type": "code",
   "execution_count": 177,
   "metadata": {},
   "outputs": [],
   "source": [
    "n, features = x_train.shape\n",
    "w = np.zeros(features).reshape(-1, 1)\n",
    "lr = 1e-3 # step size\n",
    "t = 0.99\n",
    "n_epochs = 60\n"
   ]
  },
  {
   "cell_type": "code",
   "execution_count": 178,
   "metadata": {},
   "outputs": [
    {
     "name": "stdout",
     "output_type": "stream",
     "text": [
      "Iter:   0 Loss: 2.32887578 w: ['0.11', '0.02', '0.03', '0.02', '0.20', '0.01']\n",
      "Iter:  19 Loss: 0.00116427 w: ['0.68', '0.13', '0.17', '0.15', '1.21', '0.05']\n",
      "Iter:  39 Loss: 0.00023183 w: ['0.71', '0.14', '0.18', '0.16', '1.25', '0.06']\n",
      "Iter:  59 Loss: 0.00023095 w: ['0.71', '0.14', '0.18', '0.16', '1.25', '0.06']\n"
     ]
    },
    {
     "data": {
      "application/vnd.plotly.v1+json": {
       "config": {
        "plotlyServerURL": "https://plot.ly"
       },
       "data": [
        {
         "hovertemplate": "x=%{x}<br>loss=%{y}<extra></extra>",
         "legendgroup": "",
         "line": {
          "color": "#636efa",
          "dash": "solid"
         },
         "marker": {
          "symbol": "circle"
         },
         "mode": "lines",
         "name": "",
         "orientation": "v",
         "showlegend": false,
         "type": "scatter",
         "x": [
          0,
          1,
          2,
          3,
          4,
          5,
          6,
          7,
          8,
          9,
          10,
          11,
          12,
          13,
          14,
          15,
          16,
          17,
          18,
          19,
          20,
          21,
          22,
          23,
          24,
          25,
          26,
          27,
          28,
          29,
          30,
          31,
          32,
          33,
          34,
          35,
          36,
          37,
          38,
          39,
          40,
          41,
          42,
          43,
          44,
          45,
          46,
          47,
          48,
          49,
          50,
          51,
          52,
          53,
          54,
          55,
          56,
          57,
          58,
          59,
          60
         ],
         "xaxis": "x",
         "y": [
          6.952053626510133,
          2.3288757803352658,
          1.1621611723604874,
          0.6598109814633502,
          0.4003150458646065,
          0.2529494330005689,
          0.16426349593965647,
          0.10877662786953807,
          0.07309104262008696,
          0.049669425583557844,
          0.034058586591042654,
          0.023529126988063587,
          0.016360343819001998,
          0.011443261730025172,
          0.008050544621190061,
          0.005698420203505357,
          0.004061445886167372,
          0.0029186587069896007,
          0.002118895082157971,
          0.0015580981166271176,
          0.0011642708467839969,
          0.0008873882715052517,
          0.000692571087086275,
          0.0005554305930106368,
          0.0004588735128247291,
          0.00039089689730117694,
          0.0003430593497885445,
          0.00030941707681976256,
          0.00028578105905313237,
          0.0002691970339788386,
          0.00025758064706672695,
          0.0002494609983070076,
          0.00024380010682252648,
          0.00023986566268020888,
          0.00023714124899769075,
          0.00023526295185306268,
          0.0002339745762881826,
          0.00023309599465511479,
          0.00023250077128678895,
          0.00023210034375418674,
          0.00023183284048156283,
          0.00023165517786502928,
          0.00023153747750556225,
          0.0002314591248665912,
          0.00023140598906613976,
          0.0002313684638372422,
          0.0002313400889900818,
          0.0002313165820066454,
          0.0002312951591781235,
          0.00023127406095168262,
          0.00023125222112525218,
          0.00023122903721606427,
          0.00023120421185422895,
          0.00023117764392075978,
          0.00023114935442579274,
          0.00023111943656258657,
          0.00023108802251154052,
          0.0002310552617855442,
          0.00023102130747240107,
          0.00023098630783266114,
          0.00023095040148708856
         ],
         "yaxis": "y"
        }
       ],
       "layout": {
        "legend": {
         "tracegroupgap": 0
        },
        "margin": {
         "t": 60
        },
        "template": {
         "data": {
          "bar": [
           {
            "error_x": {
             "color": "#2a3f5f"
            },
            "error_y": {
             "color": "#2a3f5f"
            },
            "marker": {
             "line": {
              "color": "#E5ECF6",
              "width": 0.5
             },
             "pattern": {
              "fillmode": "overlay",
              "size": 10,
              "solidity": 0.2
             }
            },
            "type": "bar"
           }
          ],
          "barpolar": [
           {
            "marker": {
             "line": {
              "color": "#E5ECF6",
              "width": 0.5
             },
             "pattern": {
              "fillmode": "overlay",
              "size": 10,
              "solidity": 0.2
             }
            },
            "type": "barpolar"
           }
          ],
          "carpet": [
           {
            "aaxis": {
             "endlinecolor": "#2a3f5f",
             "gridcolor": "white",
             "linecolor": "white",
             "minorgridcolor": "white",
             "startlinecolor": "#2a3f5f"
            },
            "baxis": {
             "endlinecolor": "#2a3f5f",
             "gridcolor": "white",
             "linecolor": "white",
             "minorgridcolor": "white",
             "startlinecolor": "#2a3f5f"
            },
            "type": "carpet"
           }
          ],
          "choropleth": [
           {
            "colorbar": {
             "outlinewidth": 0,
             "ticks": ""
            },
            "type": "choropleth"
           }
          ],
          "contour": [
           {
            "colorbar": {
             "outlinewidth": 0,
             "ticks": ""
            },
            "colorscale": [
             [
              0,
              "#0d0887"
             ],
             [
              0.1111111111111111,
              "#46039f"
             ],
             [
              0.2222222222222222,
              "#7201a8"
             ],
             [
              0.3333333333333333,
              "#9c179e"
             ],
             [
              0.4444444444444444,
              "#bd3786"
             ],
             [
              0.5555555555555556,
              "#d8576b"
             ],
             [
              0.6666666666666666,
              "#ed7953"
             ],
             [
              0.7777777777777778,
              "#fb9f3a"
             ],
             [
              0.8888888888888888,
              "#fdca26"
             ],
             [
              1,
              "#f0f921"
             ]
            ],
            "type": "contour"
           }
          ],
          "contourcarpet": [
           {
            "colorbar": {
             "outlinewidth": 0,
             "ticks": ""
            },
            "type": "contourcarpet"
           }
          ],
          "heatmap": [
           {
            "colorbar": {
             "outlinewidth": 0,
             "ticks": ""
            },
            "colorscale": [
             [
              0,
              "#0d0887"
             ],
             [
              0.1111111111111111,
              "#46039f"
             ],
             [
              0.2222222222222222,
              "#7201a8"
             ],
             [
              0.3333333333333333,
              "#9c179e"
             ],
             [
              0.4444444444444444,
              "#bd3786"
             ],
             [
              0.5555555555555556,
              "#d8576b"
             ],
             [
              0.6666666666666666,
              "#ed7953"
             ],
             [
              0.7777777777777778,
              "#fb9f3a"
             ],
             [
              0.8888888888888888,
              "#fdca26"
             ],
             [
              1,
              "#f0f921"
             ]
            ],
            "type": "heatmap"
           }
          ],
          "heatmapgl": [
           {
            "colorbar": {
             "outlinewidth": 0,
             "ticks": ""
            },
            "colorscale": [
             [
              0,
              "#0d0887"
             ],
             [
              0.1111111111111111,
              "#46039f"
             ],
             [
              0.2222222222222222,
              "#7201a8"
             ],
             [
              0.3333333333333333,
              "#9c179e"
             ],
             [
              0.4444444444444444,
              "#bd3786"
             ],
             [
              0.5555555555555556,
              "#d8576b"
             ],
             [
              0.6666666666666666,
              "#ed7953"
             ],
             [
              0.7777777777777778,
              "#fb9f3a"
             ],
             [
              0.8888888888888888,
              "#fdca26"
             ],
             [
              1,
              "#f0f921"
             ]
            ],
            "type": "heatmapgl"
           }
          ],
          "histogram": [
           {
            "marker": {
             "pattern": {
              "fillmode": "overlay",
              "size": 10,
              "solidity": 0.2
             }
            },
            "type": "histogram"
           }
          ],
          "histogram2d": [
           {
            "colorbar": {
             "outlinewidth": 0,
             "ticks": ""
            },
            "colorscale": [
             [
              0,
              "#0d0887"
             ],
             [
              0.1111111111111111,
              "#46039f"
             ],
             [
              0.2222222222222222,
              "#7201a8"
             ],
             [
              0.3333333333333333,
              "#9c179e"
             ],
             [
              0.4444444444444444,
              "#bd3786"
             ],
             [
              0.5555555555555556,
              "#d8576b"
             ],
             [
              0.6666666666666666,
              "#ed7953"
             ],
             [
              0.7777777777777778,
              "#fb9f3a"
             ],
             [
              0.8888888888888888,
              "#fdca26"
             ],
             [
              1,
              "#f0f921"
             ]
            ],
            "type": "histogram2d"
           }
          ],
          "histogram2dcontour": [
           {
            "colorbar": {
             "outlinewidth": 0,
             "ticks": ""
            },
            "colorscale": [
             [
              0,
              "#0d0887"
             ],
             [
              0.1111111111111111,
              "#46039f"
             ],
             [
              0.2222222222222222,
              "#7201a8"
             ],
             [
              0.3333333333333333,
              "#9c179e"
             ],
             [
              0.4444444444444444,
              "#bd3786"
             ],
             [
              0.5555555555555556,
              "#d8576b"
             ],
             [
              0.6666666666666666,
              "#ed7953"
             ],
             [
              0.7777777777777778,
              "#fb9f3a"
             ],
             [
              0.8888888888888888,
              "#fdca26"
             ],
             [
              1,
              "#f0f921"
             ]
            ],
            "type": "histogram2dcontour"
           }
          ],
          "mesh3d": [
           {
            "colorbar": {
             "outlinewidth": 0,
             "ticks": ""
            },
            "type": "mesh3d"
           }
          ],
          "parcoords": [
           {
            "line": {
             "colorbar": {
              "outlinewidth": 0,
              "ticks": ""
             }
            },
            "type": "parcoords"
           }
          ],
          "pie": [
           {
            "automargin": true,
            "type": "pie"
           }
          ],
          "scatter": [
           {
            "fillpattern": {
             "fillmode": "overlay",
             "size": 10,
             "solidity": 0.2
            },
            "type": "scatter"
           }
          ],
          "scatter3d": [
           {
            "line": {
             "colorbar": {
              "outlinewidth": 0,
              "ticks": ""
             }
            },
            "marker": {
             "colorbar": {
              "outlinewidth": 0,
              "ticks": ""
             }
            },
            "type": "scatter3d"
           }
          ],
          "scattercarpet": [
           {
            "marker": {
             "colorbar": {
              "outlinewidth": 0,
              "ticks": ""
             }
            },
            "type": "scattercarpet"
           }
          ],
          "scattergeo": [
           {
            "marker": {
             "colorbar": {
              "outlinewidth": 0,
              "ticks": ""
             }
            },
            "type": "scattergeo"
           }
          ],
          "scattergl": [
           {
            "marker": {
             "colorbar": {
              "outlinewidth": 0,
              "ticks": ""
             }
            },
            "type": "scattergl"
           }
          ],
          "scattermapbox": [
           {
            "marker": {
             "colorbar": {
              "outlinewidth": 0,
              "ticks": ""
             }
            },
            "type": "scattermapbox"
           }
          ],
          "scatterpolar": [
           {
            "marker": {
             "colorbar": {
              "outlinewidth": 0,
              "ticks": ""
             }
            },
            "type": "scatterpolar"
           }
          ],
          "scatterpolargl": [
           {
            "marker": {
             "colorbar": {
              "outlinewidth": 0,
              "ticks": ""
             }
            },
            "type": "scatterpolargl"
           }
          ],
          "scatterternary": [
           {
            "marker": {
             "colorbar": {
              "outlinewidth": 0,
              "ticks": ""
             }
            },
            "type": "scatterternary"
           }
          ],
          "surface": [
           {
            "colorbar": {
             "outlinewidth": 0,
             "ticks": ""
            },
            "colorscale": [
             [
              0,
              "#0d0887"
             ],
             [
              0.1111111111111111,
              "#46039f"
             ],
             [
              0.2222222222222222,
              "#7201a8"
             ],
             [
              0.3333333333333333,
              "#9c179e"
             ],
             [
              0.4444444444444444,
              "#bd3786"
             ],
             [
              0.5555555555555556,
              "#d8576b"
             ],
             [
              0.6666666666666666,
              "#ed7953"
             ],
             [
              0.7777777777777778,
              "#fb9f3a"
             ],
             [
              0.8888888888888888,
              "#fdca26"
             ],
             [
              1,
              "#f0f921"
             ]
            ],
            "type": "surface"
           }
          ],
          "table": [
           {
            "cells": {
             "fill": {
              "color": "#EBF0F8"
             },
             "line": {
              "color": "white"
             }
            },
            "header": {
             "fill": {
              "color": "#C8D4E3"
             },
             "line": {
              "color": "white"
             }
            },
            "type": "table"
           }
          ]
         },
         "layout": {
          "annotationdefaults": {
           "arrowcolor": "#2a3f5f",
           "arrowhead": 0,
           "arrowwidth": 1
          },
          "autotypenumbers": "strict",
          "coloraxis": {
           "colorbar": {
            "outlinewidth": 0,
            "ticks": ""
           }
          },
          "colorscale": {
           "diverging": [
            [
             0,
             "#8e0152"
            ],
            [
             0.1,
             "#c51b7d"
            ],
            [
             0.2,
             "#de77ae"
            ],
            [
             0.3,
             "#f1b6da"
            ],
            [
             0.4,
             "#fde0ef"
            ],
            [
             0.5,
             "#f7f7f7"
            ],
            [
             0.6,
             "#e6f5d0"
            ],
            [
             0.7,
             "#b8e186"
            ],
            [
             0.8,
             "#7fbc41"
            ],
            [
             0.9,
             "#4d9221"
            ],
            [
             1,
             "#276419"
            ]
           ],
           "sequential": [
            [
             0,
             "#0d0887"
            ],
            [
             0.1111111111111111,
             "#46039f"
            ],
            [
             0.2222222222222222,
             "#7201a8"
            ],
            [
             0.3333333333333333,
             "#9c179e"
            ],
            [
             0.4444444444444444,
             "#bd3786"
            ],
            [
             0.5555555555555556,
             "#d8576b"
            ],
            [
             0.6666666666666666,
             "#ed7953"
            ],
            [
             0.7777777777777778,
             "#fb9f3a"
            ],
            [
             0.8888888888888888,
             "#fdca26"
            ],
            [
             1,
             "#f0f921"
            ]
           ],
           "sequentialminus": [
            [
             0,
             "#0d0887"
            ],
            [
             0.1111111111111111,
             "#46039f"
            ],
            [
             0.2222222222222222,
             "#7201a8"
            ],
            [
             0.3333333333333333,
             "#9c179e"
            ],
            [
             0.4444444444444444,
             "#bd3786"
            ],
            [
             0.5555555555555556,
             "#d8576b"
            ],
            [
             0.6666666666666666,
             "#ed7953"
            ],
            [
             0.7777777777777778,
             "#fb9f3a"
            ],
            [
             0.8888888888888888,
             "#fdca26"
            ],
            [
             1,
             "#f0f921"
            ]
           ]
          },
          "colorway": [
           "#636efa",
           "#EF553B",
           "#00cc96",
           "#ab63fa",
           "#FFA15A",
           "#19d3f3",
           "#FF6692",
           "#B6E880",
           "#FF97FF",
           "#FECB52"
          ],
          "font": {
           "color": "#2a3f5f"
          },
          "geo": {
           "bgcolor": "white",
           "lakecolor": "white",
           "landcolor": "#E5ECF6",
           "showlakes": true,
           "showland": true,
           "subunitcolor": "white"
          },
          "hoverlabel": {
           "align": "left"
          },
          "hovermode": "closest",
          "mapbox": {
           "style": "light"
          },
          "paper_bgcolor": "white",
          "plot_bgcolor": "#E5ECF6",
          "polar": {
           "angularaxis": {
            "gridcolor": "white",
            "linecolor": "white",
            "ticks": ""
           },
           "bgcolor": "#E5ECF6",
           "radialaxis": {
            "gridcolor": "white",
            "linecolor": "white",
            "ticks": ""
           }
          },
          "scene": {
           "xaxis": {
            "backgroundcolor": "#E5ECF6",
            "gridcolor": "white",
            "gridwidth": 2,
            "linecolor": "white",
            "showbackground": true,
            "ticks": "",
            "zerolinecolor": "white"
           },
           "yaxis": {
            "backgroundcolor": "#E5ECF6",
            "gridcolor": "white",
            "gridwidth": 2,
            "linecolor": "white",
            "showbackground": true,
            "ticks": "",
            "zerolinecolor": "white"
           },
           "zaxis": {
            "backgroundcolor": "#E5ECF6",
            "gridcolor": "white",
            "gridwidth": 2,
            "linecolor": "white",
            "showbackground": true,
            "ticks": "",
            "zerolinecolor": "white"
           }
          },
          "shapedefaults": {
           "line": {
            "color": "#2a3f5f"
           }
          },
          "ternary": {
           "aaxis": {
            "gridcolor": "white",
            "linecolor": "white",
            "ticks": ""
           },
           "baxis": {
            "gridcolor": "white",
            "linecolor": "white",
            "ticks": ""
           },
           "bgcolor": "#E5ECF6",
           "caxis": {
            "gridcolor": "white",
            "linecolor": "white",
            "ticks": ""
           }
          },
          "title": {
           "x": 0.05
          },
          "xaxis": {
           "automargin": true,
           "gridcolor": "white",
           "linecolor": "white",
           "ticks": "",
           "title": {
            "standoff": 15
           },
           "zerolinecolor": "white",
           "zerolinewidth": 2
          },
          "yaxis": {
           "automargin": true,
           "gridcolor": "white",
           "linecolor": "white",
           "ticks": "",
           "title": {
            "standoff": 15
           },
           "zerolinecolor": "white",
           "zerolinewidth": 2
          }
         }
        },
        "xaxis": {
         "anchor": "y",
         "domain": [
          0,
          1
         ],
         "title": {
          "text": "x"
         }
        },
        "yaxis": {
         "anchor": "x",
         "domain": [
          0,
          1
         ],
         "title": {
          "text": "loss"
         }
        }
       }
      }
     },
     "metadata": {},
     "output_type": "display_data"
    }
   ],
   "source": [
    "\n",
    "#print(y_train.shape)\n",
    "\n",
    "def predict(w, xs):\n",
    "    return xs @ w\n",
    "\n",
    "def evaluate(w, xs, ys):\n",
    "    return msle(ys, predict(w, xs))\n",
    "\n",
    "def linear_regression(n_epochs, lr, w, x, y):\n",
    "    losses = [evaluate(w, x, y)]\n",
    "\n",
    "    for i in range(n_epochs):\n",
    "        y_hat = predict(w, x)\n",
    "        dJdwi = np.sum((y_hat - y) * x, axis = 0)\n",
    "\n",
    "        w = w - (2/n) * (lr * dJdwi).reshape(-1,1)\n",
    "\n",
    "        loss = evaluate(w, x, y)\n",
    "        losses.append(loss)\n",
    "\n",
    "        if i == 0 or (i+1) % 20 == 0:\n",
    "            print(f'Iter: {i:>3} Loss: {loss:8.8f} w: {[f\"{x[0]:.2f}\" for x in w]}')\n",
    "\n",
    "    return (w, losses)\n",
    "\n",
    "(w_msle, losses) = linear_regression(n_epochs, lr, w, np.log(1 + x_train), np.log(1 + y_train))\n",
    "\n",
    "plot_loss(losses)"
   ]
  },
  {
   "cell_type": "code",
   "execution_count": 132,
   "metadata": {
    "colab": {
     "base_uri": "https://localhost:8080/"
    },
    "id": "Ca0nRHYL-ZBR",
    "outputId": "4703e4f5-333a-4a7c-8222-17f087c8c038"
   },
   "outputs": [],
   "source": [
    "#######################################################\n",
    "# TODO: Implement the basic validation method,        #\n",
    "# compare MSLE on training, validation, and test sets #\n",
    "#######################################################\n"
   ]
  },
  {
   "cell_type": "markdown",
   "metadata": {
    "id": "tnnf-KvC-ZBW"
   },
   "source": [
    "To make the random split validation reliable, a huge chunk of training data may be needed. To get over this problem, one may apply cross-validaiton.\n",
    "\n",
    "![alt-text](https://chrisjmccormick.files.wordpress.com/2013/07/10_fold_cv.png)"
   ]
  },
  {
   "cell_type": "markdown",
   "metadata": {
    "id": "sbu4F_h9-ZBX"
   },
   "source": [
    "Let's now implement the method. Make sure that:\n",
    "* number of partitions is a parameter,\n",
    "* the method is not limited to `mieszkania.csv`,\n",
    "* the method is not limited to one specific model."
   ]
  },
  {
   "cell_type": "code",
   "execution_count": 133,
   "metadata": {
    "id": "dbfmYPOh-ZBY"
   },
   "outputs": [],
   "source": [
    "####################################\n",
    "# TODO: Implement cross-validation #\n",
    "####################################"
   ]
  },
  {
   "cell_type": "markdown",
   "metadata": {
    "id": "sF2-UXXR-ZBc"
   },
   "source": [
    "Recall that sometimes validation may be tricky, e.g. significant class imbalance, having a small number of subjects, geographically clustered instances...\n",
    "\n",
    "What could in theory go wrong here with random, unstratified partitions? Think about potential solutions and investigate the data in order to check whether these problems arise here."
   ]
  },
  {
   "cell_type": "code",
   "execution_count": 134,
   "metadata": {
    "id": "bt-y3kUy-ZBe"
   },
   "outputs": [],
   "source": [
    "##############################\n",
    "# TODO: Investigate the data #\n",
    "##############################"
   ]
  }
 ],
 "metadata": {
  "colab": {
   "provenance": [
    {
     "file_id": "https://github.com/mim-ml-teaching/public-dnn-2024-25/blob/master/docs/DNN-Lab-1-cross-validation-student-version.ipynb",
     "timestamp": 1728987788735
    }
   ]
  },
  "kernelspec": {
   "display_name": "venv",
   "language": "python",
   "name": "python3"
  },
  "language_info": {
   "codemirror_mode": {
    "name": "ipython",
    "version": 3
   },
   "file_extension": ".py",
   "mimetype": "text/x-python",
   "name": "python",
   "nbconvert_exporter": "python",
   "pygments_lexer": "ipython3",
   "version": "3.12.7"
  }
 },
 "nbformat": 4,
 "nbformat_minor": 0
}
