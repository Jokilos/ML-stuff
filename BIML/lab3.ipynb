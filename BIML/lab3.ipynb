{
 "cells": [
  {
   "cell_type": "markdown",
   "metadata": {
    "id": "s47n23ty7ss5"
   },
   "source": [
    "# Simple linear regression\n",
    "\n",
    "In this exercise you will train a linear regression model via gradient descent in the simplest scenario, i.e. recreating an affine function.\n",
    "\n",
    "The setup is as follows:\n",
    "* we are given a set of pairs $(x, y)$, where $x$ represents the feature, and $y$ is the target,\n",
    "* our hypothesis is $h(x) = ax + b$,\n",
    "* we will use the dataset consisting of set of pairs to figure out the right values for $a$ and $b$,\n",
    "* to do so we will optimize the loss function: $J(a,b) = \\frac{1}{n}\\sum_{i=1}^n (y_i - h(x_i))^2$,\n",
    "* with the loss function in hand we can improve our guesses iteratively:\n",
    "    * $a^{t+1} = a^t - \\text{step\\_size} \\cdot \\frac{\\partial J(a,b)}{\\partial a}$,\n",
    "    * $b^{t+1} = b^t - \\text{step\\_size} \\cdot \\frac{\\partial J(a,b)}{\\partial b}$,\n",
    "* we can end the process after some predefined number of epochs (or when the changes are no longer meaningful).\n",
    "\n",
    "Let's start with creating the dataset."
   ]
  },
  {
   "cell_type": "markdown",
   "metadata": {
    "id": "-mdJwTVg6ts-"
   },
   "source": []
  },
  {
   "cell_type": "markdown",
   "metadata": {
    "id": "Jp_6bKf66vWh"
   },
   "source": [
    "(y - ax - b)^2\n",
    "(y - ax - b) * (y - ax - b)\n",
    "\n",
    "y^2 - yax - by - yax + a^2x^2 + abx - by + abx + b^2\n",
    "y^2 + a^2x^2 + b^2 - 2yax + 2abx - 2 by\n",
    "\n",
    "da = 2ax^2 - 2xy + 2bx\n",
    "db = 2b + 2ax - 2y\n"
   ]
  },
  {
   "cell_type": "code",
   "execution_count": 1,
   "metadata": {
    "executionInfo": {
     "elapsed": 791,
     "status": "ok",
     "timestamp": 1728570745289,
     "user": {
      "displayName": "Jakub Nowacki",
      "userId": "04628940980631792389"
     },
     "user_tz": -120
    },
    "id": "hOm-6OMd7ss7"
   },
   "outputs": [],
   "source": [
    "import random\n",
    "\n",
    "_a = 0.3\n",
    "_b = 0.5\n",
    "\n",
    "f = lambda x: _a * x + _b # ground truth\n",
    "g = lambda x: f(x) + random.gauss(0, 0.02) # a noisy version of f"
   ]
  },
  {
   "cell_type": "code",
   "execution_count": 2,
   "metadata": {
    "executionInfo": {
     "elapsed": 7,
     "status": "ok",
     "timestamp": 1728570747303,
     "user": {
      "displayName": "Jakub Nowacki",
      "userId": "04628940980631792389"
     },
     "user_tz": -120
    },
    "id": "2EQLIz_Y7stB"
   },
   "outputs": [],
   "source": [
    "n = 50 # number of examples\n",
    "\n",
    "xs = [random.random() for _ in range(n)] # features\n",
    "ys = list(map(g, xs)) # targets\n",
    "\n",
    "ts = list(map(f, xs)) # we don't get to see this"
   ]
  },
  {
   "cell_type": "markdown",
   "metadata": {
    "id": "oyIWYrek7stF"
   },
   "source": [
    "Our goal is to recreate $f$. However, as reality can be harsh (and usually is) we only get to observe $g$. We observe it as a list of pairs $(x,y) \\in \\text{zip}(xs, ys)$.\n",
    "\n",
    "Let's plot the data. We will use the `plotly` library to make the plots interactive, which allows for easier inspection of data."
   ]
  },
  {
   "cell_type": "code",
   "execution_count": 3,
   "metadata": {
    "colab": {
     "base_uri": "https://localhost:8080/"
    },
    "executionInfo": {
     "elapsed": 26302,
     "status": "ok",
     "timestamp": 1728570842443,
     "user": {
      "displayName": "Jakub Nowacki",
      "userId": "04628940980631792389"
     },
     "user_tz": -120
    },
    "id": "zsP2nL2NPQYX",
    "outputId": "dfe8a09c-985d-4478-ee9e-380ed5b03010"
   },
   "outputs": [],
   "source": [
    "!pip install -q plotly==4.2.1"
   ]
  },
  {
   "cell_type": "code",
   "execution_count": 4,
   "metadata": {
    "colab": {
     "base_uri": "https://localhost:8080/",
     "height": 617
    },
    "executionInfo": {
     "elapsed": 2120,
     "status": "ok",
     "timestamp": 1728570844557,
     "user": {
      "displayName": "Jakub Nowacki",
      "userId": "04628940980631792389"
     },
     "user_tz": -120
    },
    "id": "UBp8TaLJ7stH",
    "outputId": "9568fdc6-ef09-447f-b6f2-0155d4f733c6"
   },
   "outputs": [],
   "source": [
    "import plotly.graph_objects as go\n",
    "import plotly.express as px\n",
    "\n",
    "fig = px.scatter(x=xs, y=ys)\n",
    "fig.show()"
   ]
  },
  {
   "cell_type": "code",
   "execution_count": 12,
   "metadata": {
    "executionInfo": {
     "elapsed": 270,
     "status": "ok",
     "timestamp": 1728571115429,
     "user": {
      "displayName": "Jakub Nowacki",
      "userId": "04628940980631792389"
     },
     "user_tz": -120
    },
    "id": "nRqybzzs7stM"
   },
   "outputs": [],
   "source": [
    "import numpy as np\n",
    "\n",
    "def mse_loss(ys, ps):\n",
    "    assert len(ys) == len(ps)\n",
    "\n",
    "    ### YOUR CODE BEGINS HERE ###\n",
    "\n",
    "    ys_ = np.array(ys)\n",
    "    ps_ = np.array(ps)\n",
    "\n",
    "    loss = (ys_ - ps_)**2\n",
    "    loss = np.sum(loss) / len(ps)\n",
    "\n",
    "    #print(loss, len(ps))\n",
    "\n",
    "    return loss\n",
    "\n",
    "    ### YOUR CODE ENDS HERE ###\n",
    "\n",
    "\n",
    "#mse_loss([1,2,3], [2,3,4])"
   ]
  },
  {
   "cell_type": "markdown",
   "metadata": {
    "id": "ofYLNJM87stQ"
   },
   "source": [
    "Please take a while to (roughly) guess the output before executing the cell below."
   ]
  },
  {
   "cell_type": "code",
   "execution_count": 13,
   "metadata": {
    "colab": {
     "base_uri": "https://localhost:8080/"
    },
    "executionInfo": {
     "elapsed": 281,
     "status": "ok",
     "timestamp": 1728571133083,
     "user": {
      "displayName": "Jakub Nowacki",
      "userId": "04628940980631792389"
     },
     "user_tz": -120
    },
    "id": "CMavAdN77stR",
    "outputId": "9b0d18d4-ca4c-4de3-bfaa-482429425d58"
   },
   "outputs": [],
   "source": [
    "mse_loss(ys, ts)"
   ]
  },
  {
   "cell_type": "markdown",
   "metadata": {
    "id": "RTRbX1tm7stV"
   },
   "source": [
    "Let's now implement the algorithm\n",
    "\n",
    "Hint: To make sure that you correctly compute the gradients, you can compute them numerically and compare the results."
   ]
  },
  {
   "cell_type": "code",
   "execution_count": 20,
   "metadata": {
    "colab": {
     "base_uri": "https://localhost:8080/"
    },
    "executionInfo": {
     "elapsed": 283,
     "status": "ok",
     "timestamp": 1728572387280,
     "user": {
      "displayName": "Jakub Nowacki",
      "userId": "04628940980631792389"
     },
     "user_tz": -120
    },
    "id": "ChxX0fEL7stW",
    "outputId": "d6b1ffb9-6076-4747-bae0-3444b28872a9"
   },
   "outputs": [],
   "source": [
    "a = 0. # our initial guess for _a\n",
    "b = 0. # our initial guess for _b\n",
    "lr = 0.5 # step size\n",
    "\n",
    "n_epochs = 40 # number of passes over the training data\n",
    "\n",
    "def predict(a, b, xs=xs):\n",
    "    return [a * x + b for x in xs]\n",
    "\n",
    "def evaluate(a, b, xs=xs, ys=ys):\n",
    "    return mse_loss(ys, predict(a, b, xs))\n",
    "\n",
    "losses = [evaluate(a, b)]\n",
    "\n",
    "### CAN I CODE HERE?\n",
    "xs_ = np.array(xs)\n",
    "ys_ = np.array(ys)\n",
    "###\n",
    "\n",
    "for i in range(n_epochs):\n",
    "    #############################\n",
    "    # TODO: Fill in the details #\n",
    "    #############################\n",
    "    ### YOUR CODE BEGINS HERE ###\n",
    "\n",
    "    #da = 2ax^2 - 2xy + 2bx\n",
    "\n",
    "    da = np.sum(2 * a * xs_ * xs_ - 2 * xs_ * ys_ + 2 * b * xs_)\n",
    "    a = a - (1 / len(xs)) * lr * da\n",
    "\n",
    "    #db = 2b + 2ax - 2y\n",
    "\n",
    "    db = np.sum(2 * b + 2 * a * xs_ - 2 * ys_)\n",
    "    b = b - (1 / len(xs)) * lr * db\n",
    "\n",
    "    ### YOUR CODE ENDS HERE ###\n",
    "\n",
    "    loss = evaluate(a, b)\n",
    "    losses.append(loss)\n",
    "\n",
    "    print(f'Iter: {i:>3} Loss: {loss:8.8f} a: {a:8.5f}, b: {b:8.5f}')"
   ]
  },
  {
   "cell_type": "code",
   "execution_count": 21,
   "metadata": {
    "colab": {
     "base_uri": "https://localhost:8080/",
     "height": 617
    },
    "executionInfo": {
     "elapsed": 592,
     "status": "ok",
     "timestamp": 1728572388964,
     "user": {
      "displayName": "Jakub Nowacki",
      "userId": "04628940980631792389"
     },
     "user_tz": -120
    },
    "id": "pdR0279A7stZ",
    "outputId": "8ff8a278-d431-4e05-8f77-98b7fbe428e3"
   },
   "outputs": [],
   "source": [
    "fig = px.line(y=losses, labels={'y':'loss'})\n",
    "fig.show()"
   ]
  },
  {
   "cell_type": "markdown",
   "metadata": {
    "id": "J7c_9F8u7stc"
   },
   "source": [
    "Let's now visually asses how we do on training data"
   ]
  },
  {
   "cell_type": "code",
   "execution_count": 22,
   "metadata": {
    "colab": {
     "base_uri": "https://localhost:8080/",
     "height": 617
    },
    "executionInfo": {
     "elapsed": 946,
     "status": "ok",
     "timestamp": 1728572395448,
     "user": {
      "displayName": "Jakub Nowacki",
      "userId": "04628940980631792389"
     },
     "user_tz": -120
    },
    "id": "GH34w_867std",
    "outputId": "482b214f-0b9c-413c-e6ab-5a3756aa2e2f"
   },
   "outputs": [],
   "source": [
    "fig = go.Figure()\n",
    "\n",
    "fig = px.scatter(x=xs, y=ys)\n",
    "dense_x = np.linspace(np.min(xs), np.max(xs), 100)\n",
    "fig.add_trace(go.Scatter(x=dense_x, y=predict(a, b, dense_x), name='linear fit', mode='lines'))\n",
    "fig.add_trace(go.Scatter(x=xs, y=ts, name='y without noise', mode='markers'))\n",
    "\n",
    "fig.show()"
   ]
  },
  {
   "cell_type": "markdown",
   "metadata": {
    "id": "dlW25Mnq7sth"
   },
   "source": [
    "Let's check our implementation vs. the one in sklearn and numpy.\n"
   ]
  },
  {
   "cell_type": "code",
   "execution_count": 24,
   "metadata": {
    "colab": {
     "base_uri": "https://localhost:8080/"
    },
    "executionInfo": {
     "elapsed": 299,
     "status": "ok",
     "timestamp": 1728572420297,
     "user": {
      "displayName": "Jakub Nowacki",
      "userId": "04628940980631792389"
     },
     "user_tz": -120
    },
    "id": "0r6GSafQ7sti",
    "outputId": "c5eb91cc-39d1-4935-ef3b-7c00efdb918a"
   },
   "outputs": [],
   "source": [
    "from sklearn.linear_model import LinearRegression\n",
    "import numpy as np\n",
    "\n",
    "X = np.array(xs).reshape((len(xs), 1))\n",
    "regr = LinearRegression()\n",
    "regr.fit(X, ys) # training\n",
    "\n",
    "sk_a = float(regr.coef_)\n",
    "sk_b = regr.intercept_\n",
    "sk_loss = mse_loss(ys, regr.predict(X))\n",
    "\n",
    "print(f'Loss: {sk_loss:8.8f} a: {sk_a:8.5f}, b: {sk_b:8.5f}')"
   ]
  },
  {
   "cell_type": "code",
   "execution_count": 25,
   "metadata": {
    "colab": {
     "base_uri": "https://localhost:8080/"
    },
    "executionInfo": {
     "elapsed": 5,
     "status": "ok",
     "timestamp": 1728572420639,
     "user": {
      "displayName": "Jakub Nowacki",
      "userId": "04628940980631792389"
     },
     "user_tz": -120
    },
    "id": "LYTJMBV2eybu",
    "outputId": "170f6633-6297-4c31-d296-b4c355100f96"
   },
   "outputs": [],
   "source": [
    "z = np.polyfit(x=xs, y=ys, deg=1)\n",
    "print(z)\n",
    "f = np.poly1d(z)\n",
    "print(f)"
   ]
  }
 ],
 "metadata": {
  "colab": {
   "provenance": [
    {
     "file_id": "1wZRgc275WhEx_yifkc16xqcojXMLSvis",
     "timestamp": 1728570323413
    },
    {
     "file_id": "1feNjtMlZes7Dmowl1fGlbT-xo17dyHoG",
     "timestamp": 1633471861909
    }
   ]
  },
  "kernelspec": {
   "display_name": "Python 3",
   "name": "python3"
  }
 },
 "nbformat": 4,
 "nbformat_minor": 0
}
