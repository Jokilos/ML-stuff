{
 "cells": [
  {
   "cell_type": "code",
   "execution_count": 2,
   "metadata": {},
   "outputs": [
    {
     "data": {
      "text/plain": [
       "array([3, 4, 5])"
      ]
     },
     "execution_count": 2,
     "metadata": {},
     "output_type": "execute_result"
    }
   ],
   "source": [
    "import numpy as np\n",
    "\n",
    "def low_high_list(arr, treshold):\n",
    "    np_arr = np.array(arr)\n",
    "    check = np_arr > treshold\n",
    "\n",
    "    check = np.array([1, 1, 2, 2, 2, 3, 3, 4, 4, 4, 4, 5, 1, 1, 2])\n",
    "    args = list(zip(check[:-1], check[1:]))\n",
    "    res = [prev for prev, next in args if prev != next]\n",
    "\n",
    "    if res[-1] == check[-1]:\n",
    "        return res\n",
    "    else:\n",
    "        return res + [check[-1]]\n",
    "\n",
    "low_high_list([0,0,3,3,3,1,1,3,3], 2)\n",
    "\n",
    "np.arange(6)[-3:]"
   ]
  },
  {
   "cell_type": "code",
   "execution_count": 3,
   "metadata": {},
   "outputs": [
    {
     "data": {
      "text/plain": [
       "[np.True_]"
      ]
     },
     "execution_count": 3,
     "metadata": {},
     "output_type": "execute_result"
    }
   ],
   "source": [
    "def low_high_list(arr, threshold = 0):\n",
    "    arr = np.array(arr)\n",
    "    check = arr > threshold\n",
    "    args = list(zip(check[:-1], check[1:]))\n",
    "    res = [prev for prev, next in args if prev != next]\n",
    "\n",
    "    if len(res) == 0:\n",
    "        return [arr[0] > threshold]\n",
    "    elif res[-1] == check[-1]:\n",
    "        return res\n",
    "    else:\n",
    "        return res + [check[-1]]\n",
    "    \n",
    "low_high_list([1,2])"
   ]
  },
  {
   "cell_type": "code",
   "execution_count": 4,
   "metadata": {},
   "outputs": [],
   "source": [
    "import cv2\n",
    "import numpy as np\n",
    "\n",
    "GREEN = (0, 255, 0)\n",
    "RED = (255, 0, 0)\n",
    "\n",
    "def draw_blurred_quadrilateral(img, p_list, color, girth):\n",
    "  shifted = np.concat([p_list[-1:],p_list[:-1]]).astype(int)\n",
    "  zip_list = list(zip(p_list, shifted))\n",
    "\n",
    "  for (p1, p2) in zip_list:\n",
    "    cv2.line(img, p1, p2, color, girth)\n",
    "  \n",
    "def draw_quadrilateral(img, p_list, color, girth):\n",
    "  shifted = np.concat([p_list[-1:],p_list[:-1]]).astype(int)\n",
    "  zip_list = list(zip(p_list, shifted))\n",
    "\n",
    "  for (p1, p2) in zip_list:\n",
    "    cv2.line(img, p1, p2, color, girth)\n",
    "\n",
    "def draw_square(img, p1, p3, color, girth):\n",
    "  p_matrix = np.vstack([p1, p3])\n",
    "  new = (p_matrix * np.eye(2), p_matrix * np.array([0,1,1,0]).reshape(2,2))\n",
    "\n",
    "  p2, p4 = list(map(lambda x: x[np.nonzero(x)], new))\n",
    "  p4 = p4[::-1]\n",
    "\n",
    "  p_list = np.array([p1, p2, p3, p4]).astype(int)\n",
    "  draw_quadrilateral(img, p_list, color, girth)\n",
    "\n",
    "def drawMarkers(img, corners, ids):\n",
    "  if ids is None:\n",
    "    return\n",
    "\n",
    "  square_size = 7\n",
    "  for i in range(ids.shape[0]):\n",
    "    c = corners[i][0]\n",
    "    id = ids[i][0]\n",
    "    draw_quadrilateral(img, c.astype(int), GREEN, 3)\n",
    "    draw_square(img, c[0] - (square_size // 2), c[0] + (square_size // 2), RED, 1)\n",
    "    cv2.putText(img, f\"{id}\", c[0].astype(int), cv2.FONT_HERSHEY_SIMPLEX, 1, RED, 2)"
   ]
  },
  {
   "cell_type": "code",
   "execution_count": 5,
   "metadata": {},
   "outputs": [
    {
     "name": "stdout",
     "output_type": "stream",
     "text": [
      "[[[ 25.  25.]]\n",
      "\n",
      " [[224.  25.]]\n",
      "\n",
      " [[224. 224.]]\n",
      "\n",
      " [[ 25. 224.]]]\n"
     ]
    }
   ],
   "source": [
    "from PIL import Image\n",
    "import time\n",
    "\n",
    "def PIL_show(img, colorspace = 'RGB'):\n",
    "    if (colorspace != 'RGB'):\n",
    "        color_trans = getattr(cv2, f'COLOR_{colorspace}2RGB')\n",
    "        img = cv2.cvtColor(img, color_trans)\n",
    "    pil_image = Image.fromarray(img)\n",
    "    pil_image.show()\n",
    "\n",
    "def detect_subpix(gray, corners, ids):\n",
    "    if ids is not None:\n",
    "        window_size = (5, 5)\n",
    "        zero_zone = (-1, -1)\n",
    "        criteria = (cv2.TERM_CRITERIA_EPS + cv2.TERM_CRITERIA_MAX_ITER, 30, 0.001)\n",
    "\n",
    "        refined_corners = []\n",
    "        for corner in corners:\n",
    "            corner = np.array(corner, dtype = np.float32) \n",
    "            refined = cv2.cornerSubPix(gray, corner, window_size, zero_zone, criteria)\n",
    "            refined_corners.append(refined)\n",
    "\n",
    "    return refined_corners\n",
    "\n",
    "def visualize_corners(img, corners, ids = None, verbosity = 0):\n",
    "    img0 = img.copy()\n",
    "\n",
    "    if verbosity > 0:\n",
    "        drawMarkers(img0, corners, ids)\n",
    "    else:\n",
    "        cv2.aruco.drawDetectedMarkers(img0, corners)\n",
    "\n",
    "    if verbosity > 1:\n",
    "        for x, y in np.array(corners).reshape(8, 2).astype(int):\n",
    "            cv2.circle(img0, (x, y), 3, RED, cv2.FILLED)\n",
    "            PIL_show(img0)\n",
    "            time.sleep(1)\n",
    "    else:\n",
    "        PIL_show(img0)\n",
    "        time.sleep(3)\n",
    "\n",
    "def detect_corners(img):\n",
    "    gray = cv2.cvtColor(img, cv2.COLOR_BGR2GRAY)\n",
    "\n",
    "    dictionary = cv2.aruco.getPredefinedDictionary(cv2.aruco.DICT_6X6_250)\n",
    "    parameters = cv2.aruco.DetectorParameters()\n",
    "    detector = cv2.aruco.ArucoDetector(dictionary, parameters)\n",
    "\n",
    "    corners, ids, _ = detector.detectMarkers(gray)\n",
    "    ret = ids is not None and len(ids) == 1\n",
    "\n",
    "    if ret:\n",
    "        visualize_corners(img, corners)\n",
    "\n",
    "    corners = np.array(corners).reshape(-1, 1, 2)\n",
    "    return ret, corners\n",
    "\n",
    "\n",
    "ret, corners = detect_corners(cv2.imread('assets/textures/marker_0.png'))\n",
    "print(corners)"
   ]
  },
  {
   "cell_type": "code",
   "execution_count": 15,
   "metadata": {},
   "outputs": [
    {
     "name": "stdout",
     "output_type": "stream",
     "text": [
      "[[3]\n",
      " [1]\n",
      " [0]]\n"
     ]
    },
    {
     "ename": "NameError",
     "evalue": "name 'angle' is not defined",
     "output_type": "error",
     "traceback": [
      "\u001b[0;31m---------------------------------------------------------------------------\u001b[0m",
      "\u001b[0;31mNameError\u001b[0m                                 Traceback (most recent call last)",
      "Cell \u001b[0;32mIn[15], line 4\u001b[0m\n\u001b[1;32m      2\u001b[0m vec \u001b[38;5;241m=\u001b[39m np\u001b[38;5;241m.\u001b[39mvstack([tvecs[[\u001b[38;5;241m2\u001b[39m, \u001b[38;5;241m0\u001b[39m]], [[\u001b[38;5;241m0\u001b[39m]]])\n\u001b[1;32m      3\u001b[0m \u001b[38;5;28mprint\u001b[39m(vec)\n\u001b[0;32m----> 4\u001b[0m theta \u001b[38;5;241m=\u001b[39m np\u001b[38;5;241m.\u001b[39mpi \u001b[38;5;241m-\u001b[39m \u001b[43mangle\u001b[49m\n\u001b[1;32m      5\u001b[0m \u001b[38;5;28mprint\u001b[39m(vec)\n\u001b[1;32m      6\u001b[0m \u001b[38;5;28mprint\u001b[39m(rot_M(\u001b[38;5;241m2\u001b[39m, theta) \u001b[38;5;241m@\u001b[39m vec) \n",
      "\u001b[0;31mNameError\u001b[0m: name 'angle' is not defined"
     ]
    }
   ],
   "source": [
    "tvecs = np.array([1, 2, 3]).reshape(3,1)\n",
    "vec = np.vstack([tvecs[[2, 0]], [[0]]])\n",
    "print(vec)\n",
    "theta = np.pi - angle\n",
    "print(vec)\n",
    "print(rot_M(2, theta) @ vec) \n",
    "print('')"
   ]
  }
 ],
 "metadata": {
  "kernelspec": {
   "display_name": "venv",
   "language": "python",
   "name": "python3"
  },
  "language_info": {
   "codemirror_mode": {
    "name": "ipython",
    "version": 3
   },
   "file_extension": ".py",
   "mimetype": "text/x-python",
   "name": "python",
   "nbconvert_exporter": "python",
   "pygments_lexer": "ipython3",
   "version": "3.13.1"
  }
 },
 "nbformat": 4,
 "nbformat_minor": 2
}
