{
 "cells": [
  {
   "cell_type": "code",
   "execution_count": 4,
   "metadata": {},
   "outputs": [
    {
     "data": {
      "text/plain": [
       "array([3, 4, 5])"
      ]
     },
     "execution_count": 4,
     "metadata": {},
     "output_type": "execute_result"
    }
   ],
   "source": [
    "import numpy as np\n",
    "\n",
    "def low_high_list(arr, treshold):\n",
    "    np_arr = np.array(arr)\n",
    "    check = np_arr > treshold\n",
    "\n",
    "    check = np.array([1, 1, 2, 2, 2, 3, 3, 4, 4, 4, 4, 5, 1, 1, 2])\n",
    "    args = list(zip(check[:-1], check[1:]))\n",
    "    res = [prev for prev, next in args if prev != next]\n",
    "\n",
    "    if res[-1] == check[-1]:\n",
    "        return res\n",
    "    else:\n",
    "        return res + [check[-1]]\n",
    "\n",
    "low_high_list([0,0,3,3,3,1,1,3,3], 2)\n",
    "\n",
    "np.arange(6)[-3:]"
   ]
  },
  {
   "cell_type": "code",
   "execution_count": 5,
   "metadata": {},
   "outputs": [
    {
     "ename": "IndexError",
     "evalue": "list index out of range",
     "output_type": "error",
     "traceback": [
      "\u001b[0;31m---------------------------------------------------------------------------\u001b[0m",
      "\u001b[0;31mIndexError\u001b[0m                                Traceback (most recent call last)",
      "Cell \u001b[0;32mIn[5], line 15\u001b[0m\n\u001b[1;32m     12\u001b[0m     \u001b[38;5;28;01melse\u001b[39;00m:\n\u001b[1;32m     13\u001b[0m         \u001b[38;5;28;01mreturn\u001b[39;00m res \u001b[38;5;241m+\u001b[39m [check[\u001b[38;5;241m-\u001b[39m\u001b[38;5;241m1\u001b[39m]]\n\u001b[0;32m---> 15\u001b[0m \u001b[43mlow_high_list\u001b[49m\u001b[43m(\u001b[49m\u001b[43m[\u001b[49m\u001b[38;5;241;43m1\u001b[39;49m\u001b[43m,\u001b[49m\u001b[38;5;241;43m2\u001b[39;49m\u001b[43m]\u001b[49m\u001b[43m)\u001b[49m\n",
      "Cell \u001b[0;32mIn[5], line 10\u001b[0m, in \u001b[0;36mlow_high_list\u001b[0;34m(arr, threshold)\u001b[0m\n\u001b[1;32m      7\u001b[0m args \u001b[38;5;241m=\u001b[39m \u001b[38;5;28mlist\u001b[39m(\u001b[38;5;28mzip\u001b[39m(check[:\u001b[38;5;241m-\u001b[39m\u001b[38;5;241m1\u001b[39m], check[\u001b[38;5;241m1\u001b[39m:]))\n\u001b[1;32m      8\u001b[0m res \u001b[38;5;241m=\u001b[39m [prev \u001b[38;5;28;01mfor\u001b[39;00m prev, \u001b[38;5;28mnext\u001b[39m \u001b[38;5;129;01min\u001b[39;00m args \u001b[38;5;28;01mif\u001b[39;00m prev \u001b[38;5;241m!=\u001b[39m \u001b[38;5;28mnext\u001b[39m]\n\u001b[0;32m---> 10\u001b[0m \u001b[38;5;28;01mif\u001b[39;00m \u001b[43mres\u001b[49m\u001b[43m[\u001b[49m\u001b[38;5;241;43m-\u001b[39;49m\u001b[38;5;241;43m1\u001b[39;49m\u001b[43m]\u001b[49m \u001b[38;5;241m==\u001b[39m check[\u001b[38;5;241m-\u001b[39m\u001b[38;5;241m1\u001b[39m]:\n\u001b[1;32m     11\u001b[0m     \u001b[38;5;28;01mreturn\u001b[39;00m res\n\u001b[1;32m     12\u001b[0m \u001b[38;5;28;01melse\u001b[39;00m:\n",
      "\u001b[0;31mIndexError\u001b[0m: list index out of range"
     ]
    }
   ],
   "source": [
    "def low_high_list(arr, threshold = 0):\n",
    "\n",
    "    arr = np.array(arr)\n",
    "    check = arr > threshold\n",
    "    args = list(zip(check[:-1], check[1:]))\n",
    "    res = [prev for prev, next in args if prev != next]\n",
    "\n",
    "    if len(res) == 0:\n",
    "        return [arr[0] > threshold]\n",
    "    elif res[-1] == check[-1]:\n",
    "        return res\n",
    "    else:\n",
    "        return res + [check[-1]]\n",
    "    \n",
    "low_high_list([1,2])"
   ]
  }
 ],
 "metadata": {
  "kernelspec": {
   "display_name": "venv",
   "language": "python",
   "name": "python3"
  },
  "language_info": {
   "codemirror_mode": {
    "name": "ipython",
    "version": 3
   },
   "file_extension": ".py",
   "mimetype": "text/x-python",
   "name": "python",
   "nbconvert_exporter": "python",
   "pygments_lexer": "ipython3",
   "version": "3.13.1"
  }
 },
 "nbformat": 4,
 "nbformat_minor": 2
}
