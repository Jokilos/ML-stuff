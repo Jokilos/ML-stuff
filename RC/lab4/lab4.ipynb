{
 "cells": [
  {
   "cell_type": "code",
   "execution_count": null,
   "metadata": {},
   "outputs": [],
   "source": [
    "import cv2\n",
    "\n",
    "print(f\"OpenCV version is: {cv2.__version__}\")\n",
    "\n",
    "if True:\n",
    "    # use cv2_imshow from matplotlib (eg. Vscode)\n",
    "    import matplotlib.pyplot as plt\n",
    "\n",
    "    def cv2_imshow(img):\n",
    "        plt.figure(figsize=(10,10))\n",
    "        plt.imshow(cv2.cvtColor(img, cv2.COLOR_BGR2RGB))\n",
    "        plt.axis(\"off\")\n",
    "        plt.show()"
   ]
  },
  {
   "cell_type": "code",
   "execution_count": null,
   "metadata": {},
   "outputs": [],
   "source": [
    "# TODO: detect, draw and show markers on images 1-6.png\n",
    "import os\n",
    "\n",
    "def get_all_file_paths(folder):\n",
    "  file_paths = []\n",
    "\n",
    "  for dirpath, _, filenames in os.walk(folder):\n",
    "    for filename in filenames:\n",
    "      if dirpath == folder:\n",
    "        full_path = os.path.join(dirpath, filename)\n",
    "        file_paths.append(full_path)\n",
    "\n",
    "  return file_paths\n",
    "\n",
    "folder_path = 'data'\n",
    "all_files = get_all_file_paths(folder_path)\n",
    "\n",
    "dictionary = cv2.aruco.getPredefinedDictionary(cv2.aruco.DICT_APRILTAG_16h5)\n",
    "parameters = cv2.aruco.DetectorParameters()\n",
    "detector = cv2.aruco.ArucoDetector(dictionary, parameters)\n",
    "\n",
    "for path in all_files:\n",
    "   print(path)"
   ]
  },
  {
   "cell_type": "code",
   "execution_count": 67,
   "metadata": {},
   "outputs": [
    {
     "data": {
      "text/plain": [
       "''"
      ]
     },
     "execution_count": 67,
     "metadata": {},
     "output_type": "execute_result"
    }
   ],
   "source": [
    "chessboard_shape = (8,5)\n",
    "\n",
    "def detect_chessboard(filename):\n",
    "  current = cv2.imread(filename)\n",
    "  gray = cv2.cvtColor(current, cv2.COLOR_BGR2GRAY)\n",
    "  ret, corners = cv2.findChessboardCorners(gray, (8,5), None)\n",
    "\n",
    "  if ret:\n",
    "    corners2 = cv2.cornerSubPix(\n",
    "      gray,\n",
    "      corners,\n",
    "      (11,11),\n",
    "      (-1,-1),\n",
    "      (cv2.TermCriteria_MAX_ITER + cv2.TERM_CRITERIA_EPS, 30, 0.0001)\n",
    "    )\n",
    "\n",
    "    cv2.drawChessboardCorners(current, (8,5), corners2, ret)\n",
    "    #cv2_imshow(current)\n",
    "    return corners2\n",
    "  else:\n",
    "    print(\"Couldn't detect corners.\")\n",
    "    return None\n",
    "\n",
    "detect_chessboard('data/img01.jpg')\n",
    "\"\""
   ]
  },
  {
   "cell_type": "code",
   "execution_count": 68,
   "metadata": {},
   "outputs": [
    {
     "data": {
      "text/plain": [
       "40"
      ]
     },
     "execution_count": 68,
     "metadata": {},
     "output_type": "execute_result"
    }
   ],
   "source": [
    "import numpy as np\n",
    "\n",
    "def get_objpoints(shape, width):\n",
    "  x, y = shape\n",
    "  xx, yy = np.meshgrid( \n",
    "    np.linspace(0, width * (x - 1), x), \n",
    "    np.linspace(0, width * (y - 1), y), \n",
    "  )\n",
    "  xx, yy = xx.reshape(-1), yy.reshape(-1)\n",
    "  objarr = np.vstack([xx, yy, np.zeros(len(xx))]).T\n",
    "\n",
    "  return objarr.astype(np.float32)\n",
    "\n",
    "def g_op2(shape, width):\n",
    "  x, y = shape\n",
    "  objp = np.zeros((x*y,3), np.float32)\n",
    "  objp[:,:2] = np.mgrid[0:x,0:y].T.reshape(-1,2)\n",
    "  return (objp * width).astype(np.float32)\n",
    "\n",
    "get_objpoints(chessboard_shape, 30).shape[0]\n",
    "#g_op2((4,3), 30)"
   ]
  },
  {
   "cell_type": "code",
   "execution_count": 69,
   "metadata": {},
   "outputs": [
    {
     "name": "stdout",
     "output_type": "stream",
     "text": [
      "0.18883259302893984\n",
      "\n",
      "\n",
      "[[1.04551836e+03 0.00000000e+00 7.18986213e+02]\n",
      " [0.00000000e+00 1.13760876e+03 7.82422844e+02]\n",
      " [0.00000000e+00 0.00000000e+00 1.00000000e+00]]\n",
      "\n",
      "\n",
      "[[-0.20996711 -0.00698892 -0.06636794 -0.00110452 -0.01029725]]\n",
      "\n",
      "\n",
      "(array([[-0.56434907],\n",
      "       [ 0.07345001],\n",
      "       [ 0.56374931]]),)\n",
      "\n",
      "\n",
      "(array([[-123.13634679],\n",
      "       [-254.04036664],\n",
      "       [ 457.72730112]]),)\n",
      "\n",
      "\n"
     ]
    }
   ],
   "source": [
    "def calibration(filename):\n",
    "  current = cv2.imread(filename)\n",
    "  gray = cv2.cvtColor(current, cv2.COLOR_BGR2GRAY)\n",
    "\n",
    "  objpoints = get_objpoints(chessboard_shape, 30)\n",
    "  corners = detect_chessboard(filename)\n",
    "  \n",
    "  # print(objpoints)\n",
    "  # print(corners.shape)\n",
    "  # print(objpoints.shape)\n",
    "  # objpoints = np.zeros((40, 3)).astype(np.float32)\n",
    "  # print(objpoints)\n",
    "\n",
    "  return cv2.calibrateCamera(\n",
    "    objectPoints = [objpoints], \n",
    "    imagePoints = [corners],\n",
    "    imageSize = gray.shape[:2],\n",
    "    cameraMatrix = None,\n",
    "    distCoeffs = None,\n",
    "  )\n",
    "\n",
    "for v in calibration('data/img02.jpg'):\n",
    "  print(f\"{v}\\n\\n\")"
   ]
  },
  {
   "cell_type": "code",
   "execution_count": null,
   "metadata": {},
   "outputs": [
    {
     "data": {
      "text/plain": [
       "(array([[-0.56434907],\n",
       "        [ 0.07345001],\n",
       "        [ 0.56374931]]),)"
      ]
     },
     "execution_count": 70,
     "metadata": {},
     "output_type": "execute_result"
    }
   ],
   "source": [
    "calibration_res = calibration('data/img02.jpg')\n",
    "ret, cameraMatrix, distCoeffs, rvecs, tvecs = calibration_res\n",
    "\n",
    "#detect_chessboard(all_files[0])\n",
    "\n",
    "#for file in all_files:\n",
    "#  detect_draw_show(file)"
   ]
  },
  {
   "cell_type": "code",
   "execution_count": null,
   "metadata": {},
   "outputs": [],
   "source": []
  }
 ],
 "metadata": {
  "kernelspec": {
   "display_name": "venv",
   "language": "python",
   "name": "python3"
  },
  "language_info": {
   "codemirror_mode": {
    "name": "ipython",
    "version": 3
   },
   "file_extension": ".py",
   "mimetype": "text/x-python",
   "name": "python",
   "nbconvert_exporter": "python",
   "pygments_lexer": "ipython3",
   "version": "3.12.7"
  }
 },
 "nbformat": 4,
 "nbformat_minor": 2
}
