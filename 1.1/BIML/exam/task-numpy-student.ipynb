{
 "cells": [
  {
   "cell_type": "markdown",
   "metadata": {},
   "source": [
    "# Bajtazar discovers numpy\n",
    "\n",
    "Bajtazar just recently got into python, but he is constantly complaining about how slow everything is. To stop his whining, you decided to show him that it's possible to write fast python code using numpy. Now Bajtazar gave you three tasks and he want you to show him how to do them in numpy without using any native python loops."
   ]
  },
  {
   "cell_type": "code",
   "execution_count": 1,
   "metadata": {},
   "outputs": [],
   "source": [
    "import numpy as np"
   ]
  },
  {
   "cell_type": "markdown",
   "metadata": {},
   "source": [
    "### 1 Cyclic multiplication. - 3p\n",
    "You probably know that numpy will broadcast multiplication if one of the dimensions is of size 1, but what if it could if one of the dimensions was a divisor of the other? Show to Bajtazar that you can do it for 1-D arrays. `cyclic_multiply` gets two 1-D arrays - `big` and `small`, where the `len(big) % len(small) == 0`. Your answer should be the pointwise multiplication of those two vectors, as if the `small` vector was repeated enough times to match it's size to the `big` vector. E.g if `big = [1, 2, 3, 4]` and `small = [1, 2]`, then you should return `[1*1, 2*2, 3*1, 4*2] = [1, 4, 3, 8]`"
   ]
  },
  {
   "cell_type": "code",
   "execution_count": 2,
   "metadata": {},
   "outputs": [],
   "source": [
    "def cyclic_multiply(big: np.array, small: np.array) -> np.array:\n",
    "    small_repeat = np.tile(small, int(len(big) / len(small)))\n",
    "    return small_repeat * big"
   ]
  },
  {
   "cell_type": "code",
   "execution_count": 3,
   "metadata": {},
   "outputs": [],
   "source": [
    "example_big = np.array([1, 2, 3, 4])\n",
    "example_small = np.array([1, 2])\n",
    "\n",
    "assert np.array_equal(cyclic_multiply(example_big, example_small), np.array([1, 4, 3, 8]))"
   ]
  },
  {
   "cell_type": "markdown",
   "metadata": {},
   "source": [
    "### 2 How many flowers are in the sub-garden? - 4p\n",
    "\n",
    "You are given a map of a garden as a 2-D array `garden`. Garden is divided into plots. `garden[i][j]` contains the information about how many flowers are on the the plot with coordinates `(i, j)`. Your task is to return the array `cumulative_garden` of the same size as garden, where `cumulative_garden[i][j]` contains the number of flowers inside the rectangle `(0, 0), (0, j), (i, 0), (i, j)`.\n"
   ]
  },
  {
   "cell_type": "code",
   "execution_count": 8,
   "metadata": {},
   "outputs": [
    {
     "data": {
      "text/plain": [
       "array([[1., 0.],\n",
       "       [1., 1.]])"
      ]
     },
     "execution_count": 8,
     "metadata": {},
     "output_type": "execute_result"
    }
   ],
   "source": [
    "np.tri(2)"
   ]
  },
  {
   "cell_type": "code",
   "execution_count": null,
   "metadata": {},
   "outputs": [
    {
     "name": "stdout",
     "output_type": "stream",
     "text": [
      "[[ 1  2  3  4]\n",
      " [ 5  6  7  8]\n",
      " [ 9 10 11 12]]\n"
     ]
    },
    {
     "data": {
      "text/plain": [
       "array([[ 1.,  3.,  6., 10.],\n",
       "       [ 6., 14., 24., 36.],\n",
       "       [15., 33., 54., 78.]])"
      ]
     },
     "execution_count": 14,
     "metadata": {},
     "output_type": "execute_result"
    }
   ],
   "source": [
    "def sub_gardens(garden: np.array) -> np.array:\n",
    "\n",
    "    # neat solution\n",
    "    cumulative_garden = np.tri(garden.shape[0]) @ garden @ np.tri(garden.shape[1]).T \n",
    "\n",
    "    # vert = np.cumsum(garden, axis=0)\n",
    "    # cumulative_garden = np.cumsum(vert, axis=1)\n",
    "    \n",
    "    return cumulative_garden\n",
    "\n",
    "example_garden = np.arange(1, 13).reshape(3, 4)\n",
    "print(example_garden)\n",
    "sub_gardens(example_garden)"
   ]
  },
  {
   "cell_type": "code",
   "execution_count": 11,
   "metadata": {},
   "outputs": [],
   "source": [
    "example_garden = np.arange(1, 10).reshape(3, 3)\n",
    "garden_correct = np.array([[ 1,  3,  6], \n",
    "                           [ 5, 12, 21], \n",
    "                           [ 12, 27, 45]])\n",
    "assert np.array_equal(sub_gardens(example_garden), garden_correct)"
   ]
  },
  {
   "cell_type": "markdown",
   "metadata": {},
   "source": [
    "### 3 Climbing skyscrapers. - 3p \n",
    "\n",
    "Bajtazar really liked your showcase and now wants you to help him with his little adventure. He wants to go and start climbing skyscapers in the city. Conveniently, they are all located in a block, next to each other, so he will just need to climb between them. You have to tell him how much rope he needs to prepare for every skyscraper to climb from it to the next one (except the last skyscraper, he will just climb down the stairs). Bajtazar needs rope both when climbing up and down.\n",
    "\n",
    "Your are given an array `skyscrapers` of lenght `n` with the heights of skyscrapers in the block. You have to return the array `lines` of length `n-1`, where `lines[i]` is the amount of line Bajtazar needs to climb from skyscraper `i` to `i+1`.  "
   ]
  },
  {
   "cell_type": "code",
   "execution_count": 6,
   "metadata": {},
   "outputs": [],
   "source": [
    "def climbing(skyscrapers: np.array) -> int:\n",
    "    lines = skyscrapers[1:] - skyscrapers[:-1]\n",
    "    lines = np.abs(lines)\n",
    "    return lines"
   ]
  },
  {
   "cell_type": "code",
   "execution_count": 7,
   "metadata": {},
   "outputs": [
    {
     "name": "stdout",
     "output_type": "stream",
     "text": [
      "[1 4 3 1]\n"
     ]
    }
   ],
   "source": [
    "skyscrapers = np.array([1, 2, 6, 3, 2])\n",
    "\n",
    "print(climbing(skyscrapers))\n",
    "assert np.array_equal(climbing(skyscrapers), np.array([1, 4, 3, 1]))"
   ]
  }
 ],
 "metadata": {
  "kernelspec": {
   "display_name": "venv",
   "language": "python",
   "name": "python3"
  },
  "language_info": {
   "codemirror_mode": {
    "name": "ipython",
    "version": 3
   },
   "file_extension": ".py",
   "mimetype": "text/x-python",
   "name": "python",
   "nbconvert_exporter": "python",
   "pygments_lexer": "ipython3",
   "version": "3.12.7"
  }
 },
 "nbformat": 4,
 "nbformat_minor": 2
}
