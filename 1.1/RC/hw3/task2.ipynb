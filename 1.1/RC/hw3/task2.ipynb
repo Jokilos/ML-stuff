{
 "cells": [
  {
   "cell_type": "code",
   "execution_count": 77,
   "metadata": {},
   "outputs": [],
   "source": [
    "import mujoco\n",
    "from mujoco import viewer\n",
    "import numpy as np\n",
    "import plotly.express as px\n",
    "import contextlib, io\n",
    "from drone_simulator import DroneSimulator\n",
    "from pid import PID\n",
    "\n",
    "model = mujoco.MjModel.from_xml_path(\"scene.xml\")\n",
    "data = mujoco.MjData(model)\n",
    "mujoco.mj_forward(model, data)\n",
    "\n",
    "# viewer = viewer.launch_passive(model, data)\n",
    "# viewer.cam.distance = 4.\n",
    "# viewer.cam.lookat = np.array([0, 0, 1])\n",
    "# viewer.cam.elevation = -30.\n",
    "\n",
    "desired_altitude = 2\n",
    "\n",
    "drone_simulator = DroneSimulator(\n",
    "    model, data, viewer, desired_altitude = desired_altitude,\n",
    "    altitude_sensor_freq = 0.01,\n",
    "    wind_change_prob = 0.1,\n",
    "    rendering_freq = 20,\n",
    ")\n",
    "\n",
    "innerPID_freq = 1"
   ]
  },
  {
   "cell_type": "code",
   "execution_count": 78,
   "metadata": {},
   "outputs": [],
   "source": [
    "innerPID = PID(\n",
    "    gain_prop = 0.3,\n",
    "    gain_int = 0.2,\n",
    "    gain_der = 0,\n",
    "    sensor_period = drone_simulator.altitude_sensor_period * (0.01 / innerPID_freq),\n",
    ")\n",
    "\n",
    "xfac = 0.28\n",
    "outerPID = PID(\n",
    "    gain_prop = xfac * 0.1,\n",
    "    gain_int = 0,#2e-7,\n",
    "    gain_der = xfac,\n",
    "    sensor_period = drone_simulator.altitude_sensor_period,\n",
    ")"
   ]
  },
  {
   "cell_type": "code",
   "execution_count": 79,
   "metadata": {},
   "outputs": [],
   "source": [
    "fast_ascend_thrust = 3.3\n",
    "slow_ascend_thrust = 3.25\n",
    "slow_ascend_acceleration = 0.15\n",
    "G = 9.81\n",
    "\n",
    "initial_acc = drone_simulator.data.sensor(\"body_linacc\").data[2] - G\n",
    "drone_simulator.measured_acceleration = np.array([initial_acc] * 2, dtype = float)\n",
    "\n",
    "def acceleration_sensor(self):\n",
    "    self.measured_acceleration[1] = self.measured_acceleration[0]\n",
    "    self.measured_acceleration[0] = self.data.sensor(\"body_linacc\").data[2] - G\n",
    "    return self.measured_acceleration\n",
    "\n",
    "from types import MethodType \n",
    "drone_simulator.acceleration_sensor = MethodType(acceleration_sensor, drone_simulator)"
   ]
  },
  {
   "cell_type": "code",
   "execution_count": 81,
   "metadata": {},
   "outputs": [
    {
     "name": "stdout",
     "output_type": "stream",
     "text": [
      "8.99370597205164\n"
     ]
    }
   ],
   "source": [
    "thrust = 0\n",
    "prev_alt_measurement = -1\n",
    "alts = []\n",
    "\n",
    "with contextlib.redirect_stdout(io.StringIO()):\n",
    "    for i in range(4000):\n",
    "        # TODO: Use the PID controllers in a cascade designe to control the drone\n",
    "\n",
    "        drone_simulator.acceleration_sensor()\n",
    "\n",
    "        if drone_simulator.measured_altitudes[0] != prev_alt_measurement:\n",
    "            wanted_acc = outerPID.output_signal(\n",
    "                desired_altitude,\n",
    "                drone_simulator.measured_altitudes\n",
    "            )\n",
    "\n",
    "        thrust_addition = innerPID.output_signal(\n",
    "            wanted_acc,\n",
    "            drone_simulator.measured_acceleration,\n",
    "        )\n",
    "\n",
    "        thrust += thrust_addition\n",
    "\n",
    "        alts += [drone_simulator.altitude_history[0]]\n",
    "\n",
    "        drone_simulator.sim_step(thrust, view = False)\n",
    "\n",
    "alts = np.array(alts[-1500:]) - desired_altitude\n",
    "error = np.sum(np.abs(alts))\n",
    "print(error)\n",
    "# fig = px.line(y=alts, labels={'y':'altitude'})\n",
    "# fig.show()\n"
   ]
  }
 ],
 "metadata": {
  "kernelspec": {
   "display_name": "venv",
   "language": "python",
   "name": "python3"
  },
  "language_info": {
   "codemirror_mode": {
    "name": "ipython",
    "version": 3
   },
   "file_extension": ".py",
   "mimetype": "text/x-python",
   "name": "python",
   "nbconvert_exporter": "python",
   "pygments_lexer": "ipython3",
   "version": "3.12.8"
  }
 },
 "nbformat": 4,
 "nbformat_minor": 2
}
