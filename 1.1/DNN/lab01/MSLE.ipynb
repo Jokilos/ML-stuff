{
 "cells": [
  {
   "cell_type": "markdown",
   "metadata": {
    "id": "VqdiMxZx-EoD"
   },
   "source": [
    "# Linear regression\n",
    "\n",
    "In this exercise you will use linear regression to predict flat prices. Training will be handled via gradient descent and we will:\n",
    "* have multiple features (i.e. variables used to make the prediction),\n",
    "* employ some basic feature engineering,\n",
    "* work with a non-standard loss function.\n",
    "\n",
    "Let's start with getting the data."
   ]
  },
  {
   "cell_type": "code",
   "execution_count": 39,
   "metadata": {
    "colab": {
     "base_uri": "https://localhost:8080/"
    },
    "executionInfo": {
     "elapsed": 5466,
     "status": "ok",
     "timestamp": 1729363993563,
     "user": {
      "displayName": "Jakub Nowacki",
      "userId": "04628940980631792389"
     },
     "user_tz": -120
    },
    "id": "heeKjQ2r-EoH",
    "outputId": "f513ddab-5cf0-4ff7-f929-4a2d9a32d0ce"
   },
   "outputs": [],
   "source": [
    "%matplotlib inline\n",
    "\n",
    "#!wget -O mieszkania.csv https://www.dropbox.com/s/zey0gx91pna8irj/mieszkania.csv?dl=1\n",
    "#!wget -O mieszkania_test.csv https://www.dropbox.com/s/dbrj6sbxb4ayqjz/mieszkania_test.csv?dl=1"
   ]
  },
  {
   "cell_type": "code",
   "execution_count": 40,
   "metadata": {
    "colab": {
     "base_uri": "https://localhost:8080/"
    },
    "executionInfo": {
     "elapsed": 18,
     "status": "ok",
     "timestamp": 1728996768070,
     "user": {
      "displayName": "Jakub Nowacki",
      "userId": "04628940980631792389"
     },
     "user_tz": -120
    },
    "id": "yI9wFXv5-EoP",
    "outputId": "3cd4d87f-acab-4317-df8b-069a6d79e012"
   },
   "outputs": [
    {
     "name": "stdout",
     "output_type": "stream",
     "text": [
      "==> mieszkania.csv <==\n",
      "m2,dzielnica,ilość_sypialni,ilość_łazienek,rok_budowy,parking_podziemny,cena\n",
      "104,mokotowo,2,2,1940,1,780094\n",
      "43,ochotowo,1,1,1970,1,346912\n",
      "128,grodziskowo,3,2,1916,1,523466\n",
      "112,mokotowo,3,2,1920,1,830965\n",
      "149,mokotowo,3,3,1977,0,1090479\n",
      "80,ochotowo,2,2,1937,0,599060\n",
      "58,ochotowo,2,1,1922,0,463639\n",
      "23,ochotowo,1,1,1929,0,166785\n",
      "40,mokotowo,1,1,1973,0,318849\n",
      "\n",
      "==> mieszkania_test.csv <==\n",
      "m2,dzielnica,ilość_sypialni,ilość_łazienek,rok_budowy,parking_podziemny,cena\n",
      "71,wolowo,2,2,1912,1,322227\n",
      "45,mokotowo,1,1,1938,0,295878\n",
      "38,mokotowo,1,1,1999,1,306530\n",
      "70,ochotowo,2,2,1980,1,553641\n",
      "136,mokotowo,3,2,1939,1,985348\n",
      "128,wolowo,3,2,1983,1,695726\n",
      "23,grodziskowo,1,1,1975,0,99751\n",
      "117,mokotowo,3,2,1942,0,891261\n",
      "65,ochotowo,2,1,2002,1,536499\n"
     ]
    }
   ],
   "source": [
    "!head mieszkania.csv mieszkania_test.csv"
   ]
  },
  {
   "cell_type": "markdown",
   "metadata": {
    "id": "iH8Ut02G-EoU"
   },
   "source": [
    "Each row in the data represents a separate property. Our goal is to use the data from `mieszkania.csv` to create a model that can predict a property's price (i.e. `cena`) given its features (i.e. `m2,dzielnica,ilosc_sypialni,ilosc_lazienek,rok_budowy,parking_podziemny`).\n",
    "\n",
    "From now on, we should interfere only with `mieszkania.csv` (dubbed the training dataset) to make our decisions and create the model. The (only) purpose of `mieszkania_test.csv` is to test our model on **unseen** data.\n",
    "\n",
    "Our predictions should minimize the so-called mean squared logarithmic error:\n",
    "$$\n",
    "MSLE = \\frac{1}{n} \\sum_{i=1}^n (\\log(1+y_i) - \\log(1+p_i))^2,\n",
    "$$\n",
    "where $y_i$ is the ground truth, and $p_i$ is our prediction."
   ]
  },
  {
   "cell_type": "markdown",
   "metadata": {
    "id": "y8QX6Ncr-EoW"
   },
   "source": [
    "Let's start with implementing the loss function."
   ]
  },
  {
   "cell_type": "code",
   "execution_count": 41,
   "metadata": {
    "id": "JAiB8S9A-EoX"
   },
   "outputs": [],
   "source": [
    "from typing import Tuple\n",
    "\n",
    "import numpy as np\n",
    "import pandas as pd\n",
    "from sklearn import preprocessing\n",
    "\n",
    "def msle(ys, ps):\n",
    "    assert len(ys) == len(ps)\n",
    "\n",
    "    n = len(ys)\n",
    "    result = (1/n) * np.sum((np.log(1 + ys) - np.log(1 + ps))**2)\n",
    "\n",
    "    return result"
   ]
  },
  {
   "cell_type": "markdown",
   "metadata": {
    "id": "zAmd2qLR-Eob"
   },
   "source": [
    "The simplest model is predicting the same constant for each instance. Test your implementation of msle against outputing the mean price."
   ]
  },
  {
   "cell_type": "code",
   "execution_count": 42,
   "metadata": {
    "id": "vY9VwngbwBDv"
   },
   "outputs": [],
   "source": [
    "# load and prepare the data\n",
    "\n",
    "def load(name):\n",
    "    data = pd.read_csv(name)\n",
    "    xs = data[data.columns[:-1]].to_numpy()\n",
    "    ys = data[data.columns[-1]].to_numpy()\n",
    "    return (xs, ys)\n",
    "\n",
    "x_train, y_train = load('mieszkania.csv')\n",
    "x_test, y_test = load('mieszkania_test.csv')\n",
    "districts = len(np.unique(x_train.T[1]))\n",
    "\n",
    "def one_hot(arr):\n",
    "    columns = arr.shape[1]\n",
    "\n",
    "    for i in range(columns):\n",
    "        if type(arr[0][i]) != int :\n",
    "\n",
    "            column = arr[:, i]\n",
    "            rest = arr[:, [j != i for j in range(columns)]]\n",
    "\n",
    "            unique = np.unique(column).reshape(1,-1)\n",
    "            one_hot = np.vstack([column]*len(unique))\n",
    "            one_hot = (one_hot.T == unique).astype(int)\n",
    "\n",
    "            return np.hstack([rest, one_hot])\n",
    "\n",
    "def add_column(value, arr):\n",
    "    ones_column = np.ones(x_train.shape[0]).reshape(-1,1)\n",
    "    return np.hstack([ones_column * value, arr])\n"
   ]
  },
  {
   "cell_type": "code",
   "execution_count": 43,
   "metadata": {},
   "outputs": [],
   "source": [
    "\n",
    "x_train, y_train\n",
    "\n",
    "x_train = one_hot(x_train)\n",
    "\n",
    "x_train = add_column(1, x_train).astype(np.float64)\n",
    "\n",
    "#normalize\n",
    "x_norm = []\n",
    "y_norm = np.max(y_train)\n",
    "\n",
    "for i in range(x_train.shape[1]):\n",
    "    max = np.max(x_train.T[i])\n",
    "    x_norm.append(max)\n",
    "    x_train.T[i] /= max\n",
    "\n",
    "y_train = (y_train / np.max(y_train)).reshape(-1,1)"
   ]
  },
  {
   "cell_type": "code",
   "execution_count": 44,
   "metadata": {
    "colab": {
     "base_uri": "https://localhost:8080/"
    },
    "executionInfo": {
     "elapsed": 8,
     "status": "ok",
     "timestamp": 1729000210191,
     "user": {
      "displayName": "Jakub Nowacki",
      "userId": "04628940980631792389"
     },
     "user_tz": -120
    },
    "id": "b0RT7VW7-Eoc",
    "outputId": "90fbdb4c-4dd7-4a00-b96d-aa7bdf816dd1"
   },
   "outputs": [
    {
     "data": {
      "text/plain": [
       "np.float64(5.468949827661844)"
      ]
     },
     "execution_count": 44,
     "metadata": {},
     "output_type": "execute_result"
    }
   ],
   "source": [
    "###################################################\n",
    "# TODO: Compute msle for outputing the mean price #\n",
    "###################################################\n",
    "\n",
    "def mse(xs, ps):\n",
    "    assert len(xs) == len(ps)\n",
    "\n",
    "    n = len(xs)\n",
    "    sum = np.sum((xs - ps) ** 2)\n",
    "\n",
    "    return (1/n) * sum\n",
    "\n",
    "def msle(xs, ps):\n",
    "    assert len(xs) == len(ps)\n",
    "\n",
    "    n = len(xs)\n",
    "    sum = np.sum((np.log(1 + xs) - np.log(1 + ps)) ** 2)\n",
    "\n",
    "    return (1/n) * sum\n",
    "\n",
    "mean_price = np.mean(y_train)\n",
    "\n",
    "msle(y_train, np.ones(x_train.shape[0]) * mean_price)"
   ]
  },
  {
   "cell_type": "markdown",
   "metadata": {
    "id": "a0zMmTiv-Eof"
   },
   "source": [
    "Recall that outputing the mean minimzes $MSE$. However, we're now dealing with $MSLE$.\n",
    "\n",
    "Think of a constant that should result in the lowest $MSLE$."
   ]
  },
  {
   "cell_type": "code",
   "execution_count": 45,
   "metadata": {
    "colab": {
     "base_uri": "https://localhost:8080/"
    },
    "executionInfo": {
     "elapsed": 6,
     "status": "ok",
     "timestamp": 1729000211185,
     "user": {
      "displayName": "Jakub Nowacki",
      "userId": "04628940980631792389"
     },
     "user_tz": -120
    },
    "id": "Q0Z4drNd-Eog",
    "outputId": "6acb7662-3641-40b4-b02b-186fdc50c214"
   },
   "outputs": [
    {
     "data": {
      "text/plain": [
       "np.float64(5.431039782425594)"
      ]
     },
     "execution_count": 45,
     "metadata": {},
     "output_type": "execute_result"
    }
   ],
   "source": [
    "#############################################\n",
    "# TODO: Find this constant and compute msle #\n",
    "#############################################\n",
    "\n",
    "# (log(1 + p) - log(1 + x)) ** 2\n",
    "\n",
    "msle_mean = (np.e ** ((1 / len(y_train)) * np.sum(np.log(1 + y_train)))) - 1\n",
    "\n",
    "msle(y_train, np.ones(x_train.shape[0]) * msle_mean)"
   ]
  },
  {
   "cell_type": "markdown",
   "metadata": {
    "id": "2RdHlBw8-Eoi"
   },
   "source": [
    "Now, let's implement a standard linear regression model."
   ]
  },
  {
   "cell_type": "code",
   "execution_count": 46,
   "metadata": {},
   "outputs": [],
   "source": [
    "n, features = x_train.shape\n",
    "w = np.zeros(features).reshape(-1, 1)\n",
    "lr = 0.2 # step size\n",
    "t = 0.99\n",
    "n_epochs = 250\n"
   ]
  },
  {
   "cell_type": "code",
   "execution_count": 51,
   "metadata": {},
   "outputs": [
    {
     "name": "stdout",
     "output_type": "stream",
     "text": [
      "Iter:   0 Loss: 0.03616379 w: ['0.18', '0.12', '0.14', '0.12', '0.18', '0.09', '0.03', '0.06', '0.06', '0.04']\n",
      "Iter: 199 Loss: 0.00208007 w: ['-0.03', '0.46', '0.26', '0.18', '-0.03', '0.02', '-0.13', '0.08', '0.08', '-0.07']\n"
     ]
    },
    {
     "data": {
      "application/vnd.plotly.v1+json": {
       "config": {
        "plotlyServerURL": "https://plot.ly"
       },
       "data": [
        {
         "hovertemplate": "x=%{x}<br>loss=%{y}<extra></extra>",
         "legendgroup": "",
         "line": {
          "color": "#636efa",
          "dash": "solid"
         },
         "marker": {
          "symbol": "circle"
         },
         "mode": "lines",
         "name": "",
         "orientation": "v",
         "showlegend": false,
         "type": "scatter",
         "x": [
          0,
          1,
          2,
          3,
          4,
          5,
          6,
          7,
          8,
          9,
          10,
          11,
          12,
          13,
          14,
          15,
          16,
          17,
          18,
          19,
          20,
          21,
          22,
          23,
          24,
          25,
          26,
          27,
          28,
          29,
          30,
          31,
          32,
          33,
          34,
          35,
          36,
          37,
          38,
          39,
          40,
          41,
          42,
          43,
          44,
          45,
          46,
          47,
          48,
          49,
          50,
          51,
          52,
          53,
          54,
          55,
          56,
          57,
          58,
          59,
          60,
          61,
          62,
          63,
          64,
          65,
          66,
          67,
          68,
          69,
          70,
          71,
          72,
          73,
          74,
          75,
          76,
          77,
          78,
          79,
          80,
          81,
          82,
          83,
          84,
          85,
          86,
          87,
          88,
          89,
          90,
          91,
          92,
          93,
          94,
          95,
          96,
          97,
          98,
          99,
          100,
          101,
          102,
          103,
          104,
          105,
          106,
          107,
          108,
          109,
          110,
          111,
          112,
          113,
          114,
          115,
          116,
          117,
          118,
          119,
          120,
          121,
          122,
          123,
          124,
          125,
          126,
          127,
          128,
          129,
          130,
          131,
          132,
          133,
          134,
          135,
          136,
          137,
          138,
          139,
          140,
          141,
          142,
          143,
          144,
          145,
          146,
          147,
          148,
          149,
          150,
          151,
          152,
          153,
          154,
          155,
          156,
          157,
          158,
          159,
          160,
          161,
          162,
          163,
          164,
          165,
          166,
          167,
          168,
          169,
          170,
          171,
          172,
          173,
          174,
          175,
          176,
          177,
          178,
          179,
          180,
          181,
          182,
          183,
          184,
          185,
          186,
          187,
          188,
          189,
          190,
          191,
          192,
          193,
          194,
          195,
          196,
          197,
          198,
          199,
          200,
          201,
          202,
          203,
          204,
          205,
          206,
          207,
          208,
          209,
          210,
          211,
          212,
          213,
          214,
          215,
          216,
          217,
          218,
          219,
          220,
          221,
          222,
          223,
          224,
          225,
          226,
          227,
          228,
          229,
          230,
          231,
          232,
          233,
          234,
          235,
          236,
          237,
          238,
          239,
          240,
          241,
          242,
          243,
          244,
          245,
          246,
          247,
          248,
          249,
          250
         ],
         "xaxis": "x",
         "y": [
          0.16052718361833157,
          0.036163793720424726,
          0.015622918724861963,
          0.014230611079592892,
          0.011434095022931594,
          0.010744236586764494,
          0.009605657221951789,
          0.008867013641558459,
          0.0081269021207278,
          0.007519826366224027,
          0.006971465028740012,
          0.006495362297899948,
          0.006072495593796879,
          0.005699050631632972,
          0.0053669267667293165,
          0.005071222299745077,
          0.004807001889262275,
          0.004570379138080252,
          0.004357916093672423,
          0.004166721122764104,
          0.003994293172232711,
          0.0038384865610676102,
          0.0036974443252998663,
          0.0035695576081313574,
          0.0034534259512973625,
          0.003347826524833167,
          0.0032516875096652628,
          0.0031640662072524753,
          0.0030841305556622233,
          0.00301114367202312,
          0.002944450825667161,
          0.0028834684614555965,
          0.002827674914777977,
          0.002776602539537615,
          0.0027298310119015286,
          0.0026869816164613635,
          0.0026477123538046726,
          0.002611713736685169,
          0.0025787051646210014,
          0.0025484317856521404,
          0.002520661769478462,
          0.0024951839290116196,
          0.0024718056379275017,
          0.0024503510005219093,
          0.002430659237367014,
          0.002412583256212863,
          0.002395988382496202,
          0.0023807512278909895,
          0.002366758678710198,
          0.0023539069887703787,
          0.0023421009636595278,
          0.0023312532252885948,
          0.002321283547225375,
          0.002312118252662893,
          0.0023036896680085728,
          0.0022959356260336553,
          0.0022887990133252547,
          0.00228222735746218,
          0.0022761724499109413,
          0.0022705900011276924,
          0.002265439324769617,
          0.0022606830482771153,
          0.0022562868473958637,
          0.0022522192024735477,
          0.002248451174596273,
          0.0022449561998301062,
          0.00224170990000816,
          0.0022386899086572925,
          0.0022358757107935803,
          0.0022332484954353093,
          0.002230791019788208,
          0.0022284874841520317,
          0.002226323416681931,
          0.002224285567213593,
          0.002222361809429054,
          0.0022205410507013033,
          0.0022188131490111273,
          0.0022171688363797587,
          0.002215599648306401,
          0.0022140978587410986,
          0.002212656420161157,
          0.002211268908353777,
          0.002209929471539031,
          0.0022086327834962174,
          0.002207374000382974,
          0.002206148720960882,
          0.002204952949963511,
          0.002203783064363402,
          0.0022026357823132455,
          0.00220150813455399,
          0.002200397438098481,
          0.0021993012720140314,
          0.0021982174551408865,
          0.0021971440255960884,
          0.002196079221923779,
          0.0021950214657636613,
          0.002193969345919207,
          0.0021929216037162584,
          0.00219187711955108,
          0.002190834900534687,
          0.0021897940691474106,
          0.002188753852824304,
          0.0021877135743980916,
          0.002186672643331989,
          0.0021856305476800043,
          0.0021845868467170533,
          0.00218354116418576,
          0.0021824931821108795,
          0.0021814426351360835,
          0.0021803893053413724,
          0.0021793330175026225,
          0.002178273634757717,
          0.002177211054646589,
          0.0021761452054949067,
          0.002175076043113634,
          0.0021740035477887743,
          0.0021729277215376736,
          0.0021718485856100857,
          0.0021707661782139303,
          0.00216968055244725,
          0.002168591774419344,
          0.0021674999215453693,
          0.0021664050810000007,
          0.0021653073483168263,
          0.002164206826121262,
          0.0021631036229857186,
          0.002161997852396648,
          0.0021608896318239734,
          0.0021597790818840916,
          0.002158666325588449,
          0.0021575514876702316,
          0.002156434693982377,
          0.0021553160709606965,
          0.0021541957451462895,
          0.002153073842762035,
          0.0021519504893383005,
          0.0021508258093834065,
          0.002149699926094807,
          0.0021485729611071974,
          0.002147445034274182,
          0.0021463162634802967,
          0.0021451867644805686,
          0.0021440566507649177,
          0.0021429260334450426,
          0.00214179502116155,
          0.0021406637200093053,
          0.002139532233479196,
          0.0021384006624145676,
          0.002137269104980845,
          0.0021361376566468976,
          0.0021350064101768877,
          0.0021338754556314197,
          0.0021327448803769382,
          0.002131614769102405,
          0.0021304852038423693,
          0.0021293562640056305,
          0.0021282280264087825,
          0.0021271005653139613,
          0.0021259739524702144,
          0.002124848257157943,
          0.0021237235462359407,
          0.002122599884190569,
          0.0021214773331867036,
          0.002120355953120058,
          0.0021192358016705977,
          0.0021181169343567345,
          0.0021169994045900547,
          0.0021158832637303516,
          0.0021147685611407584,
          0.0021136553442427856,
          0.0021125436585711327,
          0.0021114335478281026,
          0.002110325053937517,
          0.002109218217098008,
          0.0021081130758356004,
          0.002107009667055511,
          0.0021059080260930744,
          0.0021048081867637534,
          0.0021037101814121877,
          0.002102614040960223,
          0.0021015197949539005,
          0.0021004274716093807,
          0.0020993370978577724,
          0.0020982486993888663,
          0.002097162300693754,
          0.0020960779251063245,
          0.002094995594843659,
          0.00209391533104529,
          0.0020928371538113766,
          0.0020917610822397564,
          0.00209068713446193,
          0.0020896153276779533,
          0.0020885456781902833,
          0.0020874782014365673,
          0.002086412912021418,
          0.002085349823747176,
          0.002084288949643683,
          0.0020832303019970946,
          0.002082173892377745,
          0.0020811197316670895,
          0.002080067830083744,
          0.0020790181972086506,
          0.0020779708420093834,
          0.0020769257728636185,
          0.002075882997581805,
          0.00207484252342903,
          0.002073804357146137,
          0.0020727685049700835,
          0.0020717349726535883,
          0.0020707037654840743,
          0.0020696748883019377,
          0.0020686483455181455,
          0.002067624141131218,
          0.002066602278743577,
          0.002065582761577297,
          0.0020645655924892994,
          0.0020635507739859564,
          0.0020625383082371876,
          0.002061528197090009,
          0.0020605204420815894,
          0.002059515044451825,
          0.00205851200515543,
          0.002057511324873582,
          0.0020565130040251295,
          0.002055517042777372,
          0.002054523441056435,
          0.0020535321985572503,
          0.0020525433147531576,
          0.00205155678890514,
          0.002050572620070708,
          0.0020495908071124364,
          0.002048611348706184,
          0.0020476342433489946,
          0.002046659489366681,
          0.0020456870849211405,
          0.002044717028017364,
          0.00204374931651019,
          0.0020427839481107868,
          0.0020418209203928862,
          0.0020408602307987796,
          0.002039901876645068,
          0.0020389458551282086,
          0.0020379921633298164,
          0.0020370407982217838,
          0.0020360917566711856,
          0.0020351450354449963,
          0.0020342006312146195,
          0.002033258540560243,
          0.0020323187599750156,
          0.0020313812858690715,
          0.0020304461145733794
         ],
         "yaxis": "y"
        }
       ],
       "layout": {
        "legend": {
         "tracegroupgap": 0
        },
        "margin": {
         "t": 60
        },
        "template": {
         "data": {
          "bar": [
           {
            "error_x": {
             "color": "#2a3f5f"
            },
            "error_y": {
             "color": "#2a3f5f"
            },
            "marker": {
             "line": {
              "color": "#E5ECF6",
              "width": 0.5
             },
             "pattern": {
              "fillmode": "overlay",
              "size": 10,
              "solidity": 0.2
             }
            },
            "type": "bar"
           }
          ],
          "barpolar": [
           {
            "marker": {
             "line": {
              "color": "#E5ECF6",
              "width": 0.5
             },
             "pattern": {
              "fillmode": "overlay",
              "size": 10,
              "solidity": 0.2
             }
            },
            "type": "barpolar"
           }
          ],
          "carpet": [
           {
            "aaxis": {
             "endlinecolor": "#2a3f5f",
             "gridcolor": "white",
             "linecolor": "white",
             "minorgridcolor": "white",
             "startlinecolor": "#2a3f5f"
            },
            "baxis": {
             "endlinecolor": "#2a3f5f",
             "gridcolor": "white",
             "linecolor": "white",
             "minorgridcolor": "white",
             "startlinecolor": "#2a3f5f"
            },
            "type": "carpet"
           }
          ],
          "choropleth": [
           {
            "colorbar": {
             "outlinewidth": 0,
             "ticks": ""
            },
            "type": "choropleth"
           }
          ],
          "contour": [
           {
            "colorbar": {
             "outlinewidth": 0,
             "ticks": ""
            },
            "colorscale": [
             [
              0,
              "#0d0887"
             ],
             [
              0.1111111111111111,
              "#46039f"
             ],
             [
              0.2222222222222222,
              "#7201a8"
             ],
             [
              0.3333333333333333,
              "#9c179e"
             ],
             [
              0.4444444444444444,
              "#bd3786"
             ],
             [
              0.5555555555555556,
              "#d8576b"
             ],
             [
              0.6666666666666666,
              "#ed7953"
             ],
             [
              0.7777777777777778,
              "#fb9f3a"
             ],
             [
              0.8888888888888888,
              "#fdca26"
             ],
             [
              1,
              "#f0f921"
             ]
            ],
            "type": "contour"
           }
          ],
          "contourcarpet": [
           {
            "colorbar": {
             "outlinewidth": 0,
             "ticks": ""
            },
            "type": "contourcarpet"
           }
          ],
          "heatmap": [
           {
            "colorbar": {
             "outlinewidth": 0,
             "ticks": ""
            },
            "colorscale": [
             [
              0,
              "#0d0887"
             ],
             [
              0.1111111111111111,
              "#46039f"
             ],
             [
              0.2222222222222222,
              "#7201a8"
             ],
             [
              0.3333333333333333,
              "#9c179e"
             ],
             [
              0.4444444444444444,
              "#bd3786"
             ],
             [
              0.5555555555555556,
              "#d8576b"
             ],
             [
              0.6666666666666666,
              "#ed7953"
             ],
             [
              0.7777777777777778,
              "#fb9f3a"
             ],
             [
              0.8888888888888888,
              "#fdca26"
             ],
             [
              1,
              "#f0f921"
             ]
            ],
            "type": "heatmap"
           }
          ],
          "heatmapgl": [
           {
            "colorbar": {
             "outlinewidth": 0,
             "ticks": ""
            },
            "colorscale": [
             [
              0,
              "#0d0887"
             ],
             [
              0.1111111111111111,
              "#46039f"
             ],
             [
              0.2222222222222222,
              "#7201a8"
             ],
             [
              0.3333333333333333,
              "#9c179e"
             ],
             [
              0.4444444444444444,
              "#bd3786"
             ],
             [
              0.5555555555555556,
              "#d8576b"
             ],
             [
              0.6666666666666666,
              "#ed7953"
             ],
             [
              0.7777777777777778,
              "#fb9f3a"
             ],
             [
              0.8888888888888888,
              "#fdca26"
             ],
             [
              1,
              "#f0f921"
             ]
            ],
            "type": "heatmapgl"
           }
          ],
          "histogram": [
           {
            "marker": {
             "pattern": {
              "fillmode": "overlay",
              "size": 10,
              "solidity": 0.2
             }
            },
            "type": "histogram"
           }
          ],
          "histogram2d": [
           {
            "colorbar": {
             "outlinewidth": 0,
             "ticks": ""
            },
            "colorscale": [
             [
              0,
              "#0d0887"
             ],
             [
              0.1111111111111111,
              "#46039f"
             ],
             [
              0.2222222222222222,
              "#7201a8"
             ],
             [
              0.3333333333333333,
              "#9c179e"
             ],
             [
              0.4444444444444444,
              "#bd3786"
             ],
             [
              0.5555555555555556,
              "#d8576b"
             ],
             [
              0.6666666666666666,
              "#ed7953"
             ],
             [
              0.7777777777777778,
              "#fb9f3a"
             ],
             [
              0.8888888888888888,
              "#fdca26"
             ],
             [
              1,
              "#f0f921"
             ]
            ],
            "type": "histogram2d"
           }
          ],
          "histogram2dcontour": [
           {
            "colorbar": {
             "outlinewidth": 0,
             "ticks": ""
            },
            "colorscale": [
             [
              0,
              "#0d0887"
             ],
             [
              0.1111111111111111,
              "#46039f"
             ],
             [
              0.2222222222222222,
              "#7201a8"
             ],
             [
              0.3333333333333333,
              "#9c179e"
             ],
             [
              0.4444444444444444,
              "#bd3786"
             ],
             [
              0.5555555555555556,
              "#d8576b"
             ],
             [
              0.6666666666666666,
              "#ed7953"
             ],
             [
              0.7777777777777778,
              "#fb9f3a"
             ],
             [
              0.8888888888888888,
              "#fdca26"
             ],
             [
              1,
              "#f0f921"
             ]
            ],
            "type": "histogram2dcontour"
           }
          ],
          "mesh3d": [
           {
            "colorbar": {
             "outlinewidth": 0,
             "ticks": ""
            },
            "type": "mesh3d"
           }
          ],
          "parcoords": [
           {
            "line": {
             "colorbar": {
              "outlinewidth": 0,
              "ticks": ""
             }
            },
            "type": "parcoords"
           }
          ],
          "pie": [
           {
            "automargin": true,
            "type": "pie"
           }
          ],
          "scatter": [
           {
            "fillpattern": {
             "fillmode": "overlay",
             "size": 10,
             "solidity": 0.2
            },
            "type": "scatter"
           }
          ],
          "scatter3d": [
           {
            "line": {
             "colorbar": {
              "outlinewidth": 0,
              "ticks": ""
             }
            },
            "marker": {
             "colorbar": {
              "outlinewidth": 0,
              "ticks": ""
             }
            },
            "type": "scatter3d"
           }
          ],
          "scattercarpet": [
           {
            "marker": {
             "colorbar": {
              "outlinewidth": 0,
              "ticks": ""
             }
            },
            "type": "scattercarpet"
           }
          ],
          "scattergeo": [
           {
            "marker": {
             "colorbar": {
              "outlinewidth": 0,
              "ticks": ""
             }
            },
            "type": "scattergeo"
           }
          ],
          "scattergl": [
           {
            "marker": {
             "colorbar": {
              "outlinewidth": 0,
              "ticks": ""
             }
            },
            "type": "scattergl"
           }
          ],
          "scattermapbox": [
           {
            "marker": {
             "colorbar": {
              "outlinewidth": 0,
              "ticks": ""
             }
            },
            "type": "scattermapbox"
           }
          ],
          "scatterpolar": [
           {
            "marker": {
             "colorbar": {
              "outlinewidth": 0,
              "ticks": ""
             }
            },
            "type": "scatterpolar"
           }
          ],
          "scatterpolargl": [
           {
            "marker": {
             "colorbar": {
              "outlinewidth": 0,
              "ticks": ""
             }
            },
            "type": "scatterpolargl"
           }
          ],
          "scatterternary": [
           {
            "marker": {
             "colorbar": {
              "outlinewidth": 0,
              "ticks": ""
             }
            },
            "type": "scatterternary"
           }
          ],
          "surface": [
           {
            "colorbar": {
             "outlinewidth": 0,
             "ticks": ""
            },
            "colorscale": [
             [
              0,
              "#0d0887"
             ],
             [
              0.1111111111111111,
              "#46039f"
             ],
             [
              0.2222222222222222,
              "#7201a8"
             ],
             [
              0.3333333333333333,
              "#9c179e"
             ],
             [
              0.4444444444444444,
              "#bd3786"
             ],
             [
              0.5555555555555556,
              "#d8576b"
             ],
             [
              0.6666666666666666,
              "#ed7953"
             ],
             [
              0.7777777777777778,
              "#fb9f3a"
             ],
             [
              0.8888888888888888,
              "#fdca26"
             ],
             [
              1,
              "#f0f921"
             ]
            ],
            "type": "surface"
           }
          ],
          "table": [
           {
            "cells": {
             "fill": {
              "color": "#EBF0F8"
             },
             "line": {
              "color": "white"
             }
            },
            "header": {
             "fill": {
              "color": "#C8D4E3"
             },
             "line": {
              "color": "white"
             }
            },
            "type": "table"
           }
          ]
         },
         "layout": {
          "annotationdefaults": {
           "arrowcolor": "#2a3f5f",
           "arrowhead": 0,
           "arrowwidth": 1
          },
          "autotypenumbers": "strict",
          "coloraxis": {
           "colorbar": {
            "outlinewidth": 0,
            "ticks": ""
           }
          },
          "colorscale": {
           "diverging": [
            [
             0,
             "#8e0152"
            ],
            [
             0.1,
             "#c51b7d"
            ],
            [
             0.2,
             "#de77ae"
            ],
            [
             0.3,
             "#f1b6da"
            ],
            [
             0.4,
             "#fde0ef"
            ],
            [
             0.5,
             "#f7f7f7"
            ],
            [
             0.6,
             "#e6f5d0"
            ],
            [
             0.7,
             "#b8e186"
            ],
            [
             0.8,
             "#7fbc41"
            ],
            [
             0.9,
             "#4d9221"
            ],
            [
             1,
             "#276419"
            ]
           ],
           "sequential": [
            [
             0,
             "#0d0887"
            ],
            [
             0.1111111111111111,
             "#46039f"
            ],
            [
             0.2222222222222222,
             "#7201a8"
            ],
            [
             0.3333333333333333,
             "#9c179e"
            ],
            [
             0.4444444444444444,
             "#bd3786"
            ],
            [
             0.5555555555555556,
             "#d8576b"
            ],
            [
             0.6666666666666666,
             "#ed7953"
            ],
            [
             0.7777777777777778,
             "#fb9f3a"
            ],
            [
             0.8888888888888888,
             "#fdca26"
            ],
            [
             1,
             "#f0f921"
            ]
           ],
           "sequentialminus": [
            [
             0,
             "#0d0887"
            ],
            [
             0.1111111111111111,
             "#46039f"
            ],
            [
             0.2222222222222222,
             "#7201a8"
            ],
            [
             0.3333333333333333,
             "#9c179e"
            ],
            [
             0.4444444444444444,
             "#bd3786"
            ],
            [
             0.5555555555555556,
             "#d8576b"
            ],
            [
             0.6666666666666666,
             "#ed7953"
            ],
            [
             0.7777777777777778,
             "#fb9f3a"
            ],
            [
             0.8888888888888888,
             "#fdca26"
            ],
            [
             1,
             "#f0f921"
            ]
           ]
          },
          "colorway": [
           "#636efa",
           "#EF553B",
           "#00cc96",
           "#ab63fa",
           "#FFA15A",
           "#19d3f3",
           "#FF6692",
           "#B6E880",
           "#FF97FF",
           "#FECB52"
          ],
          "font": {
           "color": "#2a3f5f"
          },
          "geo": {
           "bgcolor": "white",
           "lakecolor": "white",
           "landcolor": "#E5ECF6",
           "showlakes": true,
           "showland": true,
           "subunitcolor": "white"
          },
          "hoverlabel": {
           "align": "left"
          },
          "hovermode": "closest",
          "mapbox": {
           "style": "light"
          },
          "paper_bgcolor": "white",
          "plot_bgcolor": "#E5ECF6",
          "polar": {
           "angularaxis": {
            "gridcolor": "white",
            "linecolor": "white",
            "ticks": ""
           },
           "bgcolor": "#E5ECF6",
           "radialaxis": {
            "gridcolor": "white",
            "linecolor": "white",
            "ticks": ""
           }
          },
          "scene": {
           "xaxis": {
            "backgroundcolor": "#E5ECF6",
            "gridcolor": "white",
            "gridwidth": 2,
            "linecolor": "white",
            "showbackground": true,
            "ticks": "",
            "zerolinecolor": "white"
           },
           "yaxis": {
            "backgroundcolor": "#E5ECF6",
            "gridcolor": "white",
            "gridwidth": 2,
            "linecolor": "white",
            "showbackground": true,
            "ticks": "",
            "zerolinecolor": "white"
           },
           "zaxis": {
            "backgroundcolor": "#E5ECF6",
            "gridcolor": "white",
            "gridwidth": 2,
            "linecolor": "white",
            "showbackground": true,
            "ticks": "",
            "zerolinecolor": "white"
           }
          },
          "shapedefaults": {
           "line": {
            "color": "#2a3f5f"
           }
          },
          "ternary": {
           "aaxis": {
            "gridcolor": "white",
            "linecolor": "white",
            "ticks": ""
           },
           "baxis": {
            "gridcolor": "white",
            "linecolor": "white",
            "ticks": ""
           },
           "bgcolor": "#E5ECF6",
           "caxis": {
            "gridcolor": "white",
            "linecolor": "white",
            "ticks": ""
           }
          },
          "title": {
           "x": 0.05
          },
          "xaxis": {
           "automargin": true,
           "gridcolor": "white",
           "linecolor": "white",
           "ticks": "",
           "title": {
            "standoff": 15
           },
           "zerolinecolor": "white",
           "zerolinewidth": 2
          },
          "yaxis": {
           "automargin": true,
           "gridcolor": "white",
           "linecolor": "white",
           "ticks": "",
           "title": {
            "standoff": 15
           },
           "zerolinecolor": "white",
           "zerolinewidth": 2
          }
         }
        },
        "xaxis": {
         "anchor": "y",
         "domain": [
          0,
          1
         ],
         "title": {
          "text": "x"
         }
        },
        "yaxis": {
         "anchor": "x",
         "domain": [
          0,
          1
         ],
         "title": {
          "text": "loss"
         }
        }
       }
      }
     },
     "metadata": {},
     "output_type": "display_data"
    }
   ],
   "source": [
    "\n",
    "#print(y_train.shape)\n",
    "\n",
    "def predict(w, xs):\n",
    "    return xs @ w\n",
    "\n",
    "def evaluate(w, xs, ys):\n",
    "    return mse(ys, predict(w, xs))\n",
    "\n",
    "def evaluate_msle(w, xs, ys):\n",
    "    return msle(ys, predict(w, xs))\n",
    "\n",
    "def linear_regression(n_epochs, lr, w, x, y, eval_fun = evaluate):\n",
    "    losses = [eval_fun(w, x, y)]\n",
    "\n",
    "    for i in range(n_epochs):\n",
    "        y_hat = predict(w, x)\n",
    "        dJdwi = np.sum((y_hat - y) * x, axis = 0)\n",
    "\n",
    "        w = w - (2/n) * (lr * dJdwi).reshape(-1,1)\n",
    "\n",
    "        loss = eval_fun(w, x, y)\n",
    "        losses.append(loss)\n",
    "\n",
    "        if i == 0 or (i+1) % 200 == 0:\n",
    "            print(f'Iter: {i:>3} Loss: {loss:8.8f} w: {[f\"{x[0]:.2f}\" for x in w]}')\n",
    "\n",
    "    return (w, losses)\n",
    "\n",
    "(w_mse, losses1) = linear_regression(n_epochs, lr, w, x_train, y_train, evaluate_msle)\n",
    "\n",
    "\"\"\n",
    "import plotly.express as px\n",
    "def plot_loss(l):\n",
    "    fig = px.line(y=l, labels={'y':'loss'})\n",
    "    fig.show()\n",
    "\n",
    "plot_loss(losses1)"
   ]
  },
  {
   "cell_type": "markdown",
   "metadata": {
    "id": "nzrrOte5-Eol"
   },
   "source": [
    "Note that the loss function that the algorithms optimizes (i.e $MSE$) differs from $MSLE$. We've already seen that this may result in a suboptimal solution.\n",
    "\n",
    "How can you change the setting so that we optimze $MSLE$ instead?"
   ]
  },
  {
   "cell_type": "markdown",
   "metadata": {
    "id": "qVD8kWEJ-Eom"
   },
   "source": [
    "Hint:\n",
    "<sub><sup><sub><sup><sub><sup>\n",
    "Be lazy. We don't want to change the algorithm.\n",
    "</sup></sub></sup></sub></sup></sub>"
   ]
  },
  {
   "cell_type": "code",
   "execution_count": 52,
   "metadata": {
    "id": "MniIPMg8-Eom"
   },
   "outputs": [
    {
     "name": "stdout",
     "output_type": "stream",
     "text": [
      "Iter:   0 Loss: 0.02699879 w: ['0.10', '0.07', '0.08', '0.07', '0.10', '0.05', '0.02', '0.03', '0.03', '0.02']\n",
      "Iter: 199 Loss: 0.00154459 w: ['-0.04', '0.43', '0.29', '0.22', '-0.04', '0.01', '-0.13', '0.07', '0.07', '-0.06']\n"
     ]
    },
    {
     "data": {
      "application/vnd.plotly.v1+json": {
       "config": {
        "plotlyServerURL": "https://plot.ly"
       },
       "data": [
        {
         "hovertemplate": "x=%{x}<br>loss=%{y}<extra></extra>",
         "legendgroup": "",
         "line": {
          "color": "#636efa",
          "dash": "solid"
         },
         "marker": {
          "symbol": "circle"
         },
         "mode": "lines",
         "name": "",
         "orientation": "v",
         "showlegend": false,
         "type": "scatter",
         "x": [
          0,
          1,
          2,
          3,
          4,
          5,
          6,
          7,
          8,
          9,
          10,
          11,
          12,
          13,
          14,
          15,
          16,
          17,
          18,
          19,
          20,
          21,
          22,
          23,
          24,
          25,
          26,
          27,
          28,
          29,
          30,
          31,
          32,
          33,
          34,
          35,
          36,
          37,
          38,
          39,
          40,
          41,
          42,
          43,
          44,
          45,
          46,
          47,
          48,
          49,
          50,
          51,
          52,
          53,
          54,
          55,
          56,
          57,
          58,
          59,
          60,
          61,
          62,
          63,
          64,
          65,
          66,
          67,
          68,
          69,
          70,
          71,
          72,
          73,
          74,
          75,
          76,
          77,
          78,
          79,
          80,
          81,
          82,
          83,
          84,
          85,
          86,
          87,
          88,
          89,
          90,
          91,
          92,
          93,
          94,
          95,
          96,
          97,
          98,
          99,
          100,
          101,
          102,
          103,
          104,
          105,
          106,
          107,
          108,
          109,
          110,
          111,
          112,
          113,
          114,
          115,
          116,
          117,
          118,
          119,
          120,
          121,
          122,
          123,
          124,
          125,
          126,
          127,
          128,
          129,
          130,
          131,
          132,
          133,
          134,
          135,
          136,
          137,
          138,
          139,
          140,
          141,
          142,
          143,
          144,
          145,
          146,
          147,
          148,
          149,
          150,
          151,
          152,
          153,
          154,
          155,
          156,
          157,
          158,
          159,
          160,
          161,
          162,
          163,
          164,
          165,
          166,
          167,
          168,
          169,
          170,
          171,
          172,
          173,
          174,
          175,
          176,
          177,
          178,
          179,
          180,
          181,
          182,
          183,
          184,
          185,
          186,
          187,
          188,
          189,
          190,
          191,
          192,
          193,
          194,
          195,
          196,
          197,
          198,
          199,
          200,
          201,
          202,
          203,
          204,
          205,
          206,
          207,
          208,
          209,
          210,
          211,
          212,
          213,
          214,
          215,
          216,
          217,
          218,
          219,
          220,
          221,
          222,
          223,
          224,
          225,
          226,
          227,
          228,
          229,
          230,
          231,
          232,
          233,
          234,
          235,
          236,
          237,
          238,
          239,
          240,
          241,
          242,
          243,
          244,
          245,
          246,
          247,
          248,
          249,
          250
         ],
         "xaxis": "x",
         "y": [
          0.16052718361833157,
          0.026998794734322904,
          0.016102512415931053,
          0.014602912872720468,
          0.013866209647107124,
          0.013230571693378575,
          0.012642044361976131,
          0.01209330963182619,
          0.011580886314397867,
          0.01110184261929353,
          0.010653522279659652,
          0.010233502484146907,
          0.009839571422601208,
          0.009469709094505866,
          0.009122069970770107,
          0.008794967253270378,
          0.008486858578206904,
          0.008196333029536085,
          0.007922099341574718,
          0.007662975181097804,
          0.007417877409404522,
          0.00718581323403553,
          0.006965872168179303,
          0.006757218723385211,
          0.006559085768078267,
          0.0063707684906105025,
          0.006191618911245669,
          0.0060210408926111335,
          0.0058584856028123,
          0.005703447389634591,
          0.005555460028096084,
          0.0054140933070967925,
          0.005278949924070914,
          0.005149662659416549,
          0.005025891805079939,
          0.0049073228240333125,
          0.0047936642195289545,
          0.004684645594957422,
          0.004580015886903416,
          0.004479541755595144,
          0.004383006118397408,
          0.004290206813318493,
          0.004200955380699205,
          0.004115075952339687,
          0.004032404238306844,
          0.003952786602561149,
          0.0038760792193549276,
          0.003802147303092565,
          0.0037308644050132347,
          0.003662111770665275,
          0.0035957777526936397,
          0.0035317572739633576,
          0.00346995133649722,
          0.003410266572119275,
          0.0033526148310710096,
          0.0032969128052079467,
          0.0032430816826937115,
          0.003191046831389712,
          0.0031407375083936464,
          0.003092086593411835,
          0.003045030343860727,
          0.0029995081697841187,
          0.0029554624268461204,
          0.0029128382258176147,
          0.0028715832571171184,
          0.002831647629097043,
          0.0027929837188845064,
          0.0027555460346932116,
          0.0027192910886203927,
          0.002684177279031488,
          0.0026501647817156714,
          0.0026172154490685653,
          0.002585292716624878,
          0.002554361516324258,
          0.002524388195948394,
          0.0024953404442174926,
          0.002467187221079502,
          0.0024398986927667717,
          0.002413446171232324,
          0.0023878020576120424,
          0.002362939789390037,
          0.0023388337909727554,
          0.002315459427402939,
          0.0022927929609680075,
          0.002270811510478541,
          0.002249493013012013,
          0.002228816187934359,
          0.0022087605030281115,
          0.002189306142570305,
          0.0021704339772166854,
          0.002152125535560821,
          0.0021343629772477162,
          0.002117129067531589,
          0.0021004071531765625,
          0.002084181139607404,
          0.0020684354692250186,
          0.0020531551008083015,
          0.002038325489930335,
          0.0020239325703226285,
          0.0020099627361263696,
          0.0019964028249744924,
          0.0019832401018526923,
          0.0019704622436916195,
          0.001958057324646019,
          0.001946013802020074,
          0.0019343205028011612,
          0.0019229666107670937,
          0.0019119416541344514,
          0.0019012354937180155,
          0.0018908383115733797,
          0.0018807406000968723,
          0.0018709331515586953,
          0.0018614070480468612,
          0.0018521536518010023,
          0.0018431645959165988,
          0.0018344317754013873,
          0.0018259473385669467,
          0.0018177036787395348,
          0.001809693426275259,
          0.001801909440865588,
          0.0017943448041200765,
          0.0017869928124139636,
          0.0017798469699890271,
          0.0017729009822967752,
          0.001766148749573662,
          0.001759584360638599,
          0.001753202086903583,
          0.0017469963765887504,
          0.0017409618491336393,
          0.0017350932897968654,
          0.0017293856444368305,
          0.0017238340144664415,
          0.0017184336519751946,
          0.001713179955012274,
          0.0017080684630246402,
          0.0017030948524443745,
          0.0016982549324197863,
          0.0016935446406850748,
          0.0016889600395635462,
          0.0016844973120996299,
          0.0016801527583151215,
          0.0016759227915853132,
          0.0016718039351308052,
          0.0016677928186210294,
          0.001663886174885624,
          0.0016600808367299923,
          0.001656373733851506,
          0.0016527618898529745,
          0.0016492424193500967,
          0.0016458125251697926,
          0.0016424694956363678,
          0.0016392107019426517,
          0.001636033595603275,
          0.001632935705987436,
          0.0016299146379285426,
          0.0016269680694082512,
          0.0016240937493124774,
          0.0016212894952570953,
          0.0016185531914810348,
          0.0016158827868046738,
          0.0016132762926514051,
          0.0016107317811303746,
          0.0016082473831784561,
          0.0016058212867595839,
          0.0016034517351196198,
          0.0016011370250950203,
          0.0015988755054735927,
          0.001596665575405725,
          0.0015945056828644828,
          0.001592394323153063,
          0.0015903300374581174,
          0.0015883114114475095,
          0.0015863370739111326,
          0.0015844056954434358,
          0.0015825159871663648,
          0.0015806666994914766,
          0.0015788566209199914,
          0.0015770845768796188,
          0.0015753494285970235,
          0.0015736500720048207,
          0.0015719854366820318,
          0.0015703544848269851,
          0.0015687562102616398,
          0.0015671896374663686,
          0.0015656538206442838,
          0.0015641478428141586,
          0.0015626708149310987,
          0.001561221875034089,
          0.0015598001874196025,
          0.0015584049418404622,
          0.0015570353527291833,
          0.0015556906584450487,
          0.0015543701205441823,
          0.0015530730230719214,
          0.0015517986718767995,
          0.00155054639394548,
          0.0015493155367580036,
          0.001548105467662711,
          0.0015469155732702605,
          0.0015457452588661402,
          0.0015445939478411152,
          0.0015434610811390563,
          0.0015423461167216263,
          0.0015412485290493033,
          0.001540167808578235,
          0.0015391034612724588,
          0.0015380550081309989,
          0.001537021984729387,
          0.0015360039407751906,
          0.00153500043967708,
          0.0015340110581270594,
          0.0015330353856954331,
          0.0015320730244381365,
          0.0015311235885160338,
          0.0015301867038258429,
          0.0015292620076423067,
          0.0015283491482712842,
          0.001527447784713426,
          0.0015265575863381026,
          0.0015256782325672792,
          0.001524809412569036,
          0.0015239508249604294,
          0.0015231021775194227,
          0.0015222631869055991,
          0.0015214335783893902,
          0.0015206130855895637,
          0.0015198014502187196,
          0.0015189984218365454,
          0.001518203757610594,
          0.001517417222084359,
          0.0015166385869524238,
          0.0015158676308424678,
          0.0015151041391039122,
          0.0015143479036030232,
          0.0015135987225242543,
          0.0015128564001776485,
          0.0015121207468121167,
          0.0015113915784344032,
          0.0015106687166335795,
          0.001509951988410882,
          0.0015092412260147448,
          0.0015085362667808582,
          0.0015078369529771052,
          0.0015071431316532294,
          0.0015064546544950796,
          0.0015057713776833082,
          0.0015050931617563673,
          0.0015044198714776944,
          0.001503751375706936,
          0.0015030875472751045,
          0.00150242826286354
         ],
         "yaxis": "y"
        }
       ],
       "layout": {
        "legend": {
         "tracegroupgap": 0
        },
        "margin": {
         "t": 60
        },
        "template": {
         "data": {
          "bar": [
           {
            "error_x": {
             "color": "#2a3f5f"
            },
            "error_y": {
             "color": "#2a3f5f"
            },
            "marker": {
             "line": {
              "color": "#E5ECF6",
              "width": 0.5
             },
             "pattern": {
              "fillmode": "overlay",
              "size": 10,
              "solidity": 0.2
             }
            },
            "type": "bar"
           }
          ],
          "barpolar": [
           {
            "marker": {
             "line": {
              "color": "#E5ECF6",
              "width": 0.5
             },
             "pattern": {
              "fillmode": "overlay",
              "size": 10,
              "solidity": 0.2
             }
            },
            "type": "barpolar"
           }
          ],
          "carpet": [
           {
            "aaxis": {
             "endlinecolor": "#2a3f5f",
             "gridcolor": "white",
             "linecolor": "white",
             "minorgridcolor": "white",
             "startlinecolor": "#2a3f5f"
            },
            "baxis": {
             "endlinecolor": "#2a3f5f",
             "gridcolor": "white",
             "linecolor": "white",
             "minorgridcolor": "white",
             "startlinecolor": "#2a3f5f"
            },
            "type": "carpet"
           }
          ],
          "choropleth": [
           {
            "colorbar": {
             "outlinewidth": 0,
             "ticks": ""
            },
            "type": "choropleth"
           }
          ],
          "contour": [
           {
            "colorbar": {
             "outlinewidth": 0,
             "ticks": ""
            },
            "colorscale": [
             [
              0,
              "#0d0887"
             ],
             [
              0.1111111111111111,
              "#46039f"
             ],
             [
              0.2222222222222222,
              "#7201a8"
             ],
             [
              0.3333333333333333,
              "#9c179e"
             ],
             [
              0.4444444444444444,
              "#bd3786"
             ],
             [
              0.5555555555555556,
              "#d8576b"
             ],
             [
              0.6666666666666666,
              "#ed7953"
             ],
             [
              0.7777777777777778,
              "#fb9f3a"
             ],
             [
              0.8888888888888888,
              "#fdca26"
             ],
             [
              1,
              "#f0f921"
             ]
            ],
            "type": "contour"
           }
          ],
          "contourcarpet": [
           {
            "colorbar": {
             "outlinewidth": 0,
             "ticks": ""
            },
            "type": "contourcarpet"
           }
          ],
          "heatmap": [
           {
            "colorbar": {
             "outlinewidth": 0,
             "ticks": ""
            },
            "colorscale": [
             [
              0,
              "#0d0887"
             ],
             [
              0.1111111111111111,
              "#46039f"
             ],
             [
              0.2222222222222222,
              "#7201a8"
             ],
             [
              0.3333333333333333,
              "#9c179e"
             ],
             [
              0.4444444444444444,
              "#bd3786"
             ],
             [
              0.5555555555555556,
              "#d8576b"
             ],
             [
              0.6666666666666666,
              "#ed7953"
             ],
             [
              0.7777777777777778,
              "#fb9f3a"
             ],
             [
              0.8888888888888888,
              "#fdca26"
             ],
             [
              1,
              "#f0f921"
             ]
            ],
            "type": "heatmap"
           }
          ],
          "heatmapgl": [
           {
            "colorbar": {
             "outlinewidth": 0,
             "ticks": ""
            },
            "colorscale": [
             [
              0,
              "#0d0887"
             ],
             [
              0.1111111111111111,
              "#46039f"
             ],
             [
              0.2222222222222222,
              "#7201a8"
             ],
             [
              0.3333333333333333,
              "#9c179e"
             ],
             [
              0.4444444444444444,
              "#bd3786"
             ],
             [
              0.5555555555555556,
              "#d8576b"
             ],
             [
              0.6666666666666666,
              "#ed7953"
             ],
             [
              0.7777777777777778,
              "#fb9f3a"
             ],
             [
              0.8888888888888888,
              "#fdca26"
             ],
             [
              1,
              "#f0f921"
             ]
            ],
            "type": "heatmapgl"
           }
          ],
          "histogram": [
           {
            "marker": {
             "pattern": {
              "fillmode": "overlay",
              "size": 10,
              "solidity": 0.2
             }
            },
            "type": "histogram"
           }
          ],
          "histogram2d": [
           {
            "colorbar": {
             "outlinewidth": 0,
             "ticks": ""
            },
            "colorscale": [
             [
              0,
              "#0d0887"
             ],
             [
              0.1111111111111111,
              "#46039f"
             ],
             [
              0.2222222222222222,
              "#7201a8"
             ],
             [
              0.3333333333333333,
              "#9c179e"
             ],
             [
              0.4444444444444444,
              "#bd3786"
             ],
             [
              0.5555555555555556,
              "#d8576b"
             ],
             [
              0.6666666666666666,
              "#ed7953"
             ],
             [
              0.7777777777777778,
              "#fb9f3a"
             ],
             [
              0.8888888888888888,
              "#fdca26"
             ],
             [
              1,
              "#f0f921"
             ]
            ],
            "type": "histogram2d"
           }
          ],
          "histogram2dcontour": [
           {
            "colorbar": {
             "outlinewidth": 0,
             "ticks": ""
            },
            "colorscale": [
             [
              0,
              "#0d0887"
             ],
             [
              0.1111111111111111,
              "#46039f"
             ],
             [
              0.2222222222222222,
              "#7201a8"
             ],
             [
              0.3333333333333333,
              "#9c179e"
             ],
             [
              0.4444444444444444,
              "#bd3786"
             ],
             [
              0.5555555555555556,
              "#d8576b"
             ],
             [
              0.6666666666666666,
              "#ed7953"
             ],
             [
              0.7777777777777778,
              "#fb9f3a"
             ],
             [
              0.8888888888888888,
              "#fdca26"
             ],
             [
              1,
              "#f0f921"
             ]
            ],
            "type": "histogram2dcontour"
           }
          ],
          "mesh3d": [
           {
            "colorbar": {
             "outlinewidth": 0,
             "ticks": ""
            },
            "type": "mesh3d"
           }
          ],
          "parcoords": [
           {
            "line": {
             "colorbar": {
              "outlinewidth": 0,
              "ticks": ""
             }
            },
            "type": "parcoords"
           }
          ],
          "pie": [
           {
            "automargin": true,
            "type": "pie"
           }
          ],
          "scatter": [
           {
            "fillpattern": {
             "fillmode": "overlay",
             "size": 10,
             "solidity": 0.2
            },
            "type": "scatter"
           }
          ],
          "scatter3d": [
           {
            "line": {
             "colorbar": {
              "outlinewidth": 0,
              "ticks": ""
             }
            },
            "marker": {
             "colorbar": {
              "outlinewidth": 0,
              "ticks": ""
             }
            },
            "type": "scatter3d"
           }
          ],
          "scattercarpet": [
           {
            "marker": {
             "colorbar": {
              "outlinewidth": 0,
              "ticks": ""
             }
            },
            "type": "scattercarpet"
           }
          ],
          "scattergeo": [
           {
            "marker": {
             "colorbar": {
              "outlinewidth": 0,
              "ticks": ""
             }
            },
            "type": "scattergeo"
           }
          ],
          "scattergl": [
           {
            "marker": {
             "colorbar": {
              "outlinewidth": 0,
              "ticks": ""
             }
            },
            "type": "scattergl"
           }
          ],
          "scattermapbox": [
           {
            "marker": {
             "colorbar": {
              "outlinewidth": 0,
              "ticks": ""
             }
            },
            "type": "scattermapbox"
           }
          ],
          "scatterpolar": [
           {
            "marker": {
             "colorbar": {
              "outlinewidth": 0,
              "ticks": ""
             }
            },
            "type": "scatterpolar"
           }
          ],
          "scatterpolargl": [
           {
            "marker": {
             "colorbar": {
              "outlinewidth": 0,
              "ticks": ""
             }
            },
            "type": "scatterpolargl"
           }
          ],
          "scatterternary": [
           {
            "marker": {
             "colorbar": {
              "outlinewidth": 0,
              "ticks": ""
             }
            },
            "type": "scatterternary"
           }
          ],
          "surface": [
           {
            "colorbar": {
             "outlinewidth": 0,
             "ticks": ""
            },
            "colorscale": [
             [
              0,
              "#0d0887"
             ],
             [
              0.1111111111111111,
              "#46039f"
             ],
             [
              0.2222222222222222,
              "#7201a8"
             ],
             [
              0.3333333333333333,
              "#9c179e"
             ],
             [
              0.4444444444444444,
              "#bd3786"
             ],
             [
              0.5555555555555556,
              "#d8576b"
             ],
             [
              0.6666666666666666,
              "#ed7953"
             ],
             [
              0.7777777777777778,
              "#fb9f3a"
             ],
             [
              0.8888888888888888,
              "#fdca26"
             ],
             [
              1,
              "#f0f921"
             ]
            ],
            "type": "surface"
           }
          ],
          "table": [
           {
            "cells": {
             "fill": {
              "color": "#EBF0F8"
             },
             "line": {
              "color": "white"
             }
            },
            "header": {
             "fill": {
              "color": "#C8D4E3"
             },
             "line": {
              "color": "white"
             }
            },
            "type": "table"
           }
          ]
         },
         "layout": {
          "annotationdefaults": {
           "arrowcolor": "#2a3f5f",
           "arrowhead": 0,
           "arrowwidth": 1
          },
          "autotypenumbers": "strict",
          "coloraxis": {
           "colorbar": {
            "outlinewidth": 0,
            "ticks": ""
           }
          },
          "colorscale": {
           "diverging": [
            [
             0,
             "#8e0152"
            ],
            [
             0.1,
             "#c51b7d"
            ],
            [
             0.2,
             "#de77ae"
            ],
            [
             0.3,
             "#f1b6da"
            ],
            [
             0.4,
             "#fde0ef"
            ],
            [
             0.5,
             "#f7f7f7"
            ],
            [
             0.6,
             "#e6f5d0"
            ],
            [
             0.7,
             "#b8e186"
            ],
            [
             0.8,
             "#7fbc41"
            ],
            [
             0.9,
             "#4d9221"
            ],
            [
             1,
             "#276419"
            ]
           ],
           "sequential": [
            [
             0,
             "#0d0887"
            ],
            [
             0.1111111111111111,
             "#46039f"
            ],
            [
             0.2222222222222222,
             "#7201a8"
            ],
            [
             0.3333333333333333,
             "#9c179e"
            ],
            [
             0.4444444444444444,
             "#bd3786"
            ],
            [
             0.5555555555555556,
             "#d8576b"
            ],
            [
             0.6666666666666666,
             "#ed7953"
            ],
            [
             0.7777777777777778,
             "#fb9f3a"
            ],
            [
             0.8888888888888888,
             "#fdca26"
            ],
            [
             1,
             "#f0f921"
            ]
           ],
           "sequentialminus": [
            [
             0,
             "#0d0887"
            ],
            [
             0.1111111111111111,
             "#46039f"
            ],
            [
             0.2222222222222222,
             "#7201a8"
            ],
            [
             0.3333333333333333,
             "#9c179e"
            ],
            [
             0.4444444444444444,
             "#bd3786"
            ],
            [
             0.5555555555555556,
             "#d8576b"
            ],
            [
             0.6666666666666666,
             "#ed7953"
            ],
            [
             0.7777777777777778,
             "#fb9f3a"
            ],
            [
             0.8888888888888888,
             "#fdca26"
            ],
            [
             1,
             "#f0f921"
            ]
           ]
          },
          "colorway": [
           "#636efa",
           "#EF553B",
           "#00cc96",
           "#ab63fa",
           "#FFA15A",
           "#19d3f3",
           "#FF6692",
           "#B6E880",
           "#FF97FF",
           "#FECB52"
          ],
          "font": {
           "color": "#2a3f5f"
          },
          "geo": {
           "bgcolor": "white",
           "lakecolor": "white",
           "landcolor": "#E5ECF6",
           "showlakes": true,
           "showland": true,
           "subunitcolor": "white"
          },
          "hoverlabel": {
           "align": "left"
          },
          "hovermode": "closest",
          "mapbox": {
           "style": "light"
          },
          "paper_bgcolor": "white",
          "plot_bgcolor": "#E5ECF6",
          "polar": {
           "angularaxis": {
            "gridcolor": "white",
            "linecolor": "white",
            "ticks": ""
           },
           "bgcolor": "#E5ECF6",
           "radialaxis": {
            "gridcolor": "white",
            "linecolor": "white",
            "ticks": ""
           }
          },
          "scene": {
           "xaxis": {
            "backgroundcolor": "#E5ECF6",
            "gridcolor": "white",
            "gridwidth": 2,
            "linecolor": "white",
            "showbackground": true,
            "ticks": "",
            "zerolinecolor": "white"
           },
           "yaxis": {
            "backgroundcolor": "#E5ECF6",
            "gridcolor": "white",
            "gridwidth": 2,
            "linecolor": "white",
            "showbackground": true,
            "ticks": "",
            "zerolinecolor": "white"
           },
           "zaxis": {
            "backgroundcolor": "#E5ECF6",
            "gridcolor": "white",
            "gridwidth": 2,
            "linecolor": "white",
            "showbackground": true,
            "ticks": "",
            "zerolinecolor": "white"
           }
          },
          "shapedefaults": {
           "line": {
            "color": "#2a3f5f"
           }
          },
          "ternary": {
           "aaxis": {
            "gridcolor": "white",
            "linecolor": "white",
            "ticks": ""
           },
           "baxis": {
            "gridcolor": "white",
            "linecolor": "white",
            "ticks": ""
           },
           "bgcolor": "#E5ECF6",
           "caxis": {
            "gridcolor": "white",
            "linecolor": "white",
            "ticks": ""
           }
          },
          "title": {
           "x": 0.05
          },
          "xaxis": {
           "automargin": true,
           "gridcolor": "white",
           "linecolor": "white",
           "ticks": "",
           "title": {
            "standoff": 15
           },
           "zerolinecolor": "white",
           "zerolinewidth": 2
          },
          "yaxis": {
           "automargin": true,
           "gridcolor": "white",
           "linecolor": "white",
           "ticks": "",
           "title": {
            "standoff": 15
           },
           "zerolinecolor": "white",
           "zerolinewidth": 2
          }
         }
        },
        "xaxis": {
         "anchor": "y",
         "domain": [
          0,
          1
         ],
         "title": {
          "text": "x"
         }
        },
        "yaxis": {
         "anchor": "x",
         "domain": [
          0,
          1
         ],
         "title": {
          "text": "loss"
         }
        }
       }
      }
     },
     "metadata": {},
     "output_type": "display_data"
    }
   ],
   "source": [
    "#############################################\n",
    "# TODO: Optimize msle and compare the error #\n",
    "#############################################\n",
    "\n",
    "(w_msle, l2) = linear_regression(n_epochs, lr, w, np.log(x_train + 1), np.log(y_train + 1))\n",
    "\n",
    "plot_loss(l2)"
   ]
  },
  {
   "cell_type": "markdown",
   "metadata": {
    "id": "OvWrBkLu-Eoo"
   },
   "source": [
    "Without any feature engineering our model approximates the price as a linear combination of original features:\n",
    "$$\n",
    "\\text{price} \\approx w_1 \\cdot \\text{area} + w_2 \\cdot \\text{district} + \\dots.\n",
    "$$\n",
    "Let's now introduce some interactions between the variables. For instance, let's consider a following formula:\n",
    "$$\n",
    "\\text{price} \\approx w_1 \\cdot \\text{area} \\cdot \\text{avg. price in the district per sq. meter} + w_2 \\cdot \\dots + \\dots.\n",
    "$$\n",
    "Here, we model the price with far greater granularity, and we may expect to see more acurate results."
   ]
  },
  {
   "cell_type": "markdown",
   "metadata": {
    "id": "zBM60E7t-Eop"
   },
   "source": [
    "Add some feature engineering to your model. Be sure to play with the data and not with the algorithm's code.\n",
    "\n",
    "Think how to make sure that your model is capable of capturing the $w_1 \\cdot \\text{area} \\cdot \\text{avg. price...}$ part, without actually computing the averages."
   ]
  },
  {
   "cell_type": "markdown",
   "metadata": {
    "id": "XT5DziNC-Eoq"
   },
   "source": [
    "Hint:\n",
    "<sub><sup><sub><sup><sub><sup>\n",
    "Is having a binary encoding for each district and multiplying it by area enough?\n",
    "</sup></sub></sup></sub></sup></sub>"
   ]
  },
  {
   "cell_type": "markdown",
   "metadata": {
    "id": "PKOVCHNz-Eor"
   },
   "source": [
    "Hint 2:\n",
    "<sub><sup><sub><sup><sub><sup>\n",
    "Why not multiply everything together? I.e. (A,B,C) -> (AB,AC,BC).\n",
    "</sup></sub></sup></sub></sup></sub>"
   ]
  },
  {
   "cell_type": "code",
   "execution_count": 53,
   "metadata": {
    "id": "DPviz09O-Eor"
   },
   "outputs": [
    {
     "name": "stdout",
     "output_type": "stream",
     "text": [
      "Iter:   0 Loss: 0.03794292 w: ['0.18', '0.12', '0.14', '0.12', '0.18', '0.09', '0.03', '0.06', '0.06', '0.04', '0.02', '0.04', '0.04', '0.03']\n",
      "Iter: 199 Loss: 0.00067180 w: ['-0.02', '0.40', '0.23', '0.15', '-0.02', '0.01', '-0.03', '0.02', '-0.00', '-0.01', '-0.10', '0.22', '0.28', '-0.00']\n",
      "optimizing mse^\n",
      "\n",
      "Iter:   0 Loss: 0.02467929 w: ['0.10', '0.07', '0.08', '0.07', '0.10', '0.05', '0.02', '0.03', '0.03', '0.02', '0.01', '0.02', '0.02', '0.02']\n",
      "Iter: 199 Loss: 0.00079184 w: ['-0.03', '0.38', '0.26', '0.19', '-0.03', '0.01', '-0.06', '0.04', '0.02', '-0.02', '-0.03', '0.16', '0.20', '0.04']\n",
      "optimizing msle^\n"
     ]
    }
   ],
   "source": [
    "###############################################\n",
    "# TODO: Implement the feature engineering part #\n",
    "###############################################\n",
    "\n",
    "def add_avg_price(x_train, districts = districts):\n",
    "    districts_cols = x_train.T[-districts:]\n",
    "    avg_price = x_train.T[1] * districts_cols\n",
    "    ex_train = np.vstack([x_train.T, avg_price]).T #appended new features\n",
    "\n",
    "    return ex_train\n",
    "\n",
    "ex_train = add_avg_price(x_train)\n",
    "\n",
    "#print(ex_train.T[9:])\n",
    "efeatures = ex_train.shape[1]\n",
    "ew = np.zeros(efeatures).reshape(-1, 1)\n",
    "\n",
    "(ew_mse, _) = linear_regression(n_epochs, lr, ew, ex_train, y_train, eval_fun=evaluate_msle)\n",
    "print('optimizing mse^\\n')\n",
    "(ew_msle, _) = linear_regression(n_epochs, lr, ew, np.log(1 + ex_train), np.log(1 + y_train))\n",
    "print('optimizing msle^')\n"
   ]
  },
  {
   "cell_type": "code",
   "execution_count": 54,
   "metadata": {},
   "outputs": [
    {
     "name": "stdout",
     "output_type": "stream",
     "text": [
      "Test accuracies:\n",
      "MSE: 0.003997138382053667 \n",
      "MSLE: 0.0018071128203093123\n",
      "\n",
      "omse^     omsle\\/\n",
      "MSE: 0.004420362293649104 \n",
      "MSLE: 0.0020094707581270743\n",
      "\n",
      "MSE: 0.0012601271497606206 \n",
      "MSLE: 0.0006040250205272509\n",
      "\n",
      "eomse^    ewomsle\\/\n",
      "MSE: 0.002353637445160785 \n",
      "MSLE: 0.0010727266737188587\n",
      "\n"
     ]
    }
   ],
   "source": [
    "### Check models on test data\n",
    "\n",
    "x_norm, y_norm\n",
    "\n",
    "def prepare_x(x, features):\n",
    "    x = one_hot(x)\n",
    "    x = add_column(1, x)\n",
    "\n",
    "    for i in range(x.shape[1]):\n",
    "        max = x_norm[i]\n",
    "        x.T[i] /= max\n",
    "    \n",
    "    if features == x.shape[1]:\n",
    "        return x\n",
    "    else:\n",
    "        return add_avg_price(x)\n",
    "\n",
    "def check_loss(w, x_ = x_test, y_ = y_test):\n",
    "    features = w.shape[0]\n",
    "    x_ = prepare_x(x_, features).astype(np.float64)  \n",
    "    y_= (y_/ y_norm).reshape(-1,1)\n",
    "\n",
    "    print(f\"MSE: {mse(predict(w, x_), y_)} \\nMSLE: {msle(predict(w, x_), y_)}\\n\")\n",
    "\n",
    "print(\"Test accuracies:\")\n",
    "check_loss(w_mse)\n",
    "print(\"omse^     omsle\\\\/\")\n",
    "check_loss(w_msle)\n",
    "check_loss(ew_mse)\n",
    "print(\"eomse^    ewomsle\\\\/\")\n",
    "check_loss(ew_msle)"
   ]
  }
 ],
 "metadata": {
  "colab": {
   "provenance": [
    {
     "file_id": "https://github.com/mim-ml-teaching/public-dnn-2024-25/blob/master/docs/DNN-Lab-1-MSLE-student-version.ipynb",
     "timestamp": 1728988319829
    }
   ]
  },
  "kernelspec": {
   "display_name": "venv",
   "language": "python",
   "name": "python3"
  },
  "language_info": {
   "codemirror_mode": {
    "name": "ipython",
    "version": 3
   },
   "file_extension": ".py",
   "mimetype": "text/x-python",
   "name": "python",
   "nbconvert_exporter": "python",
   "pygments_lexer": "ipython3",
   "version": "3.12.7"
  }
 },
 "nbformat": 4,
 "nbformat_minor": 0
}
