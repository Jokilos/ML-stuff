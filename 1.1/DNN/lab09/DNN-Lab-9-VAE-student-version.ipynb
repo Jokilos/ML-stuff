{
 "cells": [
  {
   "cell_type": "markdown",
   "metadata": {
    "id": "oc4H7ifG-FCI",
    "jukit_cell_id": "pIHQKkr9FK"
   },
   "source": [
    "## Variational AutoEncoders\n",
    "\n",
    "In this lab excercise you will train a Variational AutoEncoder to learn the distribution of the MNIST data. You will explore the latent space and learn how to generate new samples.\n",
    "\n",
    "Some notation:\n",
    "* $P^*$ is the true data distribution. We have some samples from this.\n",
    "* $p(z)$ is a *prior* distribution over the latent space. In our model it is multivariate gaussian distribution $N(0,\\mathbb{I})$.\n",
    "* $E(x)$ is the encoder that accepts data points as input and outputs distributions over the latent space $Z$. The produced distribution is denoted $q_\\phi(z|x)$ and is the (approximate) *posterior* distribution. In our model this is mutlivariate gaussian distribution $q_\\phi(z|x) \\sim N(\\mu, diag(\\sigma^2)$. Notes:\n",
    "    1. $\\phi$ are weights of the encoder network.\n",
    "    2. Encoder network accepts data points as input and outputs $\\mu$ and $\\sigma$, which are vectors of the same length as latent space. They are used to construct the approximate posterior distribution $q_\\phi(z|x)$.\n",
    "* $D(z)$ is the decoder that accepts samples from the latent distribution and output parameters of the the likelihood distribution $p_\\theta(x|z)$. In our model this is Bernoulli trial per each pixel $p_\\theta(x|z_0) \\sim Bern(p)$. Notes:\n",
    "    1. $\\theta$ are weights of the decoder network.\n",
    "    2. Decoder network accepts sample from the posterior distribution $q_\\phi(z|x)$ and outputs p, which is a matrix of the shape of the input image. Each value of the matrix is the parameter $\\pi$ of the Bernoulli trial $Bern(\\pi)$ for the corresponding pixel.\n",
    "    3. Data points are clipped to only contain values 0 and 1 so that the model could be trained in the given setup.\n",
    "\n",
    "Loss:\n",
    "The loss that is used is called ELBO (the Evidence Lower Bound).\n",
    "\n",
    "$$ELBO = \\mathbb{E}_{z \\sim q(z|x)} \\big[\\log p_\\theta(x|z)\\big] - \\mathbb{KL}\\big(q_\\phi(z | x) || p(z)\\big).$$\n",
    "\n",
    "The following equation holds:\n",
    "\n",
    "\n",
    "$$\\log p_{\\theta}(x) = ELBO + \\mathbb{KL}(q_\\theta(z|x) || p(z|x))$$\n",
    "\n",
    "Maximization of ELBO is equivalent of minimization of KL-divergence between to variational posterior distribution and the true posterior distribution.\n",
    "\n",
    "The first term of the loss is trained via stochastic gradient descent. The second term can be calculated analytically in our setup and is equal to:\n",
    "\n",
    "$$ \\mathbb{KL}\\big( \\mathcal{N}(\\mu, \\sigma^2) || \\mathcal{N}(0, 1) \\big) = \\frac12 \\big(\\sigma^2  - \\log(\\sigma^2) + \\mu^2 - 1 \\big).$$"
   ]
  },
  {
   "cell_type": "markdown",
   "metadata": {
    "id": "qXUastP5-FCJ",
    "jukit_cell_id": "RtyXwx9fPx"
   },
   "source": [
    "Tasks for the tutorial:\n",
    "1. Run the pipeline and verify that VAE is training and generating decent digit representation.\n",
    "2. Play with training parameters and / or network layers to better learn hidden representation of the data\n",
    "3. Implement sample_latent method in the VariationalAutoEncoder class, which accepts original image as input and outputs samples from the posterior distribution $q_\\phi(z|x)$.\n",
    "4. Implement sample method in the VariationalAutoEncoder class, which accepts sample size and optionally samples from the prior distribution. as input and outputs samples:\n",
    "    1. If samples are not avialable, take a sample $z_0 \\sim p(z)$ from the prior distribution.\n",
    "    2. Decode the latent $p_\\theta(x|z_0) = D_\\theta(z_0)$.\n",
    "    3. Sample a reconstruction from the likelihood: $x_0 \\sim p_\\theta(x|z_0)$.\n",
    "5. Explore the latent space. For each class encode a sample (>=100) of images of that class and take one parameters from the posterior distribution $q_\\phi(z|x)$ per image. Visualize samples as scatter plot. Remember to color points according to image classes!\n",
    "5. Sample two points $z_0, z_1$ from the prior distibution $p(z)$. Perform interpolation i.e. visualize how samples change based on points from segment ended by $z_0$ and $z_1$."
   ]
  },
  {
   "cell_type": "code",
   "execution_count": 1,
   "metadata": {
    "id": "wY7V_y6e-FCJ",
    "jukit_cell_id": "pDhDmcelEe"
   },
   "outputs": [],
   "source": [
    "import torch\n",
    "import torch.nn as nn\n",
    "import torch.nn.functional as F\n",
    "import torch.optim as optim\n",
    "from torchvision import datasets, transforms # type: ignore\n",
    "from torch.utils.data import DataLoader\n",
    "\n",
    "from collections import namedtuple\n",
    "import numpy as np\n",
    "import matplotlib.pyplot as plt"
   ]
  },
  {
   "cell_type": "code",
   "execution_count": 2,
   "metadata": {
    "id": "XefdMpOj-FCJ",
    "jukit_cell_id": "EiwAAcwFio"
   },
   "outputs": [],
   "source": [
    "batch_size = 1024\n",
    "test_batch_size = 1000\n",
    "epochs = 5\n",
    "lr = 5e-3\n",
    "seed = 1\n",
    "log_interval = 5\n",
    "latent_size = 10"
   ]
  },
  {
   "cell_type": "code",
   "execution_count": 3,
   "metadata": {
    "id": "R0sfJjEh-FCK",
    "jukit_cell_id": "Z87FGYM0il"
   },
   "outputs": [],
   "source": [
    "use_cuda = torch.cuda.is_available()\n",
    "\n",
    "torch.manual_seed(seed)\n",
    "device = torch.device(\"cuda\" if use_cuda else \"cpu\")\n",
    "\n",
    "train_kwargs = {'batch_size': batch_size}\n",
    "test_kwargs = {'batch_size': test_batch_size}\n",
    "if use_cuda:\n",
    "    cuda_kwargs = {'num_workers': 1,\n",
    "                    'pin_memory': True,\n",
    "                    'shuffle': True}\n",
    "    train_kwargs.update(cuda_kwargs)\n",
    "    test_kwargs.update(cuda_kwargs)"
   ]
  },
  {
   "cell_type": "code",
   "execution_count": 4,
   "metadata": {
    "id": "NZ5G3DxB-FCK",
    "jukit_cell_id": "xrVvSGrkSL"
   },
   "outputs": [],
   "source": [
    "def visualize_data(\n",
    "    images: np.ndarray,\n",
    "    labels: np.ndarray,\n",
    "    max_images: int,\n",
    "    max_fig_size=(30, 30)\n",
    "):\n",
    "\n",
    "    num_frames, num_channels, h, w, = images.shape\n",
    "    num_frames = min(num_frames, max_images)\n",
    "    ff, axes = plt.subplots(1, num_frames,\n",
    "                            figsize=max_fig_size,\n",
    "                            subplot_kw={'xticks': [], 'yticks': []})\n",
    "    if num_frames == 1:\n",
    "        axes = [axes]\n",
    "\n",
    "    for i in range(0, num_frames):\n",
    "        if num_channels == 3:\n",
    "            axes[i].imshow(np.squeeze(images[i]))\n",
    "        else:\n",
    "            axes[i].imshow(np.squeeze(images[i]), cmap='gray')\n",
    "        if labels is not None:\n",
    "            axes[i].set_title(labels[i].item(), fontsize=28)\n",
    "        plt.setp(axes[i].get_xticklabels(), visible=False)\n",
    "        plt.setp(axes[i].get_yticklabels(), visible=False)\n",
    "    ff.subplots_adjust(wspace=0.1)\n",
    "    plt.show()"
   ]
  },
  {
   "cell_type": "code",
   "execution_count": 5,
   "metadata": {
    "id": "YymQPDD5-FCK",
    "jukit_cell_id": "ZR40BQxeGP"
   },
   "outputs": [],
   "source": [
    "class Binarize:\n",
    "    def __call__(self, sample: torch.Tensor) -> torch.Tensor:\n",
    "        return torch.bernoulli(sample)\n",
    "\n",
    "transform=transforms.Compose([\n",
    "    transforms.ToTensor(),\n",
    "    Binarize()\n",
    "])\n",
    "\n",
    "dataset1 = datasets.MNIST('./data', train=True, download=True,\n",
    "                    transform=transform)\n",
    "dataset2 = datasets.MNIST('./data', train=False,\n",
    "                    transform=transform)\n",
    "\n",
    "train_loader = torch.utils.data.DataLoader(dataset1,**train_kwargs)\n",
    "test_loader = torch.utils.data.DataLoader(dataset2, **test_kwargs)"
   ]
  },
  {
   "cell_type": "code",
   "execution_count": 6,
   "metadata": {
    "id": "Eb_G_gyc-FCK",
    "jukit_cell_id": "D3EMM5HuMy"
   },
   "outputs": [
    {
     "data": {
      "image/png": "[encoded data removed]",
      "text/plain": [
       "<Figure size 3000x3000 with 8 Axes>"
      ]
     },
     "metadata": {},
     "output_type": "display_data"
    }
   ],
   "source": [
    "real_batch = next(iter(train_loader))\n",
    "visualize_data(real_batch[0], real_batch[1], 8)"
   ]
  },
  {
   "cell_type": "code",
   "execution_count": 9,
   "metadata": {
    "id": "V5uJu6vj-FCK",
    "jukit_cell_id": "lDWaCw7ncK"
   },
   "outputs": [],
   "source": [
    "EncoderOutput = namedtuple(\"EncoderOutput\", [\"mu\", \"sigma\"])\n",
    "\n",
    "class Encoder(nn.Module):\n",
    "    def __init__(\n",
    "        self,\n",
    "        linear_sizes: list[int],\n",
    "        latent_size: int\n",
    "    ):\n",
    "        super().__init__()\n",
    "        self.layers = nn.ModuleList()\n",
    "        for in_layer_size, out_layer_size in zip(linear_sizes, linear_sizes[1:]):\n",
    "            self.layers.append(nn.Linear(in_layer_size, out_layer_size))\n",
    "            self.layers.append(nn.BatchNorm1d(out_layer_size))\n",
    "            self.layers.append(nn.ReLU())\n",
    "\n",
    "        self.last_layer_mu = nn.Linear(linear_sizes[-1], latent_size)\n",
    "        self.last_layer_sigma = nn.Linear(linear_sizes[-1], latent_size)\n",
    "\n",
    "    def forward(self, x: torch.Tensor) -> torch.Tensor:\n",
    "        x = nn.Flatten()(x)\n",
    "        for layer in self.layers:\n",
    "            x = layer(x)\n",
    "\n",
    "        mu = self.last_layer_mu(x)\n",
    "        logsigma = self.last_layer_sigma(x)\n",
    "        return EncoderOutput(mu, torch.log(1 + torch.exp(logsigma)))"
   ]
  },
  {
   "cell_type": "code",
   "execution_count": 10,
   "metadata": {
    "id": "lfsCDhcQ-FCK",
    "jukit_cell_id": "gOtr8l8qF4"
   },
   "outputs": [],
   "source": [
    "class Decoder(nn.Module):\n",
    "    def __init__(\n",
    "        self,\n",
    "        linear_sizes: list[int],\n",
    "        output_size: tuple[int]\n",
    "    ):\n",
    "        super().__init__()\n",
    "        self.layers = nn.ModuleList()\n",
    "        for in_layer_size, out_layer_size in zip(linear_sizes, linear_sizes[1:]):\n",
    "            self.layers.append(nn.Linear(in_layer_size, out_layer_size))\n",
    "            self.layers.append(nn.BatchNorm1d(out_layer_size))\n",
    "            self.layers.append(nn.ReLU())\n",
    "\n",
    "        self.last_layer = nn.Sequential(\n",
    "            nn.Linear(linear_sizes[-1], output_size[0] * output_size[1]),\n",
    "            nn.Sigmoid()\n",
    "        )\n",
    "        self.output_size = output_size\n",
    "\n",
    "    def forward(self, z: torch.Tensor) -> torch.Tensor:\n",
    "        for layer in self.layers:\n",
    "            z = layer(z)\n",
    "\n",
    "        x = self.last_layer(z)\n",
    "\n",
    "        x = x.view(-1, 1, *self.output_size)\n",
    "        return x"
   ]
  },
  {
   "cell_type": "code",
   "execution_count": 11,
   "metadata": {
    "id": "aaESKiTG-FCL",
    "jukit_cell_id": "bhd31Y9iWU"
   },
   "outputs": [],
   "source": [
    "VariationalAutoEncoderOutput = namedtuple(\"VariationalAutoEncoderOutput\", [\"mu\", \"sigma\", \"p\"])\n",
    "\n",
    "\n",
    "class VariationalAutoEncoder(nn.Module):\n",
    "    def __init__(\n",
    "        self,\n",
    "        encoder_linear_sizes: list[int],\n",
    "        latent_size: int,\n",
    "        decoder_linear_sizes: list[int],\n",
    "        output_size: tuple[int]\n",
    "    ):\n",
    "        super().__init__()\n",
    "        self.encoder = Encoder(encoder_linear_sizes, latent_size)\n",
    "        self.decoder = Decoder(decoder_linear_sizes, output_size)\n",
    "        self.latent_size = latent_size\n",
    "        self.output_size = output_size\n",
    "\n",
    "    def forward(self, x: torch.Tensor) -> torch.Tensor:\n",
    "        encoded = self.encoder(x)\n",
    "\n",
    "        z = torch.normal(0., 1., size=list(encoded.mu.size())).to(device)\n",
    "        z = (z * encoded.sigma) + encoded.mu\n",
    "\n",
    "        decoded = self.decoder(z)\n",
    "        return VariationalAutoEncoderOutput(encoded.mu, encoded.sigma, decoded)\n",
    "\n",
    "    def sample_latent(self, x: torch.Tensor) -> torch.Tensor:\n",
    "        # TODO: Task 3.\n",
    "        pass\n",
    "\n",
    "    def sample(self, sample_size: int, samples=None) -> torch.Tensor:\n",
    "        # TODO: Task 4.\n",
    "        pass"
   ]
  },
  {
   "cell_type": "code",
   "execution_count": 12,
   "metadata": {
    "id": "4_r1lpXa-FCL",
    "jukit_cell_id": "lvLfQuqbgf"
   },
   "outputs": [],
   "source": [
    "def KL_gaussian_loss(mu, sigma):\n",
    "    return torch.mean(((sigma * sigma) - (2 * torch.log(sigma)) + (mu * mu) - 1) / 2)\n",
    "\n",
    "def ELBO(x, p, mu, sigma):\n",
    "    BCE = F.binary_cross_entropy(p, x)\n",
    "    KL = KL_gaussian_loss(mu, sigma)\n",
    "    return BCE + KL * 0.1"
   ]
  },
  {
   "cell_type": "code",
   "execution_count": 13,
   "metadata": {
    "id": "Zk9JPfZX-FCL",
    "jukit_cell_id": "yDxpIMfrnA"
   },
   "outputs": [],
   "source": [
    "def train(model: nn.Module, device: torch.device, train_loader: DataLoader,\n",
    "          optimizer: optim.Optimizer, epoch: int, log_interval: int):\n",
    "    model.train()\n",
    "    for batch_idx, (data, _) in enumerate(train_loader):\n",
    "        data = data.to(device)\n",
    "        optimizer.zero_grad()\n",
    "        output = model(data)\n",
    "        loss = ELBO(data, output.p, output.mu, output.sigma)\n",
    "        loss.backward()\n",
    "        optimizer.step()\n",
    "        if batch_idx % log_interval == 0:\n",
    "            print('Train Epoch: {} [{}/{} ({:.0f}%)]\\tLoss: {:.6f}'.format(\n",
    "                epoch, batch_idx * len(data), len(train_loader.dataset),\n",
    "                100. * batch_idx / len(train_loader), loss.item()))\n",
    "\n",
    "def test(model: nn.Module, device: torch.device, test_loader: DataLoader):\n",
    "    model.eval()\n",
    "    test_loss = 0.\n",
    "    with torch.no_grad():\n",
    "        for batch_idx, (data, _) in enumerate(test_loader):\n",
    "            data = data.to(device)\n",
    "            output = model(data)\n",
    "            loss = ELBO(data, output.p, output.mu, output.sigma)\n",
    "            test_loss = test_loss + (loss * data.size(0))\n",
    "\n",
    "    test_loss /= len(test_loader.dataset)\n",
    "\n",
    "    print('\\nTest set: Average loss: {:.4f}\\n'.format(test_loss))"
   ]
  },
  {
   "cell_type": "code",
   "execution_count": 14,
   "metadata": {
    "id": "m-WSVyBv-FCL",
    "jukit_cell_id": "8z8DaWFxZw"
   },
   "outputs": [],
   "source": [
    "vae = VariationalAutoEncoder([28 * 28, 500, 350], latent_size, [latent_size, 350, 500], (28, 28))\n",
    "vae.to(device)\n",
    "optimizer = optim.Adam(vae.parameters(), lr=lr)"
   ]
  },
  {
   "cell_type": "code",
   "execution_count": 15,
   "metadata": {
    "id": "and-7B8q-FCM",
    "jukit_cell_id": "0EgbJq8zsj"
   },
   "outputs": [
    {
     "ename": "NameError",
     "evalue": "name 'train_loader' is not defined",
     "output_type": "error",
     "traceback": [
      "\u001b[0;31m---------------------------------------------------------------------------\u001b[0m",
      "\u001b[0;31mNameError\u001b[0m                                 Traceback (most recent call last)",
      "Cell \u001b[0;32mIn[15], line 2\u001b[0m\n\u001b[1;32m      1\u001b[0m \u001b[38;5;28;01mfor\u001b[39;00m epoch \u001b[38;5;129;01min\u001b[39;00m \u001b[38;5;28mrange\u001b[39m(\u001b[38;5;241m1\u001b[39m, epochs \u001b[38;5;241m+\u001b[39m \u001b[38;5;241m1\u001b[39m):\n\u001b[0;32m----> 2\u001b[0m     train(vae, device, \u001b[43mtrain_loader\u001b[49m, optimizer, epoch, log_interval)\n\u001b[1;32m      3\u001b[0m     test(vae, device, test_loader)\n",
      "\u001b[0;31mNameError\u001b[0m: name 'train_loader' is not defined"
     ]
    }
   ],
   "source": [
    "for epoch in range(1, epochs + 1):\n",
    "    train(vae, device, train_loader, optimizer, epoch, log_interval)\n",
    "    test(vae, device, test_loader)"
   ]
  },
  {
   "cell_type": "code",
   "execution_count": null,
   "metadata": {
    "id": "p1644Gbj-FCM",
    "jukit_cell_id": "GZhv2SnWvs"
   },
   "outputs": [],
   "source": [
    "vae.eval()\n",
    "visualize_data(\n",
    "    vae(real_batch[0].to(device)).p.detach().cpu().numpy(),\n",
    "    labels=real_batch[1].cpu().numpy(),\n",
    "    max_images=8\n",
    ")"
   ]
  },
  {
   "cell_type": "code",
   "execution_count": null,
   "metadata": {
    "id": "14ZTUm0P-FCM",
    "jukit_cell_id": "zR2QvB46U2"
   },
   "outputs": [],
   "source": [
    "visualize_data(\n",
    "    torch.bernoulli(vae(real_batch[0].to(device)).p).detach().cpu().numpy(),\n",
    "    labels=real_batch[1].cpu().numpy(),\n",
    "    max_images=8\n",
    ")"
   ]
  },
  {
   "cell_type": "markdown",
   "metadata": {
    "id": "cSZ7dwSN-FCM",
    "jukit_cell_id": "3u0aaKb096"
   },
   "source": [
    "Visualization of latent space"
   ]
  },
  {
   "cell_type": "code",
   "execution_count": 16,
   "metadata": {
    "id": "t_MRrHCj-FCM",
    "jukit_cell_id": "ac2sV6BoJf"
   },
   "outputs": [],
   "source": [
    "# TODO\n",
    "# Task 5."
   ]
  },
  {
   "cell_type": "markdown",
   "metadata": {
    "id": "Ta0YPwc5-FCM",
    "jukit_cell_id": "GpGpgLNLS6"
   },
   "source": [
    "Sample interpolation"
   ]
  },
  {
   "cell_type": "code",
   "execution_count": 17,
   "metadata": {
    "id": "xzC_7MUS-FCM",
    "jukit_cell_id": "oy0iwiaUEv"
   },
   "outputs": [],
   "source": [
    "#%%capture\n",
    "# TODO\n",
    "# Task 6."
   ]
  },
  {
   "cell_type": "code",
   "execution_count": null,
   "metadata": {
    "id": "aMyu71gY-FCM",
    "jukit_cell_id": "EwZ5GE7s8b"
   },
   "outputs": [],
   "source": []
  }
 ],
 "metadata": {
  "anaconda-cloud": {},
  "colab": {
   "provenance": []
  },
  "kernelspec": {
   "display_name": "venv",
   "language": "python",
   "name": "python3"
  },
  "language_info": {
   "codemirror_mode": {
    "name": "ipython",
    "version": 3
   },
   "file_extension": ".py",
   "mimetype": "text/x-python",
   "name": "python",
   "nbconvert_exporter": "python",
   "pygments_lexer": "ipython3",
   "version": "3.12.8"
  }
 },
 "nbformat": 4,
 "nbformat_minor": 0
}
