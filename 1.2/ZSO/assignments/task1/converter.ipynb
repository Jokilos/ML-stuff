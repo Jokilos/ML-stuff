{
 "cells": [
  {
   "cell_type": "code",
<<<<<<< HEAD
   "execution_count": 33,
=======
   "execution_count": 225,
>>>>>>> f10d5e728e95fe614e8a52cd8b50af18d75df24d
   "metadata": {},
   "outputs": [],
   "source": [
    "import capstone\n",
<<<<<<< HEAD
    "import keystone\n",
=======
>>>>>>> f10d5e728e95fe614e8a52cd8b50af18d75df24d
    "import shutil\n",
    "import struct"
   ]
  },
  {
   "cell_type": "code",
<<<<<<< HEAD
   "execution_count": 34,
   "metadata": {},
   "outputs": [],
   "source": [
    "def make_idx_dict(names):\n",
    "    d = {} \n",
    "    for i, n in enumerate(names):\n",
    "        d[n] = i\n",
    "\n",
    "    return d"
=======
   "execution_count": 226,
   "metadata": {},
   "outputs": [],
   "source": [
    "HEADER_SIZE = 64 \n",
    "E_IDENT = 0\n",
    "E_TYPE = 0\n",
    "E_MACHINE = 0\n",
    "E_VERSION = 0\n",
    "E_ENTRY = 0\n",
    "E_PHOFF = 0\n",
    "E_SHOFF = 0\n",
    "E_FLAGS = 0\n",
    "E_EHSIZE = 0\n",
    "E_PHENTSIZE = 0\n",
    "E_PHNUM = 0\n",
    "E_SHENTSIZE = 0\n",
    "E_SHNUM = 0\n",
    "E_SHSTRNDX = 0"
>>>>>>> f10d5e728e95fe614e8a52cd8b50af18d75df24d
   ]
  },
  {
   "cell_type": "code",
<<<<<<< HEAD
   "execution_count": 35,
   "metadata": {},
   "outputs": [],
   "source": [
    "class Const:\n",
    "    HEADER_SIZE = 64 "
=======
   "execution_count": 228,
   "metadata": {},
   "outputs": [],
   "source": [
    "def print_elf_header(header_tuple, verbose = False):\n",
    "    global E_IDENT \n",
    "    global E_TYPE \n",
    "    global E_MACHINE \n",
    "    global E_VERSION \n",
    "    global E_ENTRY \n",
    "    global E_PHOFF \n",
    "    global E_SHOFF \n",
    "    global E_FLAGS \n",
    "    global E_EHSIZE \n",
    "    global E_PHENTSIZE \n",
    "    global E_PHNUM \n",
    "    global E_SHENTSIZE \n",
    "    global E_SHNUM \n",
    "    global E_SHSTRNDX \n",
    "\n",
    "    E_IDENT = header_tuple[0]  \n",
    "    E_TYPE = header_tuple[1]\n",
    "    E_MACHINE = header_tuple[2]\n",
    "    E_VERSION = header_tuple[3]\n",
    "    E_ENTRY = header_tuple[4]\n",
    "    E_PHOFF = header_tuple[5]\n",
    "    E_SHOFF = header_tuple[6]\n",
    "    E_FLAGS = header_tuple[7]\n",
    "    E_EHSIZE = header_tuple[8]\n",
    "    E_PHENTSIZE = header_tuple[9]\n",
    "    E_PHNUM = header_tuple[10]\n",
    "    E_SHENTSIZE = header_tuple[11]\n",
    "    E_SHNUM = header_tuple[12]\n",
    "    E_SHSTRNDX = header_tuple[13]\n",
    "\n",
    "    if verbose:\n",
    "        print(\"e_ident:\", E_IDENT)\n",
    "        print(\"e_type:\", E_TYPE)\n",
    "        print(\"e_machine:\", E_MACHINE)\n",
    "        print(\"e_version:\", E_VERSION)\n",
    "        print(\"e_entry:\", hex(E_ENTRY))\n",
    "        print(\"e_phoff:\", hex(E_PHOFF))\n",
    "        print(\"e_shoff:\", hex(E_SHOFF))\n",
    "        print(\"e_flags:\", E_FLAGS)\n",
    "        print(\"e_ehsize:\", E_EHSIZE)\n",
    "        print(\"e_phentsize:\", E_PHENTSIZE)\n",
    "        print(\"e_phnum:\", E_PHNUM)\n",
    "        print(\"e_shentsize:\", E_SHENTSIZE)\n",
    "        print(\"e_shnum:\", E_SHNUM)\n",
    "        print(\"e_shstrndx:\", E_SHSTRNDX)"
>>>>>>> f10d5e728e95fe614e8a52cd8b50af18d75df24d
   ]
  },
  {
   "cell_type": "code",
<<<<<<< HEAD
   "execution_count": 36,
   "metadata": {},
   "outputs": [],
   "source": [
    "class ElfHeader:\n",
    "    unpacked_data = None\n",
    "\n",
    "    fields = [\n",
    "        \"e_ident\",\n",
    "        \"e_type\",\n",
    "        \"e_machine\",\n",
    "        \"e_version\",\n",
    "        \"e_entry\",\n",
    "        \"e_phoff\",\n",
    "        \"e_shoff\",\n",
    "        \"e_flags\",\n",
    "        \"e_ehsize\",\n",
    "        \"e_phentsize\",\n",
    "        \"e_phnum\",\n",
    "        \"e_shentsize\",\n",
    "        \"e_shnum\",\n",
    "        \"e_shstrndx\",\n",
    "    ]\n",
    "\n",
    "    idx_dict = make_idx_dict(fields)\n",
    "\n",
    "    format = (\n",
=======
   "execution_count": null,
   "metadata": {},
   "outputs": [],
   "source": [
    "def read_elf_header(file_path):\n",
    "    with open(file_path, 'rb') as f:\n",
    "        elf_data = f.read()\n",
    "\n",
    "    if elf_data[:4] != b'\\x7fELF':\n",
    "        raise ValueError(\"Not a valid ELF file.\")\n",
    "\n",
    "    elf_header_format = (\n",
>>>>>>> f10d5e728e95fe614e8a52cd8b50af18d75df24d
    "        # e_ident (16 bytes), e_type (2 bytes), e_machine (2 bytes), e_version (4 bytes)\n",
    "        '< 16s H H I' +\n",
    "        # e_entry (8 bytes), e_phoff (8 bytes), e_shoff (8 bytes), e_flags (4 bytes)\n",
    "        'Q Q Q I' +\n",
    "        # e_ehsize (2 bytes), e_phentsize (2 bytes), e_phnum (2 bytes), e_shentsize (2 bytes)\n",
    "        'H H H H' +\n",
    "        # e_shnum (2 bytes), e_shstrndx (2 bytes)\n",
    "        'H H'\n",
    "    )\n",
    "\n",
<<<<<<< HEAD
    "    def print():\n",
    "        for i, f in enumerate(ElfHeader.fields):\n",
    "            print(f'{f}: {ElfHeader.unpacked_data[i]}')\n",
    "    \n",
    "    def read_elf_header():\n",
    "        if ElfFile.data[:4] != b'\\x7fELF':\n",
    "            raise ValueError(\"Not a valid ELF file.\")\n",
    "        \n",
    "        ElfHeader.unpacked_data = list(struct.unpack(ElfHeader.format, ElfFile.data[:Const.HEADER_SIZE]))\n",
    "\n",
    "    def overwrite_elf_header(file_path):\n",
    "        amd_machine = 0x003e\n",
    "        ElfHeader.unpacked_data[2] = amd_machine\n",
    "\n",
    "        packed_data = struct.pack(ElfHeader.format, *ElfHeader.unpacked_data)\n",
    "\n",
    "        with open(file_path, 'wb') as f:\n",
    "            f.write(packed_data)\n",
    "            f.write(ElfFile.data[Const.HEADER_SIZE:])\n",
    "\n",
    "    def get(name):\n",
    "        idx = ElfHeader.idx_dict[name]\n",
    "        return ElfHeader.unpacked_data[idx]"
=======
    "    amd_machine = 0x003e\n",
    "\n",
    "    unpacked_data = list(struct.unpack(elf_header_format, elf_data[:HEADER_SIZE]))\n",
    "    unpacked_data[2] = amd_machine\n",
    "\n",
    "    print_elf_header(unpacked_data)\n",
    "\n",
    "    packed_data = struct.pack(elf_header_format, *unpacked_data)\n",
    "\n",
    "    with open(file_path, 'wb') as f:\n",
    "        f.write(packed_data)\n",
    "        f.write(elf_data[HEADER_SIZE:])\n",
    "\n",
    "    return unpacked_data[6], unpacked_data[11]\n"
>>>>>>> f10d5e728e95fe614e8a52cd8b50af18d75df24d
   ]
  },
  {
   "cell_type": "code",
   "execution_count": null,
   "metadata": {},
   "outputs": [],
   "source": [
<<<<<<< HEAD
    "class SectionHeader:\n",
    "    fields = [\n",
    "        \"sh_name\",      # Section name (index into section header string table)\n",
    "        \"sh_type\",      # Section type\n",
    "        \"sh_flags\",     # Section attributes\n",
    "        \"sh_addr\",      # Virtual address in memory\n",
    "        \"sh_offset\",    # Offset in file\n",
    "        \"sh_size\",      # Size of section\n",
    "        \"sh_link\",      # Link to other section\n",
    "        \"sh_info\",      # Miscellaneous information\n",
    "        \"sh_addralign\", # Address alignment boundary\n",
    "        \"sh_entsize\"    # Size of entries, if section has table\n",
    "    ]\n",
    "\n",
    "    format = (\n",
    "        # sh_name (4 bytes), sh_type (4 bytes), sh_flags (8 bytes), sh_addr (8 bytes)\n",
    "        '< I I Q Q' +  \n",
    "        # sh_offset (8 bytes), sh_size (8 bytes), sh_link (4 bytes), sh_info (4 bytes)\n",
    "        'Q Q I I' +    \n",
    "        # sh_addralign (8 bytes), sh_entsize (8 bytes)\n",
    "        'Q Q' \n",
    "    )\n",
    "\n",
    "    idx_dict = make_idx_dict(fields)\n",
    "\n",
    "    shstroff = None\n",
    "    \n",
    "    def __init__(self, offset):\n",
    "        self.unpacked_data = list(\n",
    "            struct.unpack(\n",
    "                SectionHeader.format, \n",
    "                ElfFile.data[offset : offset + ElfHeader.get('e_shentsize')],\n",
    "            )\n",
    "        )\n",
    "\n",
    "        sh_off = self.get('sh_offset')\n",
    "        self.data = ElfFile.data[sh_off : sh_off + self.get('sh_size')]\n",
    "\n",
    "        self.name = None\n",
    "\n",
    "    def print(self):\n",
    "        for i, f in enumerate(SectionHeader.fields):\n",
    "            print(f'{f}: {self.data[i]}')\n",
    "\n",
    "    def get(self, name):\n",
    "        idx = SectionHeader.idx_dict[name]\n",
    "        return self.unpacked_data[idx]\n",
    "    \n",
    "    def set_name(self, verbose = True):\n",
    "        name_offset = self.get('sh_name') + SectionHeader.shstroff \n",
    "        name_end = ElfFile.data.find(b'\\x00', name_offset)\n",
    "        name_len = name_end - name_offset\n",
    "\n",
    "        self.name = struct.unpack(f'{name_len}s', ElfFile.data[name_offset : name_end])\n",
    "\n",
    "        if verbose:\n",
    "            print(self.name)\n",
    "\n",
    "    def set_data(self):\n",
    "        \n",
    "\n"
   ]
  },
  {
   "cell_type": "code",
   "execution_count": null,
   "metadata": {},
   "outputs": [],
   "source": [
    "class ElfFile:\n",
    "    data = None\n",
    "    section_headers = []\n",
    "\n",
    "    def setup(file_path):\n",
    "        with open(file_path, 'rb') as f:\n",
    "            ElfFile.data = f.read()\n",
    "\n",
    "    def read_elf_header():\n",
    "        ElfHeader.read_elf_header()\n",
    "\n",
    "    def read_section_headers():\n",
    "        for i in range(ElfHeader.get('e_shnum')):\n",
    "            offset = ElfHeader.get('e_shoff') + i * ElfHeader.get('e_shentsize')\n",
    "\n",
    "            ElfFile.section_headers += [SectionHeader(offset)]\n",
    "        \n",
    "        shstrns = ElfFile.section_headers[ElfHeader.get('e_shstrndx')]\n",
    "        SectionHeader.shstroff = shstrns.get('sh_offset')\n",
    "\n",
    "        for sh in ElfFile.section_headers:\n",
    "            sh.set_name()\n",
    "\n",
    "    def find_code_sections():\n",
    "        code_sections = []\n",
    "\n",
    "        for sh in ElfFile.section_headers: \n",
    "            base_offset = ElfHeader.get('e_shoff') + i * ElfHeader.get('e_shentsize')\n",
    "\n",
    "            if sh.get('sh_type')== 1:  # SHT_PROGBITS \n",
    "                code_section = ElfFile.data[sh.get('sh_offset') : sh.get('sh_offset') + sh.get('sh_size')]\n",
    "                code_section_found = True\n",
    "\n",
    "        if not code_section_found:\n",
    "            raise ValueError(\"No code section found in the ELF file.\")\n",
    "        \n",
    "        return code_section"
   ]
  },
  {
   "cell_type": "code",
   "execution_count": 39,
   "metadata": {},
   "outputs": [],
   "source": [
=======
>>>>>>> f10d5e728e95fe614e8a52cd8b50af18d75df24d
    "def disassemble_code(code_section):\n",
    "    # Initialize Capstone with the AArch64 architecture\n",
    "    md = capstone.Cs(capstone.CS_ARCH_ARM64, capstone.CS_MODE_ARM)\n",
    "\n",
    "    # Disassemble the code section\n",
<<<<<<< HEAD
    "    instructions = md.disasm(code_section, 0x0)  # 0x1000 is an arbitrary address\n",
=======
    "    instructions = md.disasm(code_section, 0x1000)  # 0x1000 is an arbitrary address\n",
>>>>>>> f10d5e728e95fe614e8a52cd8b50af18d75df24d
    "\n",
    "    for insn in instructions:\n",
    "        print(f\"0x{insn.address:x}:\\t{insn.mnemonic}\\t{insn.op_str}\")"
   ]
  },
  {
   "cell_type": "code",
<<<<<<< HEAD
   "execution_count": 40,
   "metadata": {},
   "outputs": [],
   "source": [
    "def assemble_code(code):\n",
    "    # separate assembly instructions by ; or \\n\n",
    "    CODE = b\"INC ecx; DEC edx\"\n",
    "    \n",
    "    try:\n",
    "        # Initialize engine in X86-32bit mode\n",
    "        ks = keystone.Ks(keystone.KS_ARCH_X86, keystone.KS_MODE_64)\n",
    "        encoding, count = ks.asm(CODE)\n",
    "        print(\"%s = %s (number of statements: %u)\" %(CODE, encoding, count))\n",
    "    except keystone.KsError as e:\n",
    "        print(\"ERROR: %s\" %e)"
=======
   "execution_count": 230,
   "metadata": {},
   "outputs": [],
   "source": [
    "def find_code_sections(file_path):\n",
    "    with open(file_path, 'rb') as f:\n",
    "        elf_data = f.read()\n",
    "\n",
    "    code_section = None\n",
    "    for i in range(e_shnum):\n",
    "        sh_offset = struct.unpack('<Q', elf_data[e_shoff + i * e_shentsize + 0x18:e_shoff + i * e_shentsize + 0x20])[0]\n",
    "        sh_size = struct.unpack('<Q', elf_data[e_shoff + i * e_shentsize + 0x20:e_shoff + i * e_shentsize + 0x28])[0]\n",
    "        sh_type = struct.unpack('<I', elf_data[e_shoff + i * e_shentsize + 0x04:e_shoff + i * e_shentsize + 0x08])[0]\n",
    "        \n",
    "        if sh_type == 1:  # SHT_PROGBITS is the type for code sections\n",
    "            code_section = elf_data[sh_offset:sh_offset + sh_size]\n",
    "            break\n",
    "\n",
    "    if not code_section:\n",
    "        raise ValueError(\"No code section found in the ELF file.\")\n",
    "    \n",
    "    return code_section"
>>>>>>> f10d5e728e95fe614e8a52cd8b50af18d75df24d
   ]
  },
  {
   "cell_type": "code",
<<<<<<< HEAD
   "execution_count": 41,
=======
   "execution_count": 231,
>>>>>>> f10d5e728e95fe614e8a52cd8b50af18d75df24d
   "metadata": {},
   "outputs": [
    {
     "name": "stdout",
     "output_type": "stream",
     "text": [
<<<<<<< HEAD
      "(b'',)\n",
      "(b'.text',)\n",
      "(b'.rela.text',)\n",
      "(b'.data',)\n",
      "(b'.bss',)\n",
      "(b'.rodata',)\n",
      "(b'.comment',)\n",
      "(b'.note.GNU-stack',)\n",
      "(b'.eh_frame',)\n",
      "(b'.rela.eh_frame',)\n",
      "(b'.symtab',)\n",
      "(b'.strtab',)\n",
      "(b'.shstrtab',)\n"
=======
      "62\n"
>>>>>>> f10d5e728e95fe614e8a52cd8b50af18d75df24d
     ]
    }
   ],
   "source": [
    "input = 'test-aarch64.o'  \n",
    "output = 'out.o'\n",
    "good_output = 'test-aarch64-x64.o'  \n",
    "\n",
    "shutil.copy(input, output)\n",
    "\n",
<<<<<<< HEAD
    "ElfFile.setup(input)\n",
    "ElfFile.read_elf_header()\n",
    "ElfFile.read_section_headers()\n",
    "\n",
    "# section = find_code_section(output)\n",
    "\n",
    "# disassemble_code(section)\n",
    "# assemble_code(None)"
   ]
  },
  {
   "cell_type": "code",
   "execution_count": 42,
   "metadata": {},
   "outputs": [],
   "source": [
    "def find_code_section(file_path):\n",
    "    with open(file_path, 'rb') as f:\n",
    "        elf_data = f.read()\n",
    "\n",
    "    code_section_found = False \n",
    "    for i in range(Const.E_SHNUM):\n",
    "        base_offset = Const.E_SHOFF + i * Const.E_SHENTSIZE \n",
    "\n",
    "        sh_offset = struct.unpack('<Q', elf_data[base_offset + 0x18 : base_offset + 0x20])[0]\n",
    "        sh_size = struct.unpack('<Q', elf_data[base_offset + 0x20 : base_offset + 0x28])[0]\n",
    "        sh_type = struct.unpack('<I', elf_data[base_offset + 0x04 : base_offset + 0x08])[0]\n",
    "\n",
    "        if sh_type == 1 and not code_section_found:  # SHT_PROGBITS \n",
    "            code_section = elf_data[sh_offset : sh_offset + sh_size]\n",
    "            code_section_found = True\n",
    "\n",
    "    if not code_section_found:\n",
    "        raise ValueError(\"No code section found in the ELF file.\")\n",
    "    \n",
    "    return code_section"
=======
    "e_shoff, e_shentsize = read_elf_header(output)\n",
    "print(E_MACHINE)\n",
    "# find_code_sectons(output, e_shoff, e_shentsize)\n"
>>>>>>> f10d5e728e95fe614e8a52cd8b50af18d75df24d
   ]
  },
  {
   "cell_type": "code",
   "execution_count": null,
   "metadata": {},
   "outputs": [],
   "source": []
  }
 ],
 "metadata": {
  "kernelspec": {
   "display_name": "venv",
   "language": "python",
   "name": "python3"
  },
  "language_info": {
   "codemirror_mode": {
    "name": "ipython",
    "version": 3
   },
   "file_extension": ".py",
   "mimetype": "text/x-python",
   "name": "python",
   "nbconvert_exporter": "python",
   "pygments_lexer": "ipython3",
   "version": "3.12.8"
  }
 },
 "nbformat": 4,
 "nbformat_minor": 2
}
