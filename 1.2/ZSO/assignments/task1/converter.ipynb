{
 "cells": [
  {
   "cell_type": "code",
   "execution_count": 225,
   "metadata": {},
   "outputs": [],
   "source": [
    "import capstone\n",
    "import shutil\n",
    "import struct"
   ]
  },
  {
   "cell_type": "code",
   "execution_count": 226,
   "metadata": {},
   "outputs": [],
   "source": [
    "HEADER_SIZE = 64 \n",
    "E_IDENT = 0\n",
    "E_TYPE = 0\n",
    "E_MACHINE = 0\n",
    "E_VERSION = 0\n",
    "E_ENTRY = 0\n",
    "E_PHOFF = 0\n",
    "E_SHOFF = 0\n",
    "E_FLAGS = 0\n",
    "E_EHSIZE = 0\n",
    "E_PHENTSIZE = 0\n",
    "E_PHNUM = 0\n",
    "E_SHENTSIZE = 0\n",
    "E_SHNUM = 0\n",
    "E_SHSTRNDX = 0"
   ]
  },
  {
   "cell_type": "code",
   "execution_count": 228,
   "metadata": {},
   "outputs": [],
   "source": [
    "def print_elf_header(header_tuple, verbose = False):\n",
    "    global E_IDENT \n",
    "    global E_TYPE \n",
    "    global E_MACHINE \n",
    "    global E_VERSION \n",
    "    global E_ENTRY \n",
    "    global E_PHOFF \n",
    "    global E_SHOFF \n",
    "    global E_FLAGS \n",
    "    global E_EHSIZE \n",
    "    global E_PHENTSIZE \n",
    "    global E_PHNUM \n",
    "    global E_SHENTSIZE \n",
    "    global E_SHNUM \n",
    "    global E_SHSTRNDX \n",
    "\n",
    "    E_IDENT = header_tuple[0]  \n",
    "    E_TYPE = header_tuple[1]\n",
    "    E_MACHINE = header_tuple[2]\n",
    "    E_VERSION = header_tuple[3]\n",
    "    E_ENTRY = header_tuple[4]\n",
    "    E_PHOFF = header_tuple[5]\n",
    "    E_SHOFF = header_tuple[6]\n",
    "    E_FLAGS = header_tuple[7]\n",
    "    E_EHSIZE = header_tuple[8]\n",
    "    E_PHENTSIZE = header_tuple[9]\n",
    "    E_PHNUM = header_tuple[10]\n",
    "    E_SHENTSIZE = header_tuple[11]\n",
    "    E_SHNUM = header_tuple[12]\n",
    "    E_SHSTRNDX = header_tuple[13]\n",
    "\n",
    "    if verbose:\n",
    "        print(\"e_ident:\", E_IDENT)\n",
    "        print(\"e_type:\", E_TYPE)\n",
    "        print(\"e_machine:\", E_MACHINE)\n",
    "        print(\"e_version:\", E_VERSION)\n",
    "        print(\"e_entry:\", hex(E_ENTRY))\n",
    "        print(\"e_phoff:\", hex(E_PHOFF))\n",
    "        print(\"e_shoff:\", hex(E_SHOFF))\n",
    "        print(\"e_flags:\", E_FLAGS)\n",
    "        print(\"e_ehsize:\", E_EHSIZE)\n",
    "        print(\"e_phentsize:\", E_PHENTSIZE)\n",
    "        print(\"e_phnum:\", E_PHNUM)\n",
    "        print(\"e_shentsize:\", E_SHENTSIZE)\n",
    "        print(\"e_shnum:\", E_SHNUM)\n",
    "        print(\"e_shstrndx:\", E_SHSTRNDX)"
   ]
  },
  {
   "cell_type": "code",
   "execution_count": null,
   "metadata": {},
   "outputs": [],
   "source": [
    "def read_elf_header(file_path):\n",
    "    with open(file_path, 'rb') as f:\n",
    "        elf_data = f.read()\n",
    "\n",
    "    if elf_data[:4] != b'\\x7fELF':\n",
    "        raise ValueError(\"Not a valid ELF file.\")\n",
    "\n",
    "    elf_header_format = (\n",
    "        # e_ident (16 bytes), e_type (2 bytes), e_machine (2 bytes), e_version (4 bytes)\n",
    "        '< 16s H H I' +\n",
    "        # e_entry (8 bytes), e_phoff (8 bytes), e_shoff (8 bytes), e_flags (4 bytes)\n",
    "        'Q Q Q I' +\n",
    "        # e_ehsize (2 bytes), e_phentsize (2 bytes), e_phnum (2 bytes), e_shentsize (2 bytes)\n",
    "        'H H H H' +\n",
    "        # e_shnum (2 bytes), e_shstrndx (2 bytes)\n",
    "        'H H'\n",
    "    )\n",
    "\n",
    "    amd_machine = 0x003e\n",
    "\n",
    "    unpacked_data = list(struct.unpack(elf_header_format, elf_data[:HEADER_SIZE]))\n",
    "    unpacked_data[2] = amd_machine\n",
    "\n",
    "    print_elf_header(unpacked_data)\n",
    "\n",
    "    packed_data = struct.pack(elf_header_format, *unpacked_data)\n",
    "\n",
    "    with open(file_path, 'wb') as f:\n",
    "        f.write(packed_data)\n",
    "        f.write(elf_data[HEADER_SIZE:])\n",
    "\n",
    "    return unpacked_data[6], unpacked_data[11]\n"
   ]
  },
  {
   "cell_type": "code",
   "execution_count": null,
   "metadata": {},
   "outputs": [],
   "source": [
    "def disassemble_code(code_section):\n",
    "    # Initialize Capstone with the AArch64 architecture\n",
    "    md = capstone.Cs(capstone.CS_ARCH_ARM64, capstone.CS_MODE_ARM)\n",
    "\n",
    "    # Disassemble the code section\n",
    "    instructions = md.disasm(code_section, 0x1000)  # 0x1000 is an arbitrary address\n",
    "\n",
    "    for insn in instructions:\n",
    "        print(f\"0x{insn.address:x}:\\t{insn.mnemonic}\\t{insn.op_str}\")"
   ]
  },
  {
   "cell_type": "code",
   "execution_count": 230,
   "metadata": {},
   "outputs": [],
   "source": [
    "def find_code_sections(file_path):\n",
    "    with open(file_path, 'rb') as f:\n",
    "        elf_data = f.read()\n",
    "\n",
    "    code_section = None\n",
    "    for i in range(e_shnum):\n",
    "        sh_offset = struct.unpack('<Q', elf_data[e_shoff + i * e_shentsize + 0x18:e_shoff + i * e_shentsize + 0x20])[0]\n",
    "        sh_size = struct.unpack('<Q', elf_data[e_shoff + i * e_shentsize + 0x20:e_shoff + i * e_shentsize + 0x28])[0]\n",
    "        sh_type = struct.unpack('<I', elf_data[e_shoff + i * e_shentsize + 0x04:e_shoff + i * e_shentsize + 0x08])[0]\n",
    "        \n",
    "        if sh_type == 1:  # SHT_PROGBITS is the type for code sections\n",
    "            code_section = elf_data[sh_offset:sh_offset + sh_size]\n",
    "            break\n",
    "\n",
    "    if not code_section:\n",
    "        raise ValueError(\"No code section found in the ELF file.\")\n",
    "    \n",
    "    return code_section"
   ]
  },
  {
   "cell_type": "code",
   "execution_count": 231,
   "metadata": {},
   "outputs": [
    {
     "name": "stdout",
     "output_type": "stream",
     "text": [
      "62\n"
     ]
    }
   ],
   "source": [
    "input = 'test-aarch64.o'  \n",
    "output = 'out.o'\n",
    "good_output = 'test-aarch64-x64.o'  \n",
    "\n",
    "shutil.copy(input, output)\n",
    "\n",
    "e_shoff, e_shentsize = read_elf_header(output)\n",
    "print(E_MACHINE)\n",
    "# find_code_sectons(output, e_shoff, e_shentsize)\n"
   ]
  },
  {
   "cell_type": "code",
   "execution_count": null,
   "metadata": {},
   "outputs": [],
   "source": []
  }
 ],
 "metadata": {
  "kernelspec": {
   "display_name": "venv",
   "language": "python",
   "name": "python3"
  },
  "language_info": {
   "codemirror_mode": {
    "name": "ipython",
    "version": 3
   },
   "file_extension": ".py",
   "mimetype": "text/x-python",
   "name": "python",
   "nbconvert_exporter": "python",
   "pygments_lexer": "ipython3",
   "version": "3.12.8"
  }
 },
 "nbformat": 4,
 "nbformat_minor": 2
}
